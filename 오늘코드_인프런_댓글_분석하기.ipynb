{
  "nbformat": 4,
  "nbformat_minor": 0,
  "metadata": {
    "colab": {
      "name": "오늘코드 인프런 댓글 분석하기",
      "provenance": [],
      "collapsed_sections": [],
      "authorship_tag": "ABX9TyPRVN7oQ5c7QWWGdva+tWSy",
      "include_colab_link": true
    },
    "kernelspec": {
      "name": "python3",
      "display_name": "Python 3"
    }
  },
  "cells": [
    {
      "cell_type": "markdown",
      "metadata": {
        "id": "view-in-github",
        "colab_type": "text"
      },
      "source": [
        "<a href=\"https://colab.research.google.com/github/seoran/github-slideshow/blob/master/%EC%98%A4%EB%8A%98%EC%BD%94%EB%93%9C_%EC%9D%B8%ED%94%84%EB%9F%B0_%EB%8C%93%EA%B8%80_%EB%B6%84%EC%84%9D%ED%95%98%EA%B8%B0.ipynb\" target=\"_parent\"><img src=\"https://colab.research.google.com/assets/colab-badge.svg\" alt=\"Open In Colab\"/></a>"
      ]
    },
    {
      "cell_type": "code",
      "metadata": {
        "id": "MG5sc7WAAS1U",
        "colab_type": "code",
        "colab": {}
      },
      "source": [
        "#기획자나 마케터가 되어 이벤트 댓글 분석을 해보자!\n",
        "#댓글 속에 제품에 대한 관심을 빈도 수로 추출해야 한다면?\n",
        "# 쇼핑몰에서 제품 관련 이벤트 진행시 어떤 제품을 고객이 선호하는지 알기 위해서\n",
        "# 고객 디비와 연계할 수 있다면 이벤트 혹은 마케팅 세그먼트로 활용해 볼 수도 있지 않을까\n",
        "\n",
        "# 데이터 전략을 세우기 위함\n"
      ],
      "execution_count": null,
      "outputs": []
    },
    {
      "cell_type": "code",
      "metadata": {
        "id": "Fg-YQf0nFC5R",
        "colab_type": "code",
        "colab": {}
      },
      "source": [
        "# 1. 인프런 2020년 새해 다짐 이벤트 댓글 크롤링"
      ],
      "execution_count": null,
      "outputs": []
    },
    {
      "cell_type": "code",
      "metadata": {
        "id": "9Nj4rw7HJRJE",
        "colab_type": "code",
        "colab": {}
      },
      "source": [
        "import requests\n",
        "from bs4 import BeautifulSoup as bs\n",
        "import pandas as pd\n",
        "\n",
        "from tqdm import trange"
      ],
      "execution_count": 7,
      "outputs": []
    },
    {
      "cell_type": "code",
      "metadata": {
        "id": "3t8A5WPLFPcU",
        "colab_type": "code",
        "colab": {
          "base_uri": "https://localhost:8080/",
          "height": 34
        },
        "outputId": "fd40781a-6926-45e0-81cd-24ee5dc00fb8"
      },
      "source": [
        "base_url=\"https://www.inflearn.com/pages/newyear-event-20200102\"\n",
        "response=requests.get( base_url )\n",
        "\n",
        "response"
      ],
      "execution_count": 20,
      "outputs": [
        {
          "output_type": "execute_result",
          "data": {
            "text/plain": [
              "<Response [200]>"
            ]
          },
          "metadata": {
            "tags": []
          },
          "execution_count": 20
        }
      ]
    },
    {
      "cell_type": "code",
      "metadata": {
        "id": "I07aJS-BJ3BN",
        "colab_type": "code",
        "colab": {}
      },
      "source": [
        "soup= bs(response.text,'html.parser')"
      ],
      "execution_count": 21,
      "outputs": []
    },
    {
      "cell_type": "code",
      "metadata": {
        "id": "jN4lRQMlJ3aE",
        "colab_type": "code",
        "colab": {}
      },
      "source": [
        "content=soup.select(\"#main>\")"
      ],
      "execution_count": null,
      "outputs": []
    },
    {
      "cell_type": "code",
      "metadata": {
        "id": "hglpji0YOJKC",
        "colab_type": "code",
        "colab": {}
      },
      "source": [
        "#main > section > div > div > div.chitchats > div.chitchat-list > div\n",
        "#main > section > div > div > div.chitchats > div.chitchat-list > div > div.body.edit-chitchat"
      ],
      "execution_count": null,
      "outputs": []
    },
    {
      "cell_type": "code",
      "metadata": {
        "id": "PLGQO_V3OpMk",
        "colab_type": "code",
        "colab": {
          "base_uri": "https://localhost:8080/",
          "height": 547
        },
        "outputId": "bac9fc10-2fc5-47ad-fef2-aa963e1cc341"
      },
      "source": [
        "content=soup.select(\"main > section > div > div > div.chitchats > div.chitchat-list > div\")\n",
        "content[-1]"
      ],
      "execution_count": 23,
      "outputs": [
        {
          "output_type": "execute_result",
          "data": {
            "text/plain": [
              "<div class=\"chitchat-item\">\n",
              "<figure class=\"image is-48x48\">\n",
              "<img alt=\"인프런\" class=\"user_thumb is-rounded\" src=\"https://cdn.inflearn.com/wp-content/uploads/avatars/17/b415d9fa24d186c4adf22ca9a49116b5-bpfull.png\"/>\n",
              "</figure>\n",
              "<div class=\"content\">\n",
              "<div class=\"author\">\n",
              "<span class=\"author_name\">인프런</span>\n",
              "<time class=\"created_at\" datetime=\"Sun Dec 29 2019 17:59:00 GMT+0900 (GMT+09:00)\">⋅ 7개월 전</time>\n",
              "<a class=\"update-chitchat edit-chitchat is-hidden\" data-id=\"18594\" type=\"button\">저장</a>\n",
              "<a class=\"hidden-editor edit-chitchat is-hidden\" type=\"button\">취소</a>\n",
              "<a class=\"edit-chitchat no_cmt_reply\" type=\"button\">답글달기</a>\n",
              "</div>\n",
              "<div class=\"body edit-chitchat\">인프런 0호 팀원이에요!\n",
              "그동안 서비스 개발 때문에 js 를 많이 했었는데 앞으론 통계나 분석을 많이 하고 싶어서 파이썬을 공부하고 싶어요! 올해 파이썬 마스터가 되는걸로..\n",
              "#관심강의: 남박사의 파이썬 활용</div>\n",
              "<textarea class=\"textarea edit-chitchat is-hidden\"></textarea>\n",
              "<div class=\"summary_comments\">\n",
              "</div>\n",
              "<div class=\"chitchats_and_editor is-hidden\">\n",
              "<div class=\"chitchat-comment-list\">\n",
              "</div>\n",
              "<div class=\"cmt-editor\">\n",
              "<div class=\"field\">\n",
              "<textarea class=\"textarea\" placeholder=\"내용을 입력해 주세요.\"></textarea>\n",
              "</div>\n",
              "<button class=\"insert-chitchat-cmt button\" data-post_id=\"18594\" type=\"button\">등록</button>\n",
              "</div>\n",
              "</div>\n",
              "</div>\n",
              "</div>"
            ]
          },
          "metadata": {
            "tags": []
          },
          "execution_count": 23
        }
      ]
    },
    {
      "cell_type": "code",
      "metadata": {
        "id": "CCuDSFvLP7qV",
        "colab_type": "code",
        "colab": {
          "base_uri": "https://localhost:8080/",
          "height": 52
        },
        "outputId": "c4702aea-e79a-42f1-9f43-7b988598f188"
      },
      "source": [
        "content[-1].select(\"div.body.edit-chitchat\")[0].get_text(strip=True)"
      ],
      "execution_count": 28,
      "outputs": [
        {
          "output_type": "execute_result",
          "data": {
            "application/vnd.google.colaboratory.intrinsic": {
              "type": "string"
            },
            "text/plain": [
              "'인프런 0호 팀원이에요!\\n그동안 서비스 개발 때문에 js 를 많이 했었는데 앞으론 통계나 분석을 많이 하고 싶어서 파이썬을 공부하고 싶어요! 올해 파이썬 마스터가 되는걸로..\\n#관심강의: 남박사의 파이썬 활용'"
            ]
          },
          "metadata": {
            "tags": []
          },
          "execution_count": 28
        }
      ]
    },
    {
      "cell_type": "code",
      "metadata": {
        "id": "5EGWpnaGPWga",
        "colab_type": "code",
        "colab": {
          "base_uri": "https://localhost:8080/",
          "height": 52
        },
        "outputId": "2785be36-4091-40df-f59a-77e01360d5df"
      },
      "source": [
        "chitchat=content[-1].select(\"div.body.edit-chitchat\")[0].get_text(strip=True)\n",
        "chitchat"
      ],
      "execution_count": 31,
      "outputs": [
        {
          "output_type": "execute_result",
          "data": {
            "application/vnd.google.colaboratory.intrinsic": {
              "type": "string"
            },
            "text/plain": [
              "'인프런 0호 팀원이에요!\\n그동안 서비스 개발 때문에 js 를 많이 했었는데 앞으론 통계나 분석을 많이 하고 싶어서 파이썬을 공부하고 싶어요! 올해 파이썬 마스터가 되는걸로..\\n#관심강의: 남박사의 파이썬 활용'"
            ]
          },
          "metadata": {
            "tags": []
          },
          "execution_count": 31
        }
      ]
    },
    {
      "cell_type": "code",
      "metadata": {
        "id": "sYYZvnJcP6W1",
        "colab_type": "code",
        "colab": {
          "base_uri": "https://localhost:8080/",
          "height": 221
        },
        "outputId": "62960b35-429e-4688-baa8-dfeba4ec5fb7"
      },
      "source": [
        "events=[]\n",
        "for i in range(5):\n",
        "  print(\"-\"*20)\n",
        "  chitchat=content[i].select(\"div.body.edit-chitchat\")[0].get_text(strip=True)\n",
        "  print(chitchat)\n",
        "  events.append(chitchat)"
      ],
      "execution_count": 39,
      "outputs": [
        {
          "output_type": "stream",
          "text": [
            "--------------------\n",
            "2020년 목표: 스프링 열심히 공부하서 직장에서 사랑받고 싶어요!!\n",
            "관심 있는 강의 : 스프링 웹 MVC\n",
            "--------------------\n",
            "2020년 목표: C++ 열심히 공부해서, 학교에서 꼭 A 맞기..!! \n",
            "관심있는 강의: 따배씨 C++\n",
            "--------------------\n",
            "2020년 목표 : 리액트 공부하기\n",
            "--------------------\n",
            "40대 프로그래밍 시작! : 우리를 위한 프로그래밍 : 파이썬 중급\n",
            "--------------------\n",
            "2020년 목표 : 돌머리 비전공자가 멋진 전공자 되기!\n"
          ],
          "name": "stdout"
        }
      ]
    },
    {
      "cell_type": "code",
      "metadata": {
        "id": "g77rfIPJRRIZ",
        "colab_type": "code",
        "colab": {
          "base_uri": "https://localhost:8080/",
          "height": 102
        },
        "outputId": "6ebc1914-048d-452b-b584-d7606c4d6b03"
      },
      "source": [
        "events"
      ],
      "execution_count": 40,
      "outputs": [
        {
          "output_type": "execute_result",
          "data": {
            "text/plain": [
              "['2020년 목표: 스프링 열심히 공부하서 직장에서 사랑받고 싶어요!!\\n관심 있는 강의 : 스프링 웹 MVC',\n",
              " '2020년 목표: C++ 열심히 공부해서, 학교에서 꼭 A 맞기..!! \\n관심있는 강의: 따배씨 C++',\n",
              " '2020년 목표 : 리액트 공부하기',\n",
              " '40대 프로그래밍 시작! : 우리를 위한 프로그래밍 : 파이썬 중급',\n",
              " '2020년 목표 : 돌머리 비전공자가 멋진 전공자 되기!']"
            ]
          },
          "metadata": {
            "tags": []
          },
          "execution_count": 40
        }
      ]
    },
    {
      "cell_type": "code",
      "metadata": {
        "id": "1tizfRMlPjFO",
        "colab_type": "code",
        "colab": {
          "base_uri": "https://localhost:8080/",
          "height": 34
        },
        "outputId": "ed202e22-7388-4f6a-e26a-a4ed8912d606"
      },
      "source": [
        "content_count=len(content)\n",
        "content_count"
      ],
      "execution_count": 37,
      "outputs": [
        {
          "output_type": "execute_result",
          "data": {
            "text/plain": [
              "2447"
            ]
          },
          "metadata": {
            "tags": []
          },
          "execution_count": 37
        }
      ]
    },
    {
      "cell_type": "code",
      "metadata": {
        "id": "OBmah77DQ5rv",
        "colab_type": "code",
        "colab": {
          "base_uri": "https://localhost:8080/",
          "height": 34
        },
        "outputId": "34b60025-76a6-4378-cddb-1da67482ee66"
      },
      "source": [
        "events=[]\n",
        "for i in trange(content_count):\n",
        "  chitchat=content[i].select(\"div.body.edit-chitchat\")[0].get_text(strip=True)\n",
        "  events.append(chitchat)"
      ],
      "execution_count": 41,
      "outputs": [
        {
          "output_type": "stream",
          "text": [
            "100%|██████████| 2447/2447 [00:00<00:00, 13365.74it/s]\n"
          ],
          "name": "stderr"
        }
      ]
    },
    {
      "cell_type": "code",
      "metadata": {
        "id": "uJ8-r-vLRm1m",
        "colab_type": "code",
        "colab": {
          "base_uri": "https://localhost:8080/",
          "height": 419
        },
        "outputId": "9fd8132e-f013-452c-9074-a094695e6e2d"
      },
      "source": [
        "pd.DataFrame({\"text\":events})"
      ],
      "execution_count": 44,
      "outputs": [
        {
          "output_type": "execute_result",
          "data": {
            "text/html": [
              "<div>\n",
              "<style scoped>\n",
              "    .dataframe tbody tr th:only-of-type {\n",
              "        vertical-align: middle;\n",
              "    }\n",
              "\n",
              "    .dataframe tbody tr th {\n",
              "        vertical-align: top;\n",
              "    }\n",
              "\n",
              "    .dataframe thead th {\n",
              "        text-align: right;\n",
              "    }\n",
              "</style>\n",
              "<table border=\"1\" class=\"dataframe\">\n",
              "  <thead>\n",
              "    <tr style=\"text-align: right;\">\n",
              "      <th></th>\n",
              "      <th>text</th>\n",
              "    </tr>\n",
              "  </thead>\n",
              "  <tbody>\n",
              "    <tr>\n",
              "      <th>0</th>\n",
              "      <td>2020년 목표: 스프링 열심히 공부하서 직장에서 사랑받고 싶어요!!\\n관심 있는 ...</td>\n",
              "    </tr>\n",
              "    <tr>\n",
              "      <th>1</th>\n",
              "      <td>2020년 목표: C++ 열심히 공부해서, 학교에서 꼭 A 맞기..!! \\n관심있는...</td>\n",
              "    </tr>\n",
              "    <tr>\n",
              "      <th>2</th>\n",
              "      <td>2020년 목표 : 리액트 공부하기</td>\n",
              "    </tr>\n",
              "    <tr>\n",
              "      <th>3</th>\n",
              "      <td>40대 프로그래밍 시작! : 우리를 위한 프로그래밍 : 파이썬 중급</td>\n",
              "    </tr>\n",
              "    <tr>\n",
              "      <th>4</th>\n",
              "      <td>2020년 목표 : 돌머리 비전공자가 멋진 전공자 되기!</td>\n",
              "    </tr>\n",
              "    <tr>\n",
              "      <th>...</th>\n",
              "      <td>...</td>\n",
              "    </tr>\n",
              "    <tr>\n",
              "      <th>2442</th>\n",
              "      <td>작년 한해도 일이 바쁘다, 야근해서 힘들다는 핑계로 김영한님의 JPA 강의를 또 스...</td>\n",
              "    </tr>\n",
              "    <tr>\n",
              "      <th>2443</th>\n",
              "      <td>저는 졸업을 1년 남기고 있는 컴퓨터공학과 학생입니다. 졸업 프로젝트로 웹/앱 개발...</td>\n",
              "    </tr>\n",
              "    <tr>\n",
              "      <th>2444</th>\n",
              "      <td>에프터 이펙트를 써본 적은 있는데, 매번 기초만 배우다 말았어요. 이걸 할 줄 안다...</td>\n",
              "    </tr>\n",
              "    <tr>\n",
              "      <th>2445</th>\n",
              "      <td>저번에 인프런에서 페이스북 마케팅 강의를 듣고 많은 도움을 받았습니다. 마케팅 업무...</td>\n",
              "    </tr>\n",
              "    <tr>\n",
              "      <th>2446</th>\n",
              "      <td>인프런 0호 팀원이에요!\\n그동안 서비스 개발 때문에 js 를 많이 했었는데 앞으론...</td>\n",
              "    </tr>\n",
              "  </tbody>\n",
              "</table>\n",
              "<p>2447 rows × 1 columns</p>\n",
              "</div>"
            ],
            "text/plain": [
              "                                                   text\n",
              "0     2020년 목표: 스프링 열심히 공부하서 직장에서 사랑받고 싶어요!!\\n관심 있는 ...\n",
              "1     2020년 목표: C++ 열심히 공부해서, 학교에서 꼭 A 맞기..!! \\n관심있는...\n",
              "2                                   2020년 목표 : 리액트 공부하기\n",
              "3                 40대 프로그래밍 시작! : 우리를 위한 프로그래밍 : 파이썬 중급\n",
              "4                       2020년 목표 : 돌머리 비전공자가 멋진 전공자 되기!\n",
              "...                                                 ...\n",
              "2442  작년 한해도 일이 바쁘다, 야근해서 힘들다는 핑계로 김영한님의 JPA 강의를 또 스...\n",
              "2443  저는 졸업을 1년 남기고 있는 컴퓨터공학과 학생입니다. 졸업 프로젝트로 웹/앱 개발...\n",
              "2444  에프터 이펙트를 써본 적은 있는데, 매번 기초만 배우다 말았어요. 이걸 할 줄 안다...\n",
              "2445  저번에 인프런에서 페이스북 마케팅 강의를 듣고 많은 도움을 받았습니다. 마케팅 업무...\n",
              "2446  인프런 0호 팀원이에요!\\n그동안 서비스 개발 때문에 js 를 많이 했었는데 앞으론...\n",
              "\n",
              "[2447 rows x 1 columns]"
            ]
          },
          "metadata": {
            "tags": []
          },
          "execution_count": 44
        }
      ]
    },
    {
      "cell_type": "code",
      "metadata": {
        "id": "4LPfa065RvoW",
        "colab_type": "code",
        "colab": {}
      },
      "source": [
        ""
      ],
      "execution_count": null,
      "outputs": []
    }
  ]
}