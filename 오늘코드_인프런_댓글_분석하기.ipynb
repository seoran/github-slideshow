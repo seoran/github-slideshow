{
  "nbformat": 4,
  "nbformat_minor": 0,
  "metadata": {
    "colab": {
      "name": "오늘코드 인프런 댓글 분석하기",
      "provenance": [],
      "collapsed_sections": [],
      "authorship_tag": "ABX9TyPVFNyP42nLCEHfVapJ5/FW",
      "include_colab_link": true
    },
    "kernelspec": {
      "name": "python3",
      "display_name": "Python 3"
    }
  },
  "cells": [
    {
      "cell_type": "markdown",
      "metadata": {
        "id": "view-in-github",
        "colab_type": "text"
      },
      "source": [
        "<a href=\"https://colab.research.google.com/github/seoran/github-slideshow/blob/master/%EC%98%A4%EB%8A%98%EC%BD%94%EB%93%9C_%EC%9D%B8%ED%94%84%EB%9F%B0_%EB%8C%93%EA%B8%80_%EB%B6%84%EC%84%9D%ED%95%98%EA%B8%B0.ipynb\" target=\"_parent\"><img src=\"https://colab.research.google.com/assets/colab-badge.svg\" alt=\"Open In Colab\"/></a>"
      ]
    },
    {
      "cell_type": "code",
      "metadata": {
        "id": "MG5sc7WAAS1U",
        "colab_type": "code",
        "colab": {}
      },
      "source": [
        "#기획자나 마케터가 되어 이벤트 댓글 분석을 해보자!\n",
        "#댓글 속에 제품에 대한 관심을 빈도 수로 추출해야 한다면?\n",
        "# 쇼핑몰에서 제품 관련 이벤트 진행시 어떤 제품을 고객이 선호하는지 알기 위해서\n",
        "# 고객 디비와 연계할 수 있다면 이벤트 혹은 마케팅 세그먼트로 활용해 볼 수도 있지 않을까\n",
        "\n",
        "# 데이터 전략을 세우기 위함\n"
      ],
      "execution_count": null,
      "outputs": []
    },
    {
      "cell_type": "code",
      "metadata": {
        "id": "Fg-YQf0nFC5R",
        "colab_type": "code",
        "colab": {}
      },
      "source": [
        "# 1. 인프런 2020년 새해 다짐 이벤트 댓글 크롤링"
      ],
      "execution_count": null,
      "outputs": []
    },
    {
      "cell_type": "code",
      "metadata": {
        "id": "9Nj4rw7HJRJE",
        "colab_type": "code",
        "colab": {}
      },
      "source": [
        "import requests\n",
        "from bs4 import BeautifulSoup as bs\n",
        "import pandas as pd\n",
        "\n",
        "from tqdm import trange"
      ],
      "execution_count": 7,
      "outputs": []
    },
    {
      "cell_type": "code",
      "metadata": {
        "id": "3t8A5WPLFPcU",
        "colab_type": "code",
        "colab": {
          "base_uri": "https://localhost:8080/",
          "height": 34
        },
        "outputId": "fd40781a-6926-45e0-81cd-24ee5dc00fb8"
      },
      "source": [
        "base_url=\"https://www.inflearn.com/pages/newyear-event-20200102\"\n",
        "response=requests.get( base_url )\n",
        "\n",
        "response"
      ],
      "execution_count": 20,
      "outputs": [
        {
          "output_type": "execute_result",
          "data": {
            "text/plain": [
              "<Response [200]>"
            ]
          },
          "metadata": {
            "tags": []
          },
          "execution_count": 20
        }
      ]
    },
    {
      "cell_type": "code",
      "metadata": {
        "id": "I07aJS-BJ3BN",
        "colab_type": "code",
        "colab": {}
      },
      "source": [
        "soup= bs(response.text,'html.parser')"
      ],
      "execution_count": 21,
      "outputs": []
    },
    {
      "cell_type": "code",
      "metadata": {
        "id": "jN4lRQMlJ3aE",
        "colab_type": "code",
        "colab": {}
      },
      "source": [
        "content=soup.select(\"#main>\")"
      ],
      "execution_count": null,
      "outputs": []
    },
    {
      "cell_type": "code",
      "metadata": {
        "id": "hglpji0YOJKC",
        "colab_type": "code",
        "colab": {}
      },
      "source": [
        "#main > section > div > div > div.chitchats > div.chitchat-list > div\n",
        "#main > section > div > div > div.chitchats > div.chitchat-list > div > div.body.edit-chitchat"
      ],
      "execution_count": null,
      "outputs": []
    },
    {
      "cell_type": "code",
      "metadata": {
        "id": "PLGQO_V3OpMk",
        "colab_type": "code",
        "colab": {
          "base_uri": "https://localhost:8080/",
          "height": 547
        },
        "outputId": "bac9fc10-2fc5-47ad-fef2-aa963e1cc341"
      },
      "source": [
        "content=soup.select(\"main > section > div > div > div.chitchats > div.chitchat-list > div\")\n",
        "content[-1]"
      ],
      "execution_count": 23,
      "outputs": [
        {
          "output_type": "execute_result",
          "data": {
            "text/plain": [
              "<div class=\"chitchat-item\">\n",
              "<figure class=\"image is-48x48\">\n",
              "<img alt=\"인프런\" class=\"user_thumb is-rounded\" src=\"https://cdn.inflearn.com/wp-content/uploads/avatars/17/b415d9fa24d186c4adf22ca9a49116b5-bpfull.png\"/>\n",
              "</figure>\n",
              "<div class=\"content\">\n",
              "<div class=\"author\">\n",
              "<span class=\"author_name\">인프런</span>\n",
              "<time class=\"created_at\" datetime=\"Sun Dec 29 2019 17:59:00 GMT+0900 (GMT+09:00)\">⋅ 7개월 전</time>\n",
              "<a class=\"update-chitchat edit-chitchat is-hidden\" data-id=\"18594\" type=\"button\">저장</a>\n",
              "<a class=\"hidden-editor edit-chitchat is-hidden\" type=\"button\">취소</a>\n",
              "<a class=\"edit-chitchat no_cmt_reply\" type=\"button\">답글달기</a>\n",
              "</div>\n",
              "<div class=\"body edit-chitchat\">인프런 0호 팀원이에요!\n",
              "그동안 서비스 개발 때문에 js 를 많이 했었는데 앞으론 통계나 분석을 많이 하고 싶어서 파이썬을 공부하고 싶어요! 올해 파이썬 마스터가 되는걸로..\n",
              "#관심강의: 남박사의 파이썬 활용</div>\n",
              "<textarea class=\"textarea edit-chitchat is-hidden\"></textarea>\n",
              "<div class=\"summary_comments\">\n",
              "</div>\n",
              "<div class=\"chitchats_and_editor is-hidden\">\n",
              "<div class=\"chitchat-comment-list\">\n",
              "</div>\n",
              "<div class=\"cmt-editor\">\n",
              "<div class=\"field\">\n",
              "<textarea class=\"textarea\" placeholder=\"내용을 입력해 주세요.\"></textarea>\n",
              "</div>\n",
              "<button class=\"insert-chitchat-cmt button\" data-post_id=\"18594\" type=\"button\">등록</button>\n",
              "</div>\n",
              "</div>\n",
              "</div>\n",
              "</div>"
            ]
          },
          "metadata": {
            "tags": []
          },
          "execution_count": 23
        }
      ]
    },
    {
      "cell_type": "code",
      "metadata": {
        "id": "CCuDSFvLP7qV",
        "colab_type": "code",
        "colab": {
          "base_uri": "https://localhost:8080/",
          "height": 52
        },
        "outputId": "c4702aea-e79a-42f1-9f43-7b988598f188"
      },
      "source": [
        "content[-1].select(\"div.body.edit-chitchat\")[0].get_text(strip=True)"
      ],
      "execution_count": 28,
      "outputs": [
        {
          "output_type": "execute_result",
          "data": {
            "application/vnd.google.colaboratory.intrinsic": {
              "type": "string"
            },
            "text/plain": [
              "'인프런 0호 팀원이에요!\\n그동안 서비스 개발 때문에 js 를 많이 했었는데 앞으론 통계나 분석을 많이 하고 싶어서 파이썬을 공부하고 싶어요! 올해 파이썬 마스터가 되는걸로..\\n#관심강의: 남박사의 파이썬 활용'"
            ]
          },
          "metadata": {
            "tags": []
          },
          "execution_count": 28
        }
      ]
    },
    {
      "cell_type": "code",
      "metadata": {
        "id": "5EGWpnaGPWga",
        "colab_type": "code",
        "colab": {
          "base_uri": "https://localhost:8080/",
          "height": 52
        },
        "outputId": "2785be36-4091-40df-f59a-77e01360d5df"
      },
      "source": [
        "chitchat=content[-1].select(\"div.body.edit-chitchat\")[0].get_text(strip=True)\n",
        "chitchat"
      ],
      "execution_count": 31,
      "outputs": [
        {
          "output_type": "execute_result",
          "data": {
            "application/vnd.google.colaboratory.intrinsic": {
              "type": "string"
            },
            "text/plain": [
              "'인프런 0호 팀원이에요!\\n그동안 서비스 개발 때문에 js 를 많이 했었는데 앞으론 통계나 분석을 많이 하고 싶어서 파이썬을 공부하고 싶어요! 올해 파이썬 마스터가 되는걸로..\\n#관심강의: 남박사의 파이썬 활용'"
            ]
          },
          "metadata": {
            "tags": []
          },
          "execution_count": 31
        }
      ]
    },
    {
      "cell_type": "code",
      "metadata": {
        "id": "sYYZvnJcP6W1",
        "colab_type": "code",
        "colab": {
          "base_uri": "https://localhost:8080/",
          "height": 221
        },
        "outputId": "62960b35-429e-4688-baa8-dfeba4ec5fb7"
      },
      "source": [
        "events=[]\n",
        "for i in range(5):\n",
        "  print(\"-\"*20)\n",
        "  chitchat=content[i].select(\"div.body.edit-chitchat\")[0].get_text(strip=True)\n",
        "  print(chitchat)\n",
        "  events.append(chitchat)"
      ],
      "execution_count": 39,
      "outputs": [
        {
          "output_type": "stream",
          "text": [
            "--------------------\n",
            "2020년 목표: 스프링 열심히 공부하서 직장에서 사랑받고 싶어요!!\n",
            "관심 있는 강의 : 스프링 웹 MVC\n",
            "--------------------\n",
            "2020년 목표: C++ 열심히 공부해서, 학교에서 꼭 A 맞기..!! \n",
            "관심있는 강의: 따배씨 C++\n",
            "--------------------\n",
            "2020년 목표 : 리액트 공부하기\n",
            "--------------------\n",
            "40대 프로그래밍 시작! : 우리를 위한 프로그래밍 : 파이썬 중급\n",
            "--------------------\n",
            "2020년 목표 : 돌머리 비전공자가 멋진 전공자 되기!\n"
          ],
          "name": "stdout"
        }
      ]
    },
    {
      "cell_type": "code",
      "metadata": {
        "id": "g77rfIPJRRIZ",
        "colab_type": "code",
        "colab": {
          "base_uri": "https://localhost:8080/",
          "height": 102
        },
        "outputId": "6ebc1914-048d-452b-b584-d7606c4d6b03"
      },
      "source": [
        "events"
      ],
      "execution_count": 40,
      "outputs": [
        {
          "output_type": "execute_result",
          "data": {
            "text/plain": [
              "['2020년 목표: 스프링 열심히 공부하서 직장에서 사랑받고 싶어요!!\\n관심 있는 강의 : 스프링 웹 MVC',\n",
              " '2020년 목표: C++ 열심히 공부해서, 학교에서 꼭 A 맞기..!! \\n관심있는 강의: 따배씨 C++',\n",
              " '2020년 목표 : 리액트 공부하기',\n",
              " '40대 프로그래밍 시작! : 우리를 위한 프로그래밍 : 파이썬 중급',\n",
              " '2020년 목표 : 돌머리 비전공자가 멋진 전공자 되기!']"
            ]
          },
          "metadata": {
            "tags": []
          },
          "execution_count": 40
        }
      ]
    },
    {
      "cell_type": "code",
      "metadata": {
        "id": "1tizfRMlPjFO",
        "colab_type": "code",
        "colab": {
          "base_uri": "https://localhost:8080/",
          "height": 34
        },
        "outputId": "ed202e22-7388-4f6a-e26a-a4ed8912d606"
      },
      "source": [
        "content_count=len(content)\n",
        "content_count"
      ],
      "execution_count": 37,
      "outputs": [
        {
          "output_type": "execute_result",
          "data": {
            "text/plain": [
              "2447"
            ]
          },
          "metadata": {
            "tags": []
          },
          "execution_count": 37
        }
      ]
    },
    {
      "cell_type": "code",
      "metadata": {
        "id": "OBmah77DQ5rv",
        "colab_type": "code",
        "colab": {
          "base_uri": "https://localhost:8080/",
          "height": 34
        },
        "outputId": "34b60025-76a6-4378-cddb-1da67482ee66"
      },
      "source": [
        "events=[]\n",
        "for i in trange(content_count):\n",
        "  chitchat=content[i].select(\"div.body.edit-chitchat\")[0].get_text(strip=True)\n",
        "  events.append(chitchat)"
      ],
      "execution_count": 41,
      "outputs": [
        {
          "output_type": "stream",
          "text": [
            "100%|██████████| 2447/2447 [00:00<00:00, 13365.74it/s]\n"
          ],
          "name": "stderr"
        }
      ]
    },
    {
      "cell_type": "code",
      "metadata": {
        "id": "uJ8-r-vLRm1m",
        "colab_type": "code",
        "colab": {
          "base_uri": "https://localhost:8080/",
          "height": 34
        },
        "outputId": "f3040311-f0ff-43e7-d8da-6eccb857772d"
      },
      "source": [
        "df=pd.DataFrame({\"text\":events})\n",
        "df.shape"
      ],
      "execution_count": 45,
      "outputs": [
        {
          "output_type": "execute_result",
          "data": {
            "text/plain": [
              "(2447, 1)"
            ]
          },
          "metadata": {
            "tags": []
          },
          "execution_count": 45
        }
      ]
    },
    {
      "cell_type": "code",
      "metadata": {
        "id": "4LPfa065RvoW",
        "colab_type": "code",
        "colab": {}
      },
      "source": [
        "df.to_csv(\"inflearn-event.csv\",index=False)"
      ],
      "execution_count": 47,
      "outputs": []
    },
    {
      "cell_type": "code",
      "metadata": {
        "id": "-ila_3AlS01o",
        "colab_type": "code",
        "colab": {
          "base_uri": "https://localhost:8080/",
          "height": 204
        },
        "outputId": "e1ca1da8-f0ef-44b4-edb8-7cd1c38ab84f"
      },
      "source": [
        "pd.read_csv(\"inflearn-event.csv\").head()"
      ],
      "execution_count": 49,
      "outputs": [
        {
          "output_type": "execute_result",
          "data": {
            "text/html": [
              "<div>\n",
              "<style scoped>\n",
              "    .dataframe tbody tr th:only-of-type {\n",
              "        vertical-align: middle;\n",
              "    }\n",
              "\n",
              "    .dataframe tbody tr th {\n",
              "        vertical-align: top;\n",
              "    }\n",
              "\n",
              "    .dataframe thead th {\n",
              "        text-align: right;\n",
              "    }\n",
              "</style>\n",
              "<table border=\"1\" class=\"dataframe\">\n",
              "  <thead>\n",
              "    <tr style=\"text-align: right;\">\n",
              "      <th></th>\n",
              "      <th>text</th>\n",
              "    </tr>\n",
              "  </thead>\n",
              "  <tbody>\n",
              "    <tr>\n",
              "      <th>0</th>\n",
              "      <td>2020년 목표: 스프링 열심히 공부하서 직장에서 사랑받고 싶어요!!\\n관심 있는 ...</td>\n",
              "    </tr>\n",
              "    <tr>\n",
              "      <th>1</th>\n",
              "      <td>2020년 목표: C++ 열심히 공부해서, 학교에서 꼭 A 맞기..!! \\n관심있는...</td>\n",
              "    </tr>\n",
              "    <tr>\n",
              "      <th>2</th>\n",
              "      <td>2020년 목표 : 리액트 공부하기</td>\n",
              "    </tr>\n",
              "    <tr>\n",
              "      <th>3</th>\n",
              "      <td>40대 프로그래밍 시작! : 우리를 위한 프로그래밍 : 파이썬 중급</td>\n",
              "    </tr>\n",
              "    <tr>\n",
              "      <th>4</th>\n",
              "      <td>2020년 목표 : 돌머리 비전공자가 멋진 전공자 되기!</td>\n",
              "    </tr>\n",
              "  </tbody>\n",
              "</table>\n",
              "</div>"
            ],
            "text/plain": [
              "                                                text\n",
              "0  2020년 목표: 스프링 열심히 공부하서 직장에서 사랑받고 싶어요!!\\n관심 있는 ...\n",
              "1  2020년 목표: C++ 열심히 공부해서, 학교에서 꼭 A 맞기..!! \\n관심있는...\n",
              "2                                2020년 목표 : 리액트 공부하기\n",
              "3              40대 프로그래밍 시작! : 우리를 위한 프로그래밍 : 파이썬 중급\n",
              "4                    2020년 목표 : 돌머리 비전공자가 멋진 전공자 되기!"
            ]
          },
          "metadata": {
            "tags": []
          },
          "execution_count": 49
        }
      ]
    },
    {
      "cell_type": "code",
      "metadata": {
        "id": "admvpUnXS8Sg",
        "colab_type": "code",
        "colab": {}
      },
      "source": [
        "import pandas as pd\n",
        "import numpy as np\n",
        "import re\n",
        "import matplotlib.pyplot as plt\n",
        "\n",
        "%matplotlib inline\n"
      ],
      "execution_count": 50,
      "outputs": []
    },
    {
      "cell_type": "code",
      "metadata": {
        "id": "wFwgYeolVHXC",
        "colab_type": "code",
        "colab": {}
      },
      "source": [
        "plt.rc(\"font\", family=\"AppleGothic\")\n",
        "plt.rc('axes',unicode_minus=False)"
      ],
      "execution_count": 51,
      "outputs": []
    },
    {
      "cell_type": "code",
      "metadata": {
        "id": "a3KxO9JgVddF",
        "colab_type": "code",
        "colab": {
          "base_uri": "https://localhost:8080/",
          "height": 34
        },
        "outputId": "a83ca187-a121-423f-bdfe-e0f5731c35fe"
      },
      "source": [
        "df=pd.read_csv(\"inflearn-event.csv\")\n",
        "df.shape"
      ],
      "execution_count": null,
      "outputs": [
        {
          "output_type": "execute_result",
          "data": {
            "text/plain": [
              "(2447, 1)"
            ]
          },
          "metadata": {
            "tags": []
          },
          "execution_count": 52
        }
      ]
    },
    {
      "cell_type": "code",
      "metadata": {
        "id": "Or14Dj3AVqfF",
        "colab_type": "code",
        "colab": {
          "base_uri": "https://localhost:8080/",
          "height": 204
        },
        "outputId": "191f6dcd-f814-41fb-ba4e-05d2b12f2073"
      },
      "source": [
        "df.head()"
      ],
      "execution_count": 53,
      "outputs": [
        {
          "output_type": "execute_result",
          "data": {
            "text/html": [
              "<div>\n",
              "<style scoped>\n",
              "    .dataframe tbody tr th:only-of-type {\n",
              "        vertical-align: middle;\n",
              "    }\n",
              "\n",
              "    .dataframe tbody tr th {\n",
              "        vertical-align: top;\n",
              "    }\n",
              "\n",
              "    .dataframe thead th {\n",
              "        text-align: right;\n",
              "    }\n",
              "</style>\n",
              "<table border=\"1\" class=\"dataframe\">\n",
              "  <thead>\n",
              "    <tr style=\"text-align: right;\">\n",
              "      <th></th>\n",
              "      <th>text</th>\n",
              "    </tr>\n",
              "  </thead>\n",
              "  <tbody>\n",
              "    <tr>\n",
              "      <th>0</th>\n",
              "      <td>2020년 목표: 스프링 열심히 공부하서 직장에서 사랑받고 싶어요!!\\n관심 있는 ...</td>\n",
              "    </tr>\n",
              "    <tr>\n",
              "      <th>1</th>\n",
              "      <td>2020년 목표: C++ 열심히 공부해서, 학교에서 꼭 A 맞기..!! \\n관심있는...</td>\n",
              "    </tr>\n",
              "    <tr>\n",
              "      <th>2</th>\n",
              "      <td>2020년 목표 : 리액트 공부하기</td>\n",
              "    </tr>\n",
              "    <tr>\n",
              "      <th>3</th>\n",
              "      <td>40대 프로그래밍 시작! : 우리를 위한 프로그래밍 : 파이썬 중급</td>\n",
              "    </tr>\n",
              "    <tr>\n",
              "      <th>4</th>\n",
              "      <td>2020년 목표 : 돌머리 비전공자가 멋진 전공자 되기!</td>\n",
              "    </tr>\n",
              "  </tbody>\n",
              "</table>\n",
              "</div>"
            ],
            "text/plain": [
              "                                                text\n",
              "0  2020년 목표: 스프링 열심히 공부하서 직장에서 사랑받고 싶어요!!\\n관심 있는 ...\n",
              "1  2020년 목표: C++ 열심히 공부해서, 학교에서 꼭 A 맞기..!! \\n관심있는...\n",
              "2                                2020년 목표 : 리액트 공부하기\n",
              "3              40대 프로그래밍 시작! : 우리를 위한 프로그래밍 : 파이썬 중급\n",
              "4                    2020년 목표 : 돌머리 비전공자가 멋진 전공자 되기!"
            ]
          },
          "metadata": {
            "tags": []
          },
          "execution_count": 53
        }
      ]
    },
    {
      "cell_type": "code",
      "metadata": {
        "id": "eF1ZmVNxVsPy",
        "colab_type": "code",
        "colab": {
          "base_uri": "https://localhost:8080/",
          "height": 204
        },
        "outputId": "019e6985-94b2-41e1-a904-c4f51af8497b"
      },
      "source": [
        "df.tail()"
      ],
      "execution_count": 54,
      "outputs": [
        {
          "output_type": "execute_result",
          "data": {
            "text/html": [
              "<div>\n",
              "<style scoped>\n",
              "    .dataframe tbody tr th:only-of-type {\n",
              "        vertical-align: middle;\n",
              "    }\n",
              "\n",
              "    .dataframe tbody tr th {\n",
              "        vertical-align: top;\n",
              "    }\n",
              "\n",
              "    .dataframe thead th {\n",
              "        text-align: right;\n",
              "    }\n",
              "</style>\n",
              "<table border=\"1\" class=\"dataframe\">\n",
              "  <thead>\n",
              "    <tr style=\"text-align: right;\">\n",
              "      <th></th>\n",
              "      <th>text</th>\n",
              "    </tr>\n",
              "  </thead>\n",
              "  <tbody>\n",
              "    <tr>\n",
              "      <th>2442</th>\n",
              "      <td>작년 한해도 일이 바쁘다, 야근해서 힘들다는 핑계로 김영한님의 JPA 강의를 또 스...</td>\n",
              "    </tr>\n",
              "    <tr>\n",
              "      <th>2443</th>\n",
              "      <td>저는 졸업을 1년 남기고 있는 컴퓨터공학과 학생입니다. 졸업 프로젝트로 웹/앱 개발...</td>\n",
              "    </tr>\n",
              "    <tr>\n",
              "      <th>2444</th>\n",
              "      <td>에프터 이펙트를 써본 적은 있는데, 매번 기초만 배우다 말았어요. 이걸 할 줄 안다...</td>\n",
              "    </tr>\n",
              "    <tr>\n",
              "      <th>2445</th>\n",
              "      <td>저번에 인프런에서 페이스북 마케팅 강의를 듣고 많은 도움을 받았습니다. 마케팅 업무...</td>\n",
              "    </tr>\n",
              "    <tr>\n",
              "      <th>2446</th>\n",
              "      <td>인프런 0호 팀원이에요!\\n그동안 서비스 개발 때문에 js 를 많이 했었는데 앞으론...</td>\n",
              "    </tr>\n",
              "  </tbody>\n",
              "</table>\n",
              "</div>"
            ],
            "text/plain": [
              "                                                   text\n",
              "2442  작년 한해도 일이 바쁘다, 야근해서 힘들다는 핑계로 김영한님의 JPA 강의를 또 스...\n",
              "2443  저는 졸업을 1년 남기고 있는 컴퓨터공학과 학생입니다. 졸업 프로젝트로 웹/앱 개발...\n",
              "2444  에프터 이펙트를 써본 적은 있는데, 매번 기초만 배우다 말았어요. 이걸 할 줄 안다...\n",
              "2445  저번에 인프런에서 페이스북 마케팅 강의를 듣고 많은 도움을 받았습니다. 마케팅 업무...\n",
              "2446  인프런 0호 팀원이에요!\\n그동안 서비스 개발 때문에 js 를 많이 했었는데 앞으론..."
            ]
          },
          "metadata": {
            "tags": []
          },
          "execution_count": 54
        }
      ]
    },
    {
      "cell_type": "code",
      "metadata": {
        "id": "NSXwxN1QVw80",
        "colab_type": "code",
        "colab": {
          "base_uri": "https://localhost:8080/",
          "height": 51
        },
        "outputId": "c29d1170-9019-4205-adab-6ed7f116bd9d"
      },
      "source": [
        "print(df.shape)\n",
        "df=df.drop_duplicates([\"text\"],keep=\"last\")\n",
        "print(df.shape)"
      ],
      "execution_count": 55,
      "outputs": [
        {
          "output_type": "stream",
          "text": [
            "(2447, 1)\n",
            "(2409, 1)\n"
          ],
          "name": "stdout"
        }
      ]
    },
    {
      "cell_type": "code",
      "metadata": {
        "id": "q8Zm_cHvWPid",
        "colab_type": "code",
        "colab": {
          "base_uri": "https://localhost:8080/",
          "height": 419
        },
        "outputId": "7070c91e-464b-40eb-d790-4c75ec9c13e6"
      },
      "source": [
        "#전처리 전에 원본을 보존하기 위해 복사해 둠\n",
        "df[\"origin_text\"]=df[\"text\"]\n",
        "df"
      ],
      "execution_count": 56,
      "outputs": [
        {
          "output_type": "execute_result",
          "data": {
            "text/html": [
              "<div>\n",
              "<style scoped>\n",
              "    .dataframe tbody tr th:only-of-type {\n",
              "        vertical-align: middle;\n",
              "    }\n",
              "\n",
              "    .dataframe tbody tr th {\n",
              "        vertical-align: top;\n",
              "    }\n",
              "\n",
              "    .dataframe thead th {\n",
              "        text-align: right;\n",
              "    }\n",
              "</style>\n",
              "<table border=\"1\" class=\"dataframe\">\n",
              "  <thead>\n",
              "    <tr style=\"text-align: right;\">\n",
              "      <th></th>\n",
              "      <th>text</th>\n",
              "      <th>origin_text</th>\n",
              "    </tr>\n",
              "  </thead>\n",
              "  <tbody>\n",
              "    <tr>\n",
              "      <th>0</th>\n",
              "      <td>2020년 목표: 스프링 열심히 공부하서 직장에서 사랑받고 싶어요!!\\n관심 있는 ...</td>\n",
              "      <td>2020년 목표: 스프링 열심히 공부하서 직장에서 사랑받고 싶어요!!\\n관심 있는 ...</td>\n",
              "    </tr>\n",
              "    <tr>\n",
              "      <th>1</th>\n",
              "      <td>2020년 목표: C++ 열심히 공부해서, 학교에서 꼭 A 맞기..!! \\n관심있는...</td>\n",
              "      <td>2020년 목표: C++ 열심히 공부해서, 학교에서 꼭 A 맞기..!! \\n관심있는...</td>\n",
              "    </tr>\n",
              "    <tr>\n",
              "      <th>3</th>\n",
              "      <td>40대 프로그래밍 시작! : 우리를 위한 프로그래밍 : 파이썬 중급</td>\n",
              "      <td>40대 프로그래밍 시작! : 우리를 위한 프로그래밍 : 파이썬 중급</td>\n",
              "    </tr>\n",
              "    <tr>\n",
              "      <th>4</th>\n",
              "      <td>2020년 목표 : 돌머리 비전공자가 멋진 전공자 되기!</td>\n",
              "      <td>2020년 목표 : 돌머리 비전공자가 멋진 전공자 되기!</td>\n",
              "    </tr>\n",
              "    <tr>\n",
              "      <th>5</th>\n",
              "      <td>2020 년목표: 비전공자(경영)가 전공자(it) 되기!!!</td>\n",
              "      <td>2020 년목표: 비전공자(경영)가 전공자(it) 되기!!!</td>\n",
              "    </tr>\n",
              "    <tr>\n",
              "      <th>...</th>\n",
              "      <td>...</td>\n",
              "      <td>...</td>\n",
              "    </tr>\n",
              "    <tr>\n",
              "      <th>2442</th>\n",
              "      <td>작년 한해도 일이 바쁘다, 야근해서 힘들다는 핑계로 김영한님의 JPA 강의를 또 스...</td>\n",
              "      <td>작년 한해도 일이 바쁘다, 야근해서 힘들다는 핑계로 김영한님의 JPA 강의를 또 스...</td>\n",
              "    </tr>\n",
              "    <tr>\n",
              "      <th>2443</th>\n",
              "      <td>저는 졸업을 1년 남기고 있는 컴퓨터공학과 학생입니다. 졸업 프로젝트로 웹/앱 개발...</td>\n",
              "      <td>저는 졸업을 1년 남기고 있는 컴퓨터공학과 학생입니다. 졸업 프로젝트로 웹/앱 개발...</td>\n",
              "    </tr>\n",
              "    <tr>\n",
              "      <th>2444</th>\n",
              "      <td>에프터 이펙트를 써본 적은 있는데, 매번 기초만 배우다 말았어요. 이걸 할 줄 안다...</td>\n",
              "      <td>에프터 이펙트를 써본 적은 있는데, 매번 기초만 배우다 말았어요. 이걸 할 줄 안다...</td>\n",
              "    </tr>\n",
              "    <tr>\n",
              "      <th>2445</th>\n",
              "      <td>저번에 인프런에서 페이스북 마케팅 강의를 듣고 많은 도움을 받았습니다. 마케팅 업무...</td>\n",
              "      <td>저번에 인프런에서 페이스북 마케팅 강의를 듣고 많은 도움을 받았습니다. 마케팅 업무...</td>\n",
              "    </tr>\n",
              "    <tr>\n",
              "      <th>2446</th>\n",
              "      <td>인프런 0호 팀원이에요!\\n그동안 서비스 개발 때문에 js 를 많이 했었는데 앞으론...</td>\n",
              "      <td>인프런 0호 팀원이에요!\\n그동안 서비스 개발 때문에 js 를 많이 했었는데 앞으론...</td>\n",
              "    </tr>\n",
              "  </tbody>\n",
              "</table>\n",
              "<p>2409 rows × 2 columns</p>\n",
              "</div>"
            ],
            "text/plain": [
              "                                                   text                                        origin_text\n",
              "0     2020년 목표: 스프링 열심히 공부하서 직장에서 사랑받고 싶어요!!\\n관심 있는 ...  2020년 목표: 스프링 열심히 공부하서 직장에서 사랑받고 싶어요!!\\n관심 있는 ...\n",
              "1     2020년 목표: C++ 열심히 공부해서, 학교에서 꼭 A 맞기..!! \\n관심있는...  2020년 목표: C++ 열심히 공부해서, 학교에서 꼭 A 맞기..!! \\n관심있는...\n",
              "3                 40대 프로그래밍 시작! : 우리를 위한 프로그래밍 : 파이썬 중급              40대 프로그래밍 시작! : 우리를 위한 프로그래밍 : 파이썬 중급\n",
              "4                       2020년 목표 : 돌머리 비전공자가 멋진 전공자 되기!                    2020년 목표 : 돌머리 비전공자가 멋진 전공자 되기!\n",
              "5                     2020 년목표: 비전공자(경영)가 전공자(it) 되기!!!                  2020 년목표: 비전공자(경영)가 전공자(it) 되기!!!\n",
              "...                                                 ...                                                ...\n",
              "2442  작년 한해도 일이 바쁘다, 야근해서 힘들다는 핑계로 김영한님의 JPA 강의를 또 스...  작년 한해도 일이 바쁘다, 야근해서 힘들다는 핑계로 김영한님의 JPA 강의를 또 스...\n",
              "2443  저는 졸업을 1년 남기고 있는 컴퓨터공학과 학생입니다. 졸업 프로젝트로 웹/앱 개발...  저는 졸업을 1년 남기고 있는 컴퓨터공학과 학생입니다. 졸업 프로젝트로 웹/앱 개발...\n",
              "2444  에프터 이펙트를 써본 적은 있는데, 매번 기초만 배우다 말았어요. 이걸 할 줄 안다...  에프터 이펙트를 써본 적은 있는데, 매번 기초만 배우다 말았어요. 이걸 할 줄 안다...\n",
              "2445  저번에 인프런에서 페이스북 마케팅 강의를 듣고 많은 도움을 받았습니다. 마케팅 업무...  저번에 인프런에서 페이스북 마케팅 강의를 듣고 많은 도움을 받았습니다. 마케팅 업무...\n",
              "2446  인프런 0호 팀원이에요!\\n그동안 서비스 개발 때문에 js 를 많이 했었는데 앞으론...  인프런 0호 팀원이에요!\\n그동안 서비스 개발 때문에 js 를 많이 했었는데 앞으론...\n",
              "\n",
              "[2409 rows x 2 columns]"
            ]
          },
          "metadata": {
            "tags": []
          },
          "execution_count": 56
        }
      ]
    },
    {
      "cell_type": "markdown",
      "metadata": {
        "id": "btTCwcM0Wxzs",
        "colab_type": "text"
      },
      "source": [
        "소문자 변환"
      ]
    },
    {
      "cell_type": "code",
      "metadata": {
        "id": "eFqgfwNKWaIP",
        "colab_type": "code",
        "colab": {}
      },
      "source": [
        "#파이썬은 대소문자를 구분하기 때문에 데이터 필터링을 위해 대문자를 모두 소문자로 변경\n",
        "df[\"text\"]=df[\"text\"].str.lower()"
      ],
      "execution_count": 57,
      "outputs": []
    },
    {
      "cell_type": "code",
      "metadata": {
        "id": "nSDgY3-JWlbM",
        "colab_type": "code",
        "colab": {}
      },
      "source": [
        "#같은 의미의 단어를 하나로 통일 예) python => 파이썬\n",
        "df[\"text\"]=df[\"text\"].str.replace(\n",
        "    \"python\",\"파이썬\").str.replace(\n",
        "    \"pandas\",\"판다스\").str.replace(\n",
        "    \"javascript\",\"자바스크립트\").str.replace(\n",
        "    \"java\",\"자바\").str.replace(\n",
        "    \"react\",\"리액트\")\n"
      ],
      "execution_count": 58,
      "outputs": []
    },
    {
      "cell_type": "markdown",
      "metadata": {
        "id": "ztNeLuyyWzmm",
        "colab_type": "text"
      },
      "source": [
        "텍스트로 관심 강의 분리"
      ]
    },
    {
      "cell_type": "code",
      "metadata": {
        "id": "y04FP79mXyJG",
        "colab_type": "code",
        "colab": {
          "base_uri": "https://localhost:8080/",
          "height": 119
        },
        "outputId": "ec150d58-cae7-44ee-9df5-e2442bdd2ce9"
      },
      "source": [
        "df[\"course\"]=df[\"text\"].apply(lambda x:x.split(\"관심강의\")[-1])\n",
        "df[\"course\"]=df[\"course\"].apply(lambda x:x.split(\"관심 강의\")[-1])\n",
        "df[\"course\"]=df[\"course\"].apply(lambda x:x.split(\"관심 강좌\")[-1])\n",
        "df[\"course\"]=df[\"course\"].str.replace(\":\",\"\")\n",
        "df[\"course\"].head()"
      ],
      "execution_count": 60,
      "outputs": [
        {
          "output_type": "execute_result",
          "data": {
            "text/plain": [
              "0    2020년 목표 스프링 열심히 공부하서 직장에서 사랑받고 싶어요!!\\n관심 있는 강...\n",
              "1    2020년 목표 c++ 열심히 공부해서, 학교에서 꼭 a 맞기..!! \\n관심있는 ...\n",
              "3                  40대 프로그래밍 시작!  우리를 위한 프로그래밍  파이썬 중급\n",
              "4                       2020년 목표  돌머리 비전공자가 멋진 전공자 되기!\n",
              "5                     2020 년목표 비전공자(경영)가 전공자(it) 되기!!!\n",
              "Name: course, dtype: object"
            ]
          },
          "metadata": {
            "tags": []
          },
          "execution_count": 60
        }
      ]
    },
    {
      "cell_type": "code",
      "metadata": {
        "id": "87fmVgfpYhQF",
        "colab_type": "code",
        "colab": {
          "base_uri": "https://localhost:8080/",
          "height": 204
        },
        "outputId": "c5f2f944-b547-445f-b31e-4a88e03567aa"
      },
      "source": [
        "df[[\"text\",\"course\"]].head()"
      ],
      "execution_count": 64,
      "outputs": [
        {
          "output_type": "execute_result",
          "data": {
            "text/html": [
              "<div>\n",
              "<style scoped>\n",
              "    .dataframe tbody tr th:only-of-type {\n",
              "        vertical-align: middle;\n",
              "    }\n",
              "\n",
              "    .dataframe tbody tr th {\n",
              "        vertical-align: top;\n",
              "    }\n",
              "\n",
              "    .dataframe thead th {\n",
              "        text-align: right;\n",
              "    }\n",
              "</style>\n",
              "<table border=\"1\" class=\"dataframe\">\n",
              "  <thead>\n",
              "    <tr style=\"text-align: right;\">\n",
              "      <th></th>\n",
              "      <th>text</th>\n",
              "      <th>course</th>\n",
              "    </tr>\n",
              "  </thead>\n",
              "  <tbody>\n",
              "    <tr>\n",
              "      <th>0</th>\n",
              "      <td>2020년 목표: 스프링 열심히 공부하서 직장에서 사랑받고 싶어요!!\\n관심 있는 ...</td>\n",
              "      <td>2020년 목표 스프링 열심히 공부하서 직장에서 사랑받고 싶어요!!\\n관심 있는 강...</td>\n",
              "    </tr>\n",
              "    <tr>\n",
              "      <th>1</th>\n",
              "      <td>2020년 목표: c++ 열심히 공부해서, 학교에서 꼭 a 맞기..!! \\n관심있는...</td>\n",
              "      <td>2020년 목표 c++ 열심히 공부해서, 학교에서 꼭 a 맞기..!! \\n관심있는 ...</td>\n",
              "    </tr>\n",
              "    <tr>\n",
              "      <th>3</th>\n",
              "      <td>40대 프로그래밍 시작! : 우리를 위한 프로그래밍 : 파이썬 중급</td>\n",
              "      <td>40대 프로그래밍 시작!  우리를 위한 프로그래밍  파이썬 중급</td>\n",
              "    </tr>\n",
              "    <tr>\n",
              "      <th>4</th>\n",
              "      <td>2020년 목표 : 돌머리 비전공자가 멋진 전공자 되기!</td>\n",
              "      <td>2020년 목표  돌머리 비전공자가 멋진 전공자 되기!</td>\n",
              "    </tr>\n",
              "    <tr>\n",
              "      <th>5</th>\n",
              "      <td>2020 년목표: 비전공자(경영)가 전공자(it) 되기!!!</td>\n",
              "      <td>2020 년목표 비전공자(경영)가 전공자(it) 되기!!!</td>\n",
              "    </tr>\n",
              "  </tbody>\n",
              "</table>\n",
              "</div>"
            ],
            "text/plain": [
              "                                                text                                             course\n",
              "0  2020년 목표: 스프링 열심히 공부하서 직장에서 사랑받고 싶어요!!\\n관심 있는 ...  2020년 목표 스프링 열심히 공부하서 직장에서 사랑받고 싶어요!!\\n관심 있는 강...\n",
              "1  2020년 목표: c++ 열심히 공부해서, 학교에서 꼭 a 맞기..!! \\n관심있는...  2020년 목표 c++ 열심히 공부해서, 학교에서 꼭 a 맞기..!! \\n관심있는 ...\n",
              "3              40대 프로그래밍 시작! : 우리를 위한 프로그래밍 : 파이썬 중급                40대 프로그래밍 시작!  우리를 위한 프로그래밍  파이썬 중급\n",
              "4                    2020년 목표 : 돌머리 비전공자가 멋진 전공자 되기!                     2020년 목표  돌머리 비전공자가 멋진 전공자 되기!\n",
              "5                  2020 년목표: 비전공자(경영)가 전공자(it) 되기!!!                   2020 년목표 비전공자(경영)가 전공자(it) 되기!!!"
            ]
          },
          "metadata": {
            "tags": []
          },
          "execution_count": 64
        }
      ]
    },
    {
      "cell_type": "markdown",
      "metadata": {
        "id": "cTw8G21bY-gD",
        "colab_type": "text"
      },
      "source": [
        "띄어 쓰기를 제거한 텍스트에서 키워드 추출"
      ]
    },
    {
      "cell_type": "code",
      "metadata": {
        "id": "sY3bvbs-Yp9k",
        "colab_type": "code",
        "colab": {}
      },
      "source": [
        "search_keyword=['머신러닝','딥러닝', '파이썬','판다스', '공공데이터', \n",
        "                'django','크롤링','시각화','데이터분석',\n",
        "                '웹개발','엑셀','c','자바','자바스크립트',\n",
        "                'node','vue','리액트']\n",
        "\n",
        "for keyword in search_keyword:\n",
        "    df[keyword]=df[\"course\"].str.contains(keyword)"
      ],
      "execution_count": 66,
      "outputs": []
    },
    {
      "cell_type": "code",
      "metadata": {
        "id": "8o-LeUPAbCkl",
        "colab_type": "code",
        "colab": {
          "base_uri": "https://localhost:8080/",
          "height": 561
        },
        "outputId": "397df80c-ec80-48a7-ccd0-1897c75248fe"
      },
      "source": [
        "df.head()"
      ],
      "execution_count": 67,
      "outputs": [
        {
          "output_type": "execute_result",
          "data": {
            "text/html": [
              "<div>\n",
              "<style scoped>\n",
              "    .dataframe tbody tr th:only-of-type {\n",
              "        vertical-align: middle;\n",
              "    }\n",
              "\n",
              "    .dataframe tbody tr th {\n",
              "        vertical-align: top;\n",
              "    }\n",
              "\n",
              "    .dataframe thead th {\n",
              "        text-align: right;\n",
              "    }\n",
              "</style>\n",
              "<table border=\"1\" class=\"dataframe\">\n",
              "  <thead>\n",
              "    <tr style=\"text-align: right;\">\n",
              "      <th></th>\n",
              "      <th>text</th>\n",
              "      <th>origin_text</th>\n",
              "      <th>course</th>\n",
              "      <th>머신러닝</th>\n",
              "      <th>딥러닝</th>\n",
              "      <th>파이썬</th>\n",
              "      <th>판다스</th>\n",
              "      <th>공공데이터</th>\n",
              "      <th>django</th>\n",
              "      <th>크롤링</th>\n",
              "      <th>시각화</th>\n",
              "      <th>데이터분석</th>\n",
              "      <th>웹개발</th>\n",
              "      <th>엑셀</th>\n",
              "      <th>c</th>\n",
              "      <th>자바</th>\n",
              "      <th>자바스크립트</th>\n",
              "      <th>node</th>\n",
              "      <th>vue</th>\n",
              "      <th>리액트</th>\n",
              "    </tr>\n",
              "  </thead>\n",
              "  <tbody>\n",
              "    <tr>\n",
              "      <th>0</th>\n",
              "      <td>2020년 목표: 스프링 열심히 공부하서 직장에서 사랑받고 싶어요!!\\n관심 있는 ...</td>\n",
              "      <td>2020년 목표: 스프링 열심히 공부하서 직장에서 사랑받고 싶어요!!\\n관심 있는 ...</td>\n",
              "      <td>2020년 목표 스프링 열심히 공부하서 직장에서 사랑받고 싶어요!!\\n관심 있는 강...</td>\n",
              "      <td>False</td>\n",
              "      <td>False</td>\n",
              "      <td>False</td>\n",
              "      <td>False</td>\n",
              "      <td>False</td>\n",
              "      <td>False</td>\n",
              "      <td>False</td>\n",
              "      <td>False</td>\n",
              "      <td>False</td>\n",
              "      <td>False</td>\n",
              "      <td>False</td>\n",
              "      <td>True</td>\n",
              "      <td>False</td>\n",
              "      <td>False</td>\n",
              "      <td>False</td>\n",
              "      <td>False</td>\n",
              "      <td>False</td>\n",
              "    </tr>\n",
              "    <tr>\n",
              "      <th>1</th>\n",
              "      <td>2020년 목표: c++ 열심히 공부해서, 학교에서 꼭 a 맞기..!! \\n관심있는...</td>\n",
              "      <td>2020년 목표: C++ 열심히 공부해서, 학교에서 꼭 A 맞기..!! \\n관심있는...</td>\n",
              "      <td>2020년 목표 c++ 열심히 공부해서, 학교에서 꼭 a 맞기..!! \\n관심있는 ...</td>\n",
              "      <td>False</td>\n",
              "      <td>False</td>\n",
              "      <td>False</td>\n",
              "      <td>False</td>\n",
              "      <td>False</td>\n",
              "      <td>False</td>\n",
              "      <td>False</td>\n",
              "      <td>False</td>\n",
              "      <td>False</td>\n",
              "      <td>False</td>\n",
              "      <td>False</td>\n",
              "      <td>True</td>\n",
              "      <td>False</td>\n",
              "      <td>False</td>\n",
              "      <td>False</td>\n",
              "      <td>False</td>\n",
              "      <td>False</td>\n",
              "    </tr>\n",
              "    <tr>\n",
              "      <th>3</th>\n",
              "      <td>40대 프로그래밍 시작! : 우리를 위한 프로그래밍 : 파이썬 중급</td>\n",
              "      <td>40대 프로그래밍 시작! : 우리를 위한 프로그래밍 : 파이썬 중급</td>\n",
              "      <td>40대 프로그래밍 시작!  우리를 위한 프로그래밍  파이썬 중급</td>\n",
              "      <td>False</td>\n",
              "      <td>False</td>\n",
              "      <td>True</td>\n",
              "      <td>False</td>\n",
              "      <td>False</td>\n",
              "      <td>False</td>\n",
              "      <td>False</td>\n",
              "      <td>False</td>\n",
              "      <td>False</td>\n",
              "      <td>False</td>\n",
              "      <td>False</td>\n",
              "      <td>False</td>\n",
              "      <td>False</td>\n",
              "      <td>False</td>\n",
              "      <td>False</td>\n",
              "      <td>False</td>\n",
              "      <td>False</td>\n",
              "    </tr>\n",
              "    <tr>\n",
              "      <th>4</th>\n",
              "      <td>2020년 목표 : 돌머리 비전공자가 멋진 전공자 되기!</td>\n",
              "      <td>2020년 목표 : 돌머리 비전공자가 멋진 전공자 되기!</td>\n",
              "      <td>2020년 목표  돌머리 비전공자가 멋진 전공자 되기!</td>\n",
              "      <td>False</td>\n",
              "      <td>False</td>\n",
              "      <td>False</td>\n",
              "      <td>False</td>\n",
              "      <td>False</td>\n",
              "      <td>False</td>\n",
              "      <td>False</td>\n",
              "      <td>False</td>\n",
              "      <td>False</td>\n",
              "      <td>False</td>\n",
              "      <td>False</td>\n",
              "      <td>False</td>\n",
              "      <td>False</td>\n",
              "      <td>False</td>\n",
              "      <td>False</td>\n",
              "      <td>False</td>\n",
              "      <td>False</td>\n",
              "    </tr>\n",
              "    <tr>\n",
              "      <th>5</th>\n",
              "      <td>2020 년목표: 비전공자(경영)가 전공자(it) 되기!!!</td>\n",
              "      <td>2020 년목표: 비전공자(경영)가 전공자(it) 되기!!!</td>\n",
              "      <td>2020 년목표 비전공자(경영)가 전공자(it) 되기!!!</td>\n",
              "      <td>False</td>\n",
              "      <td>False</td>\n",
              "      <td>False</td>\n",
              "      <td>False</td>\n",
              "      <td>False</td>\n",
              "      <td>False</td>\n",
              "      <td>False</td>\n",
              "      <td>False</td>\n",
              "      <td>False</td>\n",
              "      <td>False</td>\n",
              "      <td>False</td>\n",
              "      <td>False</td>\n",
              "      <td>False</td>\n",
              "      <td>False</td>\n",
              "      <td>False</td>\n",
              "      <td>False</td>\n",
              "      <td>False</td>\n",
              "    </tr>\n",
              "  </tbody>\n",
              "</table>\n",
              "</div>"
            ],
            "text/plain": [
              "                                                text  ...    리액트\n",
              "0  2020년 목표: 스프링 열심히 공부하서 직장에서 사랑받고 싶어요!!\\n관심 있는 ...  ...  False\n",
              "1  2020년 목표: c++ 열심히 공부해서, 학교에서 꼭 a 맞기..!! \\n관심있는...  ...  False\n",
              "3              40대 프로그래밍 시작! : 우리를 위한 프로그래밍 : 파이썬 중급  ...  False\n",
              "4                    2020년 목표 : 돌머리 비전공자가 멋진 전공자 되기!  ...  False\n",
              "5                  2020 년목표: 비전공자(경영)가 전공자(it) 되기!!!  ...  False\n",
              "\n",
              "[5 rows x 20 columns]"
            ]
          },
          "metadata": {
            "tags": []
          },
          "execution_count": 67
        }
      ]
    },
    {
      "cell_type": "code",
      "metadata": {
        "id": "4sMJLhBIbHAr",
        "colab_type": "code",
        "colab": {
          "base_uri": "https://localhost:8080/",
          "height": 34
        },
        "outputId": "0b1a1b3d-bf07-44e4-ad7b-27bd5dab8736"
      },
      "source": [
        "df_python=df[df[\"text\"].str.contains(\"파이썬|공공데이터|판다스\")].copy()\n",
        "df_python.shape"
      ],
      "execution_count": 70,
      "outputs": [
        {
          "output_type": "execute_result",
          "data": {
            "text/plain": [
              "(430, 20)"
            ]
          },
          "metadata": {
            "tags": []
          },
          "execution_count": 70
        }
      ]
    },
    {
      "cell_type": "code",
      "metadata": {
        "id": "P8txazacikJn",
        "colab_type": "code",
        "colab": {
          "base_uri": "https://localhost:8080/",
          "height": 34
        },
        "outputId": "43add0a4-b7fb-4bec-b7d7-45eb59f2c20c"
      },
      "source": [
        "df.shape"
      ],
      "execution_count": 71,
      "outputs": [
        {
          "output_type": "execute_result",
          "data": {
            "text/plain": [
              "(2409, 20)"
            ]
          },
          "metadata": {
            "tags": []
          },
          "execution_count": 71
        }
      ]
    },
    {
      "cell_type": "code",
      "metadata": {
        "id": "7m3Z-UFqimBy",
        "colab_type": "code",
        "colab": {
          "base_uri": "https://localhost:8080/",
          "height": 255
        },
        "outputId": "7b9583f9-28c7-4771-821b-2448d2fbe2ce"
      },
      "source": [
        "df.head"
      ],
      "execution_count": 72,
      "outputs": [
        {
          "output_type": "execute_result",
          "data": {
            "text/plain": [
              "<bound method NDFrame.head of                                                    text  ...    리액트\n",
              "0     2020년 목표: 스프링 열심히 공부하서 직장에서 사랑받고 싶어요!!\\n관심 있는 ...  ...  False\n",
              "1     2020년 목표: c++ 열심히 공부해서, 학교에서 꼭 a 맞기..!! \\n관심있는...  ...  False\n",
              "3                 40대 프로그래밍 시작! : 우리를 위한 프로그래밍 : 파이썬 중급  ...  False\n",
              "4                       2020년 목표 : 돌머리 비전공자가 멋진 전공자 되기!  ...  False\n",
              "5                     2020 년목표: 비전공자(경영)가 전공자(it) 되기!!!  ...  False\n",
              "...                                                 ...  ...    ...\n",
              "2442  작년 한해도 일이 바쁘다, 야근해서 힘들다는 핑계로 김영한님의 jpa 강의를 또 스...  ...  False\n",
              "2443  저는 졸업을 1년 남기고 있는 컴퓨터공학과 학생입니다. 졸업 프로젝트로 웹/앱 개발...  ...  False\n",
              "2444  에프터 이펙트를 써본 적은 있는데, 매번 기초만 배우다 말았어요. 이걸 할 줄 안다...  ...  False\n",
              "2445  저번에 인프런에서 페이스북 마케팅 강의를 듣고 많은 도움을 받았습니다. 마케팅 업무...  ...  False\n",
              "2446  인프런 0호 팀원이에요!\\n그동안 서비스 개발 때문에 js 를 많이 했었는데 앞으론...  ...  False\n",
              "\n",
              "[2409 rows x 20 columns]>"
            ]
          },
          "metadata": {
            "tags": []
          },
          "execution_count": 72
        }
      ]
    },
    {
      "cell_type": "code",
      "metadata": {
        "id": "FuhDdK6gi3q-",
        "colab_type": "code",
        "colab": {
          "base_uri": "https://localhost:8080/",
          "height": 34
        },
        "outputId": "5fb36a6a-b744-4405-8c90-347b6998d5a3"
      },
      "source": [
        "True+True+False"
      ],
      "execution_count": 76,
      "outputs": [
        {
          "output_type": "execute_result",
          "data": {
            "text/plain": [
              "2"
            ]
          },
          "metadata": {
            "tags": []
          },
          "execution_count": 76
        }
      ]
    },
    {
      "cell_type": "code",
      "metadata": {
        "id": "3vIiTKRPiuMH",
        "colab_type": "code",
        "colab": {
          "base_uri": "https://localhost:8080/",
          "height": 323
        },
        "outputId": "7c175e19-3870-41d0-f15b-505fac4c9d3f"
      },
      "source": [
        "df[search_keyword].sum().sort_values(ascending=False)\n",
        "#빈도수를 구하고 나서 value 기준으로 정렬하고 싶을때 ascending=False 로 정렬한다."
      ],
      "execution_count": 77,
      "outputs": [
        {
          "output_type": "execute_result",
          "data": {
            "text/plain": [
              "c         410\n",
              "파이썬       406\n",
              "자바        341\n",
              "자바스크립트    140\n",
              "리액트       137\n",
              "머신러닝      133\n",
              "vue       132\n",
              "node      117\n",
              "크롤링        56\n",
              "딥러닝        53\n",
              "django     31\n",
              "시각화        30\n",
              "웹개발        27\n",
              "데이터분석      24\n",
              "엑셀         18\n",
              "공공데이터      12\n",
              "판다스         6\n",
              "dtype: int64"
            ]
          },
          "metadata": {
            "tags": []
          },
          "execution_count": 77
        }
      ]
    },
    {
      "cell_type": "code",
      "metadata": {
        "id": "3xrQRrGMjLol",
        "colab_type": "code",
        "colab": {
          "base_uri": "https://localhost:8080/",
          "height": 680
        },
        "outputId": "7b291ccf-7d68-4ff5-e38f-303507e16d95"
      },
      "source": [
        "text=df.loc[(df[\"공공데이터\"]==True),\"text\"]\n",
        "for t in text : \n",
        "  print(\"-\"*20)\n",
        "  print(t)"
      ],
      "execution_count": 78,
      "outputs": [
        {
          "output_type": "stream",
          "text": [
            "--------------------\n",
            "#관심강의: 프로그래밍 시작하기 : 파이썬 입문, 공공데이터로 파이썬 데이터 분석 시작하기\n",
            "파이썬의 고수가 되고싶어요\n",
            "--------------------\n",
            "자바기반 웹 개발자입니다. 데이터 분석에 많이 쓰이는 파이썬이 궁금합니다.\n",
            "#관심강의: 프로그래밍 시작하기 : 파이썬 입문, 공공데이터로 파이썬 데이터 분석 시작하기\n",
            "--------------------\n",
            "올해 안에 원하는 공부 다 끝내보려고요. 내년이면 수능이라..\n",
            "\n",
            "#관심강의: 공공데이터로 파이썬 데이터 분석 시작하기\n",
            "--------------------\n",
            "it개발자입니다. 개발을 오래 안하고 관리만 했더니 다시 개발이 너무 하고싶습니다. 올해는 인프런을 통해서 개발쪽 스킬셋을 업그레이드 하고 싶습니다!\n",
            "#관심강의: 공공데이터로 파이썬 데이터 분석 시작하기\n",
            "--------------------\n",
            "파이썬 데이터분석 마스터\n",
            "#관심강의:공공데이터로 파이썬 데이터 분석 시작하기\n",
            "--------------------\n",
            "올해 졸업하는 컴퓨터공학과 학생입니다!\n",
            "백엔드 혹은 데이터 엔지니어 쪽으로 취업하고 싶습니다!\n",
            "#관심강의: 공공데이터로 파이썬 데이터 분석 시작하기\n",
            "--------------------\n",
            "텍스트 마이닝만 수강한 뒤 현재 맡은 마케팅 업무 능률이 엄청나게 올라가는 것을 확인했으며 승진과 고가에 엄청나게 득을 보았습니다 감사합니다! 앞으로도 인프런 애용하겠습니다.\n",
            "추가적으로 해 박조은 강사님의 [공공데이터로 파이썬 데이터 분석 시작하기] 강의를 듣고 상권분석과 공공데이터 활용 역량을 올릴 예정입니다. 화이팅!!!\n",
            "#관심강의 : 공공데이터로 파이썬 데이터 분석 시작하기\n",
            "--------------------\n",
            "데이터분석 2년차가 되는데 작년에 파이썬 강의를 담아놓고 그대로 1년간 방치... 올해는 꼭 완강하고 실습해서 개발자에게 의존하지 않고 혼자 크롤링&분석 해내고 싶어요! \n",
            "#관심강의: 공공데이터로 파이썬 데이터분석 시작하기, database 1&2 - mysql\n",
            "--------------------\n",
            "2020년에는 데이터 분석쪽으로 이직하고 싶어요! 인프런 강의 듣고 이직에 성공하고 싶습니다!!\n",
            "#관심강의: 공공데이터로 파이썬 데이터 분석 시작하기\n",
            "--------------------\n",
            "경영학과 졸업생입니다. 새해엔 엑셀! 파이썬! 취직! 해내겠습니다. 좋은 강의, 커리큘럼이 있는 인프런 너무 감사합니다 ~^^\n",
            "#관심강의: 공공데이터로 분석하기\n",
            "--------------------\n",
            "인프런으로 파이썬 기초문법부터 입문했어요! 실무 데이터분석에 활용할 수 있는 수준으로 실력을 올리고 싶습니다:)\n",
            "#관심강의: 공공데이터로 파이썬 데이터 분석 시작하기\n",
            "--------------------\n",
            "나만의 프로젝트 하나 완성할 수 있을 정도의 지식 쌓기!\n",
            "#관심강의:공공데이터로 파이썬 데이터 분석 시작하기\n"
          ],
          "name": "stdout"
        }
      ]
    },
    {
      "cell_type": "markdown",
      "metadata": {
        "id": "qwprZvgajmNb",
        "colab_type": "text"
      },
      "source": [
        "판다스 단어가 들어가는 텍스트만 찾기"
      ]
    },
    {
      "cell_type": "code",
      "metadata": {
        "id": "kJj1uclvjpGG",
        "colab_type": "code",
        "colab": {
          "base_uri": "https://localhost:8080/",
          "height": 136
        },
        "outputId": "e0ae2f3d-abe7-42a5-b7be-96efaedc010b"
      },
      "source": [
        "df.loc[df[\"판다스\"]==True,\"text\"]"
      ],
      "execution_count": 79,
      "outputs": [
        {
          "output_type": "execute_result",
          "data": {
            "text/plain": [
              "541     2020년에는 데이터분석 관련한 실력을 쌓고싶습니다!\\n#관심강의 : 파이썬, 판다...\n",
              "690     취미로 안드로이드 개발하는 사람입니다. 자바로 작성하다 보니, kotlin이 안드로...\n",
              "757          판다스 라입러리에 관심이 많아서 배워보려 합니다 #관심강의 : 박조은 - 판다스\n",
              "1236      2020년!! 올 해는 빅데이터 분석 전문가 되기!!\\n#관심강의 : 파이썬, 판다스\n",
              "2153    2020년 목표  파이썬 을  활용해  데이터 분석 작업을 진행하고 싶습니다.  관...\n",
              "2363    저는 백세시대에 조금 더 오랫동안 it일을 하기위해서 it전략기획에서 데이터분석가로...\n",
              "Name: text, dtype: object"
            ]
          },
          "metadata": {
            "tags": []
          },
          "execution_count": 79
        }
      ]
    },
    {
      "cell_type": "markdown",
      "metadata": {
        "id": "FJd-BWKyjxIQ",
        "colab_type": "text"
      },
      "source": [
        "## **빈도수 계산을 위한 텍스트 데이터 벡터화**"
      ]
    },
    {
      "cell_type": "code",
      "metadata": {
        "id": "7QbaDaFVnGqA",
        "colab_type": "code",
        "colab": {
          "base_uri": "https://localhost:8080/",
          "height": 34
        },
        "outputId": "f365e8d2-ad65-47c4-a529-5243e08f7c4d"
      },
      "source": [
        "#토큰화\n",
        "\"파이썬 데이터 분석\".split()"
      ],
      "execution_count": 81,
      "outputs": [
        {
          "output_type": "execute_result",
          "data": {
            "text/plain": [
              "['파이썬', '데이터', '분석']"
            ]
          },
          "metadata": {
            "tags": []
          },
          "execution_count": 81
        }
      ]
    },
    {
      "cell_type": "code",
      "metadata": {
        "id": "ZmtA9dQ6jva9",
        "colab_type": "code",
        "colab": {
          "base_uri": "https://localhost:8080/",
          "height": 119
        },
        "outputId": "1af46ef4-42c0-469a-e08e-a2954bab4db0"
      },
      "source": [
        "from sklearn.feature_extraction.text import CountVectorizer\n",
        "\n",
        "vectorizer = CountVectorizer(analyzer = 'word',#캐릭터 단위로 벡터화 할 수도 있습니다.\n",
        "                             tokenizer=None, #토크나이저를 따로 지정해 줄 수도 있습니다.\n",
        "                             preprocessor=None, #전처리 도구\n",
        "                             stop_words=None, #불용어 nltk등의 도구를 사용할 수도 있습니다.\n",
        "                             min_df=2, #토큰이 나타날 최소 문서 개수로 오타나 자주 나오지 않는 특수한 전문용어\n",
        "                             ngram_range=(3,6), # BOW의 단위 갯수의 범위를 지정합니다.\n",
        "                             max_features = 2000 #만들 피처의 수, 단어의 수\n",
        "                            )\n",
        "vectorizer"
      ],
      "execution_count": 80,
      "outputs": [
        {
          "output_type": "execute_result",
          "data": {
            "text/plain": [
              "CountVectorizer(analyzer='word', binary=False, decode_error='strict',\n",
              "                dtype=<class 'numpy.int64'>, encoding='utf-8', input='content',\n",
              "                lowercase=True, max_df=1.0, max_features=2000, min_df=2,\n",
              "                ngram_range=(3, 6), preprocessor=None, stop_words=None,\n",
              "                strip_accents=None, token_pattern='(?u)\\\\b\\\\w\\\\w+\\\\b',\n",
              "                tokenizer=None, vocabulary=None)"
            ]
          },
          "metadata": {
            "tags": []
          },
          "execution_count": 80
        }
      ]
    },
    {
      "cell_type": "code",
      "metadata": {
        "id": "97YGcGG3nLEB",
        "colab_type": "code",
        "colab": {
          "base_uri": "https://localhost:8080/",
          "height": 34
        },
        "outputId": "ff74b763-d964-4c00-dde9-4c56618ce791"
      },
      "source": [
        "feature_vector=vectorizer.fit_transform(df['course'])\n",
        "feature_vector.shape"
      ],
      "execution_count": 83,
      "outputs": [
        {
          "output_type": "execute_result",
          "data": {
            "text/plain": [
              "(2409, 2000)"
            ]
          },
          "metadata": {
            "tags": []
          },
          "execution_count": 83
        }
      ]
    },
    {
      "cell_type": "code",
      "metadata": {
        "id": "yv8FMGnWniDN",
        "colab_type": "code",
        "colab": {
          "base_uri": "https://localhost:8080/",
          "height": 204
        },
        "outputId": "dc1fe828-253f-450d-da51-442570258be2"
      },
      "source": [
        "vocab=vectorizer.get_feature_names()\n",
        "print(len(vocab))\n",
        "vocab[:10]"
      ],
      "execution_count": 85,
      "outputs": [
        {
          "output_type": "stream",
          "text": [
            "2000\n"
          ],
          "name": "stdout"
        },
        {
          "output_type": "execute_result",
          "data": {
            "text/plain": [
              "['12개 만들면서 배우는',\n",
              " '12개 만들면서 배우는 ios',\n",
              " '12개 만들면서 배우는 ios 아이폰',\n",
              " '12개 만들면서 배우는 ios 아이폰 개발',\n",
              " '12개를 만들며 배우는',\n",
              " '12개를 만들며 배우는 swift4',\n",
              " '12개를 만들며 배우는 swift4 ios11',\n",
              " '12개를 만들며 배우는 swift4 ios11 아이폰',\n",
              " '2018 do it',\n",
              " '2018 do it 안드로이드']"
            ]
          },
          "metadata": {
            "tags": []
          },
          "execution_count": 85
        }
      ]
    },
    {
      "cell_type": "code",
      "metadata": {
        "id": "aseACCg2nx0q",
        "colab_type": "code",
        "colab": {
          "base_uri": "https://localhost:8080/",
          "height": 610
        },
        "outputId": "37f46c68-5ac3-4931-d8f6-4ebb89ba29b8"
      },
      "source": [
        "#각 리뷰마다 등장하는 단어에 빈도수가 표현됩니다. ()은 등장하지 않음을 의미합니다.\n",
        "pd.DataFrame(feature_vector[:10].toarray(),columns=vocab).head()"
      ],
      "execution_count": 86,
      "outputs": [
        {
          "output_type": "execute_result",
          "data": {
            "text/html": [
              "<div>\n",
              "<style scoped>\n",
              "    .dataframe tbody tr th:only-of-type {\n",
              "        vertical-align: middle;\n",
              "    }\n",
              "\n",
              "    .dataframe tbody tr th {\n",
              "        vertical-align: top;\n",
              "    }\n",
              "\n",
              "    .dataframe thead th {\n",
              "        text-align: right;\n",
              "    }\n",
              "</style>\n",
              "<table border=\"1\" class=\"dataframe\">\n",
              "  <thead>\n",
              "    <tr style=\"text-align: right;\">\n",
              "      <th></th>\n",
              "      <th>12개 만들면서 배우는</th>\n",
              "      <th>12개 만들면서 배우는 ios</th>\n",
              "      <th>12개 만들면서 배우는 ios 아이폰</th>\n",
              "      <th>12개 만들면서 배우는 ios 아이폰 개발</th>\n",
              "      <th>12개를 만들며 배우는</th>\n",
              "      <th>12개를 만들며 배우는 swift4</th>\n",
              "      <th>12개를 만들며 배우는 swift4 ios11</th>\n",
              "      <th>12개를 만들며 배우는 swift4 ios11 아이폰</th>\n",
              "      <th>2018 do it</th>\n",
              "      <th>2018 do it 안드로이드</th>\n",
              "      <th>2018 do it 안드로이드 프로그래밍</th>\n",
              "      <th>2020년 공부 목표</th>\n",
              "      <th>2020년 공부 목표 올해는</th>\n",
              "      <th>2020년 공부 목표 파이썬</th>\n",
              "      <th>2020년 공부 목표 프론트엔드</th>\n",
              "      <th>2020년 공부 목표 프론트엔드 영역</th>\n",
              "      <th>2020년 공부 목표 프론트엔드 영역 자유롭게</th>\n",
              "      <th>2020년 공부 목표 현재</th>\n",
              "      <th>2020년 공부 목표는</th>\n",
              "      <th>2020년 목표 리액트</th>\n",
              "      <th>2020년 목표 리액트 공부하기</th>\n",
              "      <th>2020년 목표 열심히</th>\n",
              "      <th>2020년 목표 열심히 공부해서</th>\n",
              "      <th>2d 시작부터 배포까지</th>\n",
              "      <th>3dsmax 초급부터 전문가까지</th>\n",
              "      <th>3dsmax 초급부터 전문가까지 한방에</th>\n",
              "      <th>3dsmax 초급부터 전문가까지 한방에 끝내는</th>\n",
              "      <th>3dsmax 초급부터 전문가까지 한방에 끝내는 3dsmax</th>\n",
              "      <th>age of vue</th>\n",
              "      <th>age of vue js</th>\n",
              "      <th>age of vue js vue</th>\n",
              "      <th>age of vue js vue js</th>\n",
              "      <th>android pie app</th>\n",
              "      <th>android pie app 개발</th>\n",
              "      <th>android pie app 개발 기본</th>\n",
              "      <th>android pie app 개발 심화</th>\n",
              "      <th>api 개발 스프링</th>\n",
              "      <th>api 개발 스프링 데이터</th>\n",
              "      <th>api 개발 스프링 데이터 jpa</th>\n",
              "      <th>api 개발 스프링 시큐리티</th>\n",
              "      <th>...</th>\n",
              "      <th>현직 개발자 입니다 올해는</th>\n",
              "      <th>홍정모의 게임 만들기</th>\n",
              "      <th>홍정모의 게임 만들기 연습</th>\n",
              "      <th>홍정모의 게임 만들기 연습 문제</th>\n",
              "      <th>홍정모의 게임 만들기 연습 문제 패키지</th>\n",
              "      <th>홍정모의 따라하며 배우는</th>\n",
              "      <th>홍정모의 따라하며 배우는 c언어</th>\n",
              "      <th>홍정모의 따라하며 배우는 c언어 홍정모의</th>\n",
              "      <th>홍정모의 따라하며 배우는 c언어 홍정모의 따라하며</th>\n",
              "      <th>홍정모의 따라하며 배우는 리눅스</th>\n",
              "      <th>홍정모의 따라하며 배우는 리눅스 시스템</th>\n",
              "      <th>홍정모의 따라하며 배우는 홍정모의</th>\n",
              "      <th>홍정모의 따라하며 배우는 홍정모의 게임</th>\n",
              "      <th>홍정모의 따라하며 배우는 홍정모의 게임 만들기</th>\n",
              "      <th>홍정모의 따라하며 배우는 홍정모의 따라하며</th>\n",
              "      <th>홍정모의 따라하며 배우는 홍정모의 따라하며 배우는</th>\n",
              "      <th>홍정모의 따라하면서 배우는</th>\n",
              "      <th>홍정모의 따라하면서 배우는 c언어</th>\n",
              "      <th>화이트해커가 되기 위한</th>\n",
              "      <th>화이트해커가 되기 위한 모의해킹</th>\n",
              "      <th>화이트해커가 되기 위한 모의해킹 완전</th>\n",
              "      <th>화이트해커가 되기 위한 모의해킹 완전 정복</th>\n",
              "      <th>활용 스프링 시큐리티</th>\n",
              "      <th>활용 스프링 프레임워크</th>\n",
              "      <th>활용1 애플리케이션 개발</th>\n",
              "      <th>활용1 애플리케이션 개발 실전</th>\n",
              "      <th>활용1 애플리케이션 개발 실전 스프링</th>\n",
              "      <th>활용1 애플리케이션 개발 실전 스프링 부트와</th>\n",
              "      <th>활용2 api 개발과</th>\n",
              "      <th>활용2 api 개발과 성능</th>\n",
              "      <th>활용2 api 개발과 성능 최적화</th>\n",
              "      <th>활용한 다양한 자동화</th>\n",
              "      <th>활용한 다양한 자동화 어플리케이션</th>\n",
              "      <th>활용한 다양한 자동화 어플리케이션 제작하기</th>\n",
              "      <th>활용한 데이터분석과 it보안</th>\n",
              "      <th>활용한 리액트 native</th>\n",
              "      <th>활용한 리액트 native 개발</th>\n",
              "      <th>활용한 메신져 만들기</th>\n",
              "      <th>활용한 메신져 만들기 android</th>\n",
              "      <th>활용한 파이썬 프로그래밍</th>\n",
              "    </tr>\n",
              "  </thead>\n",
              "  <tbody>\n",
              "    <tr>\n",
              "      <th>0</th>\n",
              "      <td>0</td>\n",
              "      <td>0</td>\n",
              "      <td>0</td>\n",
              "      <td>0</td>\n",
              "      <td>0</td>\n",
              "      <td>0</td>\n",
              "      <td>0</td>\n",
              "      <td>0</td>\n",
              "      <td>0</td>\n",
              "      <td>0</td>\n",
              "      <td>0</td>\n",
              "      <td>0</td>\n",
              "      <td>0</td>\n",
              "      <td>0</td>\n",
              "      <td>0</td>\n",
              "      <td>0</td>\n",
              "      <td>0</td>\n",
              "      <td>0</td>\n",
              "      <td>0</td>\n",
              "      <td>0</td>\n",
              "      <td>0</td>\n",
              "      <td>0</td>\n",
              "      <td>0</td>\n",
              "      <td>0</td>\n",
              "      <td>0</td>\n",
              "      <td>0</td>\n",
              "      <td>0</td>\n",
              "      <td>0</td>\n",
              "      <td>0</td>\n",
              "      <td>0</td>\n",
              "      <td>0</td>\n",
              "      <td>0</td>\n",
              "      <td>0</td>\n",
              "      <td>0</td>\n",
              "      <td>0</td>\n",
              "      <td>0</td>\n",
              "      <td>0</td>\n",
              "      <td>0</td>\n",
              "      <td>0</td>\n",
              "      <td>0</td>\n",
              "      <td>...</td>\n",
              "      <td>0</td>\n",
              "      <td>0</td>\n",
              "      <td>0</td>\n",
              "      <td>0</td>\n",
              "      <td>0</td>\n",
              "      <td>0</td>\n",
              "      <td>0</td>\n",
              "      <td>0</td>\n",
              "      <td>0</td>\n",
              "      <td>0</td>\n",
              "      <td>0</td>\n",
              "      <td>0</td>\n",
              "      <td>0</td>\n",
              "      <td>0</td>\n",
              "      <td>0</td>\n",
              "      <td>0</td>\n",
              "      <td>0</td>\n",
              "      <td>0</td>\n",
              "      <td>0</td>\n",
              "      <td>0</td>\n",
              "      <td>0</td>\n",
              "      <td>0</td>\n",
              "      <td>0</td>\n",
              "      <td>0</td>\n",
              "      <td>0</td>\n",
              "      <td>0</td>\n",
              "      <td>0</td>\n",
              "      <td>0</td>\n",
              "      <td>0</td>\n",
              "      <td>0</td>\n",
              "      <td>0</td>\n",
              "      <td>0</td>\n",
              "      <td>0</td>\n",
              "      <td>0</td>\n",
              "      <td>0</td>\n",
              "      <td>0</td>\n",
              "      <td>0</td>\n",
              "      <td>0</td>\n",
              "      <td>0</td>\n",
              "      <td>0</td>\n",
              "    </tr>\n",
              "    <tr>\n",
              "      <th>1</th>\n",
              "      <td>0</td>\n",
              "      <td>0</td>\n",
              "      <td>0</td>\n",
              "      <td>0</td>\n",
              "      <td>0</td>\n",
              "      <td>0</td>\n",
              "      <td>0</td>\n",
              "      <td>0</td>\n",
              "      <td>0</td>\n",
              "      <td>0</td>\n",
              "      <td>0</td>\n",
              "      <td>0</td>\n",
              "      <td>0</td>\n",
              "      <td>0</td>\n",
              "      <td>0</td>\n",
              "      <td>0</td>\n",
              "      <td>0</td>\n",
              "      <td>0</td>\n",
              "      <td>0</td>\n",
              "      <td>0</td>\n",
              "      <td>0</td>\n",
              "      <td>1</td>\n",
              "      <td>1</td>\n",
              "      <td>0</td>\n",
              "      <td>0</td>\n",
              "      <td>0</td>\n",
              "      <td>0</td>\n",
              "      <td>0</td>\n",
              "      <td>0</td>\n",
              "      <td>0</td>\n",
              "      <td>0</td>\n",
              "      <td>0</td>\n",
              "      <td>0</td>\n",
              "      <td>0</td>\n",
              "      <td>0</td>\n",
              "      <td>0</td>\n",
              "      <td>0</td>\n",
              "      <td>0</td>\n",
              "      <td>0</td>\n",
              "      <td>0</td>\n",
              "      <td>...</td>\n",
              "      <td>0</td>\n",
              "      <td>0</td>\n",
              "      <td>0</td>\n",
              "      <td>0</td>\n",
              "      <td>0</td>\n",
              "      <td>0</td>\n",
              "      <td>0</td>\n",
              "      <td>0</td>\n",
              "      <td>0</td>\n",
              "      <td>0</td>\n",
              "      <td>0</td>\n",
              "      <td>0</td>\n",
              "      <td>0</td>\n",
              "      <td>0</td>\n",
              "      <td>0</td>\n",
              "      <td>0</td>\n",
              "      <td>0</td>\n",
              "      <td>0</td>\n",
              "      <td>0</td>\n",
              "      <td>0</td>\n",
              "      <td>0</td>\n",
              "      <td>0</td>\n",
              "      <td>0</td>\n",
              "      <td>0</td>\n",
              "      <td>0</td>\n",
              "      <td>0</td>\n",
              "      <td>0</td>\n",
              "      <td>0</td>\n",
              "      <td>0</td>\n",
              "      <td>0</td>\n",
              "      <td>0</td>\n",
              "      <td>0</td>\n",
              "      <td>0</td>\n",
              "      <td>0</td>\n",
              "      <td>0</td>\n",
              "      <td>0</td>\n",
              "      <td>0</td>\n",
              "      <td>0</td>\n",
              "      <td>0</td>\n",
              "      <td>0</td>\n",
              "    </tr>\n",
              "    <tr>\n",
              "      <th>2</th>\n",
              "      <td>0</td>\n",
              "      <td>0</td>\n",
              "      <td>0</td>\n",
              "      <td>0</td>\n",
              "      <td>0</td>\n",
              "      <td>0</td>\n",
              "      <td>0</td>\n",
              "      <td>0</td>\n",
              "      <td>0</td>\n",
              "      <td>0</td>\n",
              "      <td>0</td>\n",
              "      <td>0</td>\n",
              "      <td>0</td>\n",
              "      <td>0</td>\n",
              "      <td>0</td>\n",
              "      <td>0</td>\n",
              "      <td>0</td>\n",
              "      <td>0</td>\n",
              "      <td>0</td>\n",
              "      <td>0</td>\n",
              "      <td>0</td>\n",
              "      <td>0</td>\n",
              "      <td>0</td>\n",
              "      <td>0</td>\n",
              "      <td>0</td>\n",
              "      <td>0</td>\n",
              "      <td>0</td>\n",
              "      <td>0</td>\n",
              "      <td>0</td>\n",
              "      <td>0</td>\n",
              "      <td>0</td>\n",
              "      <td>0</td>\n",
              "      <td>0</td>\n",
              "      <td>0</td>\n",
              "      <td>0</td>\n",
              "      <td>0</td>\n",
              "      <td>0</td>\n",
              "      <td>0</td>\n",
              "      <td>0</td>\n",
              "      <td>0</td>\n",
              "      <td>...</td>\n",
              "      <td>0</td>\n",
              "      <td>0</td>\n",
              "      <td>0</td>\n",
              "      <td>0</td>\n",
              "      <td>0</td>\n",
              "      <td>0</td>\n",
              "      <td>0</td>\n",
              "      <td>0</td>\n",
              "      <td>0</td>\n",
              "      <td>0</td>\n",
              "      <td>0</td>\n",
              "      <td>0</td>\n",
              "      <td>0</td>\n",
              "      <td>0</td>\n",
              "      <td>0</td>\n",
              "      <td>0</td>\n",
              "      <td>0</td>\n",
              "      <td>0</td>\n",
              "      <td>0</td>\n",
              "      <td>0</td>\n",
              "      <td>0</td>\n",
              "      <td>0</td>\n",
              "      <td>0</td>\n",
              "      <td>0</td>\n",
              "      <td>0</td>\n",
              "      <td>0</td>\n",
              "      <td>0</td>\n",
              "      <td>0</td>\n",
              "      <td>0</td>\n",
              "      <td>0</td>\n",
              "      <td>0</td>\n",
              "      <td>0</td>\n",
              "      <td>0</td>\n",
              "      <td>0</td>\n",
              "      <td>0</td>\n",
              "      <td>0</td>\n",
              "      <td>0</td>\n",
              "      <td>0</td>\n",
              "      <td>0</td>\n",
              "      <td>0</td>\n",
              "    </tr>\n",
              "    <tr>\n",
              "      <th>3</th>\n",
              "      <td>0</td>\n",
              "      <td>0</td>\n",
              "      <td>0</td>\n",
              "      <td>0</td>\n",
              "      <td>0</td>\n",
              "      <td>0</td>\n",
              "      <td>0</td>\n",
              "      <td>0</td>\n",
              "      <td>0</td>\n",
              "      <td>0</td>\n",
              "      <td>0</td>\n",
              "      <td>0</td>\n",
              "      <td>0</td>\n",
              "      <td>0</td>\n",
              "      <td>0</td>\n",
              "      <td>0</td>\n",
              "      <td>0</td>\n",
              "      <td>0</td>\n",
              "      <td>0</td>\n",
              "      <td>0</td>\n",
              "      <td>0</td>\n",
              "      <td>0</td>\n",
              "      <td>0</td>\n",
              "      <td>0</td>\n",
              "      <td>0</td>\n",
              "      <td>0</td>\n",
              "      <td>0</td>\n",
              "      <td>0</td>\n",
              "      <td>0</td>\n",
              "      <td>0</td>\n",
              "      <td>0</td>\n",
              "      <td>0</td>\n",
              "      <td>0</td>\n",
              "      <td>0</td>\n",
              "      <td>0</td>\n",
              "      <td>0</td>\n",
              "      <td>0</td>\n",
              "      <td>0</td>\n",
              "      <td>0</td>\n",
              "      <td>0</td>\n",
              "      <td>...</td>\n",
              "      <td>0</td>\n",
              "      <td>0</td>\n",
              "      <td>0</td>\n",
              "      <td>0</td>\n",
              "      <td>0</td>\n",
              "      <td>0</td>\n",
              "      <td>0</td>\n",
              "      <td>0</td>\n",
              "      <td>0</td>\n",
              "      <td>0</td>\n",
              "      <td>0</td>\n",
              "      <td>0</td>\n",
              "      <td>0</td>\n",
              "      <td>0</td>\n",
              "      <td>0</td>\n",
              "      <td>0</td>\n",
              "      <td>0</td>\n",
              "      <td>0</td>\n",
              "      <td>0</td>\n",
              "      <td>0</td>\n",
              "      <td>0</td>\n",
              "      <td>0</td>\n",
              "      <td>0</td>\n",
              "      <td>0</td>\n",
              "      <td>0</td>\n",
              "      <td>0</td>\n",
              "      <td>0</td>\n",
              "      <td>0</td>\n",
              "      <td>0</td>\n",
              "      <td>0</td>\n",
              "      <td>0</td>\n",
              "      <td>0</td>\n",
              "      <td>0</td>\n",
              "      <td>0</td>\n",
              "      <td>0</td>\n",
              "      <td>0</td>\n",
              "      <td>0</td>\n",
              "      <td>0</td>\n",
              "      <td>0</td>\n",
              "      <td>0</td>\n",
              "    </tr>\n",
              "    <tr>\n",
              "      <th>4</th>\n",
              "      <td>0</td>\n",
              "      <td>0</td>\n",
              "      <td>0</td>\n",
              "      <td>0</td>\n",
              "      <td>0</td>\n",
              "      <td>0</td>\n",
              "      <td>0</td>\n",
              "      <td>0</td>\n",
              "      <td>0</td>\n",
              "      <td>0</td>\n",
              "      <td>0</td>\n",
              "      <td>0</td>\n",
              "      <td>0</td>\n",
              "      <td>0</td>\n",
              "      <td>0</td>\n",
              "      <td>0</td>\n",
              "      <td>0</td>\n",
              "      <td>0</td>\n",
              "      <td>0</td>\n",
              "      <td>0</td>\n",
              "      <td>0</td>\n",
              "      <td>0</td>\n",
              "      <td>0</td>\n",
              "      <td>0</td>\n",
              "      <td>0</td>\n",
              "      <td>0</td>\n",
              "      <td>0</td>\n",
              "      <td>0</td>\n",
              "      <td>0</td>\n",
              "      <td>0</td>\n",
              "      <td>0</td>\n",
              "      <td>0</td>\n",
              "      <td>0</td>\n",
              "      <td>0</td>\n",
              "      <td>0</td>\n",
              "      <td>0</td>\n",
              "      <td>0</td>\n",
              "      <td>0</td>\n",
              "      <td>0</td>\n",
              "      <td>0</td>\n",
              "      <td>...</td>\n",
              "      <td>0</td>\n",
              "      <td>0</td>\n",
              "      <td>0</td>\n",
              "      <td>0</td>\n",
              "      <td>0</td>\n",
              "      <td>0</td>\n",
              "      <td>0</td>\n",
              "      <td>0</td>\n",
              "      <td>0</td>\n",
              "      <td>0</td>\n",
              "      <td>0</td>\n",
              "      <td>0</td>\n",
              "      <td>0</td>\n",
              "      <td>0</td>\n",
              "      <td>0</td>\n",
              "      <td>0</td>\n",
              "      <td>0</td>\n",
              "      <td>0</td>\n",
              "      <td>0</td>\n",
              "      <td>0</td>\n",
              "      <td>0</td>\n",
              "      <td>0</td>\n",
              "      <td>0</td>\n",
              "      <td>0</td>\n",
              "      <td>0</td>\n",
              "      <td>0</td>\n",
              "      <td>0</td>\n",
              "      <td>0</td>\n",
              "      <td>0</td>\n",
              "      <td>0</td>\n",
              "      <td>0</td>\n",
              "      <td>0</td>\n",
              "      <td>0</td>\n",
              "      <td>0</td>\n",
              "      <td>0</td>\n",
              "      <td>0</td>\n",
              "      <td>0</td>\n",
              "      <td>0</td>\n",
              "      <td>0</td>\n",
              "      <td>0</td>\n",
              "    </tr>\n",
              "  </tbody>\n",
              "</table>\n",
              "<p>5 rows × 2000 columns</p>\n",
              "</div>"
            ],
            "text/plain": [
              "   12개 만들면서 배우는  12개 만들면서 배우는 ios  ...  활용한 메신져 만들기 android  활용한 파이썬 프로그래밍\n",
              "0             0                 0  ...                    0              0\n",
              "1             0                 0  ...                    0              0\n",
              "2             0                 0  ...                    0              0\n",
              "3             0                 0  ...                    0              0\n",
              "4             0                 0  ...                    0              0\n",
              "\n",
              "[5 rows x 2000 columns]"
            ]
          },
          "metadata": {
            "tags": []
          },
          "execution_count": 86
        }
      ]
    },
    {
      "cell_type": "code",
      "metadata": {
        "id": "GNboXNLloP9e",
        "colab_type": "code",
        "colab": {
          "base_uri": "https://localhost:8080/",
          "height": 486
        },
        "outputId": "dc75540b-2e06-4a37-b155-ade7b1d2a1b3"
      },
      "source": [
        "#위에서 구한 단어벡터를 더하면 단어가 전체에서 등장하는 횟수를 알 수 있습니다.\n",
        "#벡터화 된 피처를 확인해 봄\n",
        "#Bag of words 에 몇 개의 단어가 들어있는지 확인\n",
        "\n",
        "dist=np.sum(feature_vector, axis=0)\n",
        "\n",
        "df_freq=pd.DataFrame(dist,columns=vocab)\n",
        "df_freq"
      ],
      "execution_count": 87,
      "outputs": [
        {
          "output_type": "execute_result",
          "data": {
            "text/html": [
              "<div>\n",
              "<style scoped>\n",
              "    .dataframe tbody tr th:only-of-type {\n",
              "        vertical-align: middle;\n",
              "    }\n",
              "\n",
              "    .dataframe tbody tr th {\n",
              "        vertical-align: top;\n",
              "    }\n",
              "\n",
              "    .dataframe thead th {\n",
              "        text-align: right;\n",
              "    }\n",
              "</style>\n",
              "<table border=\"1\" class=\"dataframe\">\n",
              "  <thead>\n",
              "    <tr style=\"text-align: right;\">\n",
              "      <th></th>\n",
              "      <th>12개 만들면서 배우는</th>\n",
              "      <th>12개 만들면서 배우는 ios</th>\n",
              "      <th>12개 만들면서 배우는 ios 아이폰</th>\n",
              "      <th>12개 만들면서 배우는 ios 아이폰 개발</th>\n",
              "      <th>12개를 만들며 배우는</th>\n",
              "      <th>12개를 만들며 배우는 swift4</th>\n",
              "      <th>12개를 만들며 배우는 swift4 ios11</th>\n",
              "      <th>12개를 만들며 배우는 swift4 ios11 아이폰</th>\n",
              "      <th>2018 do it</th>\n",
              "      <th>2018 do it 안드로이드</th>\n",
              "      <th>2018 do it 안드로이드 프로그래밍</th>\n",
              "      <th>2020년 공부 목표</th>\n",
              "      <th>2020년 공부 목표 올해는</th>\n",
              "      <th>2020년 공부 목표 파이썬</th>\n",
              "      <th>2020년 공부 목표 프론트엔드</th>\n",
              "      <th>2020년 공부 목표 프론트엔드 영역</th>\n",
              "      <th>2020년 공부 목표 프론트엔드 영역 자유롭게</th>\n",
              "      <th>2020년 공부 목표 현재</th>\n",
              "      <th>2020년 공부 목표는</th>\n",
              "      <th>2020년 목표 리액트</th>\n",
              "      <th>2020년 목표 리액트 공부하기</th>\n",
              "      <th>2020년 목표 열심히</th>\n",
              "      <th>2020년 목표 열심히 공부해서</th>\n",
              "      <th>2d 시작부터 배포까지</th>\n",
              "      <th>3dsmax 초급부터 전문가까지</th>\n",
              "      <th>3dsmax 초급부터 전문가까지 한방에</th>\n",
              "      <th>3dsmax 초급부터 전문가까지 한방에 끝내는</th>\n",
              "      <th>3dsmax 초급부터 전문가까지 한방에 끝내는 3dsmax</th>\n",
              "      <th>age of vue</th>\n",
              "      <th>age of vue js</th>\n",
              "      <th>age of vue js vue</th>\n",
              "      <th>age of vue js vue js</th>\n",
              "      <th>android pie app</th>\n",
              "      <th>android pie app 개발</th>\n",
              "      <th>android pie app 개발 기본</th>\n",
              "      <th>android pie app 개발 심화</th>\n",
              "      <th>api 개발 스프링</th>\n",
              "      <th>api 개발 스프링 데이터</th>\n",
              "      <th>api 개발 스프링 데이터 jpa</th>\n",
              "      <th>api 개발 스프링 시큐리티</th>\n",
              "      <th>...</th>\n",
              "      <th>현직 개발자 입니다 올해는</th>\n",
              "      <th>홍정모의 게임 만들기</th>\n",
              "      <th>홍정모의 게임 만들기 연습</th>\n",
              "      <th>홍정모의 게임 만들기 연습 문제</th>\n",
              "      <th>홍정모의 게임 만들기 연습 문제 패키지</th>\n",
              "      <th>홍정모의 따라하며 배우는</th>\n",
              "      <th>홍정모의 따라하며 배우는 c언어</th>\n",
              "      <th>홍정모의 따라하며 배우는 c언어 홍정모의</th>\n",
              "      <th>홍정모의 따라하며 배우는 c언어 홍정모의 따라하며</th>\n",
              "      <th>홍정모의 따라하며 배우는 리눅스</th>\n",
              "      <th>홍정모의 따라하며 배우는 리눅스 시스템</th>\n",
              "      <th>홍정모의 따라하며 배우는 홍정모의</th>\n",
              "      <th>홍정모의 따라하며 배우는 홍정모의 게임</th>\n",
              "      <th>홍정모의 따라하며 배우는 홍정모의 게임 만들기</th>\n",
              "      <th>홍정모의 따라하며 배우는 홍정모의 따라하며</th>\n",
              "      <th>홍정모의 따라하며 배우는 홍정모의 따라하며 배우는</th>\n",
              "      <th>홍정모의 따라하면서 배우는</th>\n",
              "      <th>홍정모의 따라하면서 배우는 c언어</th>\n",
              "      <th>화이트해커가 되기 위한</th>\n",
              "      <th>화이트해커가 되기 위한 모의해킹</th>\n",
              "      <th>화이트해커가 되기 위한 모의해킹 완전</th>\n",
              "      <th>화이트해커가 되기 위한 모의해킹 완전 정복</th>\n",
              "      <th>활용 스프링 시큐리티</th>\n",
              "      <th>활용 스프링 프레임워크</th>\n",
              "      <th>활용1 애플리케이션 개발</th>\n",
              "      <th>활용1 애플리케이션 개발 실전</th>\n",
              "      <th>활용1 애플리케이션 개발 실전 스프링</th>\n",
              "      <th>활용1 애플리케이션 개발 실전 스프링 부트와</th>\n",
              "      <th>활용2 api 개발과</th>\n",
              "      <th>활용2 api 개발과 성능</th>\n",
              "      <th>활용2 api 개발과 성능 최적화</th>\n",
              "      <th>활용한 다양한 자동화</th>\n",
              "      <th>활용한 다양한 자동화 어플리케이션</th>\n",
              "      <th>활용한 다양한 자동화 어플리케이션 제작하기</th>\n",
              "      <th>활용한 데이터분석과 it보안</th>\n",
              "      <th>활용한 리액트 native</th>\n",
              "      <th>활용한 리액트 native 개발</th>\n",
              "      <th>활용한 메신져 만들기</th>\n",
              "      <th>활용한 메신져 만들기 android</th>\n",
              "      <th>활용한 파이썬 프로그래밍</th>\n",
              "    </tr>\n",
              "  </thead>\n",
              "  <tbody>\n",
              "    <tr>\n",
              "      <th>0</th>\n",
              "      <td>2</td>\n",
              "      <td>2</td>\n",
              "      <td>2</td>\n",
              "      <td>2</td>\n",
              "      <td>2</td>\n",
              "      <td>2</td>\n",
              "      <td>2</td>\n",
              "      <td>2</td>\n",
              "      <td>2</td>\n",
              "      <td>2</td>\n",
              "      <td>2</td>\n",
              "      <td>47</td>\n",
              "      <td>2</td>\n",
              "      <td>2</td>\n",
              "      <td>2</td>\n",
              "      <td>2</td>\n",
              "      <td>2</td>\n",
              "      <td>3</td>\n",
              "      <td>4</td>\n",
              "      <td>2</td>\n",
              "      <td>2</td>\n",
              "      <td>2</td>\n",
              "      <td>2</td>\n",
              "      <td>3</td>\n",
              "      <td>8</td>\n",
              "      <td>8</td>\n",
              "      <td>8</td>\n",
              "      <td>7</td>\n",
              "      <td>15</td>\n",
              "      <td>15</td>\n",
              "      <td>6</td>\n",
              "      <td>6</td>\n",
              "      <td>6</td>\n",
              "      <td>6</td>\n",
              "      <td>2</td>\n",
              "      <td>2</td>\n",
              "      <td>7</td>\n",
              "      <td>2</td>\n",
              "      <td>2</td>\n",
              "      <td>4</td>\n",
              "      <td>...</td>\n",
              "      <td>2</td>\n",
              "      <td>12</td>\n",
              "      <td>11</td>\n",
              "      <td>11</td>\n",
              "      <td>11</td>\n",
              "      <td>100</td>\n",
              "      <td>22</td>\n",
              "      <td>3</td>\n",
              "      <td>3</td>\n",
              "      <td>2</td>\n",
              "      <td>2</td>\n",
              "      <td>12</td>\n",
              "      <td>5</td>\n",
              "      <td>5</td>\n",
              "      <td>7</td>\n",
              "      <td>7</td>\n",
              "      <td>5</td>\n",
              "      <td>3</td>\n",
              "      <td>4</td>\n",
              "      <td>3</td>\n",
              "      <td>3</td>\n",
              "      <td>3</td>\n",
              "      <td>3</td>\n",
              "      <td>3</td>\n",
              "      <td>24</td>\n",
              "      <td>4</td>\n",
              "      <td>3</td>\n",
              "      <td>3</td>\n",
              "      <td>16</td>\n",
              "      <td>16</td>\n",
              "      <td>16</td>\n",
              "      <td>13</td>\n",
              "      <td>13</td>\n",
              "      <td>12</td>\n",
              "      <td>2</td>\n",
              "      <td>8</td>\n",
              "      <td>8</td>\n",
              "      <td>2</td>\n",
              "      <td>2</td>\n",
              "      <td>2</td>\n",
              "    </tr>\n",
              "  </tbody>\n",
              "</table>\n",
              "<p>1 rows × 2000 columns</p>\n",
              "</div>"
            ],
            "text/plain": [
              "   12개 만들면서 배우는  12개 만들면서 배우는 ios  ...  활용한 메신져 만들기 android  활용한 파이썬 프로그래밍\n",
              "0             2                 2  ...                    2              2\n",
              "\n",
              "[1 rows x 2000 columns]"
            ]
          },
          "metadata": {
            "tags": []
          },
          "execution_count": 87
        }
      ]
    },
    {
      "cell_type": "code",
      "metadata": {
        "id": "ByZ2ge6So-y-",
        "colab_type": "code",
        "colab": {
          "base_uri": "https://localhost:8080/",
          "height": 419
        },
        "outputId": "f2975494-9b84-4109-924b-e9bbf59bfd0e"
      },
      "source": [
        "#행과 열의 축을 T로 바꿔주고 빈도수로 정렬\n",
        "df_freq.T.sort_values(by=0, ascending=False).head(100)"
      ],
      "execution_count": 90,
      "outputs": [
        {
          "output_type": "execute_result",
          "data": {
            "text/html": [
              "<div>\n",
              "<style scoped>\n",
              "    .dataframe tbody tr th:only-of-type {\n",
              "        vertical-align: middle;\n",
              "    }\n",
              "\n",
              "    .dataframe tbody tr th {\n",
              "        vertical-align: top;\n",
              "    }\n",
              "\n",
              "    .dataframe thead th {\n",
              "        text-align: right;\n",
              "    }\n",
              "</style>\n",
              "<table border=\"1\" class=\"dataframe\">\n",
              "  <thead>\n",
              "    <tr style=\"text-align: right;\">\n",
              "      <th></th>\n",
              "      <th>0</th>\n",
              "    </tr>\n",
              "  </thead>\n",
              "  <tbody>\n",
              "    <tr>\n",
              "      <th>홍정모의 따라하며 배우는</th>\n",
              "      <td>100</td>\n",
              "    </tr>\n",
              "    <tr>\n",
              "      <th>스프링 데이터 jpa</th>\n",
              "      <td>60</td>\n",
              "    </tr>\n",
              "    <tr>\n",
              "      <th>nodebird sns 만들기</th>\n",
              "      <td>60</td>\n",
              "    </tr>\n",
              "    <tr>\n",
              "      <th>파이썬 머신러닝 완벽</th>\n",
              "      <td>49</td>\n",
              "    </tr>\n",
              "    <tr>\n",
              "      <th>리액트로 nodebird sns</th>\n",
              "      <td>49</td>\n",
              "    </tr>\n",
              "    <tr>\n",
              "      <th>...</th>\n",
              "      <td>...</td>\n",
              "    </tr>\n",
              "    <tr>\n",
              "      <th>리액트 초심자를 위한</th>\n",
              "      <td>20</td>\n",
              "    </tr>\n",
              "    <tr>\n",
              "      <th>누구든지 하는 리액트</th>\n",
              "      <td>20</td>\n",
              "    </tr>\n",
              "    <tr>\n",
              "      <th>하는 리액트 초심자를</th>\n",
              "      <td>20</td>\n",
              "    </tr>\n",
              "    <tr>\n",
              "      <th>하는 리액트 초심자를 위한 리액트</th>\n",
              "      <td>20</td>\n",
              "    </tr>\n",
              "    <tr>\n",
              "      <th>하는 리액트 초심자를 위한</th>\n",
              "      <td>20</td>\n",
              "    </tr>\n",
              "  </tbody>\n",
              "</table>\n",
              "<p>100 rows × 1 columns</p>\n",
              "</div>"
            ],
            "text/plain": [
              "                      0\n",
              "홍정모의 따라하며 배우는       100\n",
              "스프링 데이터 jpa          60\n",
              "nodebird sns 만들기     60\n",
              "파이썬 머신러닝 완벽          49\n",
              "리액트로 nodebird sns    49\n",
              "...                 ...\n",
              "리액트 초심자를 위한          20\n",
              "누구든지 하는 리액트          20\n",
              "하는 리액트 초심자를          20\n",
              "하는 리액트 초심자를 위한 리액트   20\n",
              "하는 리액트 초심자를 위한       20\n",
              "\n",
              "[100 rows x 1 columns]"
            ]
          },
          "metadata": {
            "tags": []
          },
          "execution_count": 90
        }
      ]
    },
    {
      "cell_type": "markdown",
      "metadata": {
        "id": "rYZMUVXeqJY6",
        "colab_type": "text"
      },
      "source": [
        "## TF-IDF 로 가중치를 주어 벡터화\n",
        "\n",
        "TfidfTransformer()\n",
        " norm='l2' 각 문서의 피처 벡터를 어떻게 벡터 정규화 할지 정합니다.\n",
        "    L2: 벡터의 각 원소의 제곱의 합이 1이 되도록 만드는 것이고 기본 값(유클리디안거리)\n",
        "    L1: 벡터의 각 원소의 절댓값의 합이 1이 되도록 크기를 조절 (맨하탄거리)\n",
        "  smooth_idf=False\n",
        "    피처를 만들 때 0으로 나오는 항목에 대해 작은 값을 더해서(스무딩을 해서) 피처를 만들지 아니면 그냥 생성할지를 결정\n",
        "  sublinear_tf=False\n",
        "  use_idf=True\n",
        "    TF-IDF를 사용해 피처를 만들 것인지 아니면 단어 빈도 자체를 사용할 것인지 여부"
      ]
    },
    {
      "cell_type": "code",
      "metadata": {
        "id": "j232DU5rpX-r",
        "colab_type": "code",
        "colab": {
          "base_uri": "https://localhost:8080/",
          "height": 34
        },
        "outputId": "6903a758-c98f-4192-8944-07e9aea239d8"
      },
      "source": [
        "from sklearn.feature_extraction.text import TfidfTransformer\n",
        "transformer = TfidfTransformer(smooth_idf=False)\n",
        "transformer"
      ],
      "execution_count": 96,
      "outputs": [
        {
          "output_type": "execute_result",
          "data": {
            "text/plain": [
              "TfidfTransformer(norm='l2', smooth_idf=False, sublinear_tf=False, use_idf=True)"
            ]
          },
          "metadata": {
            "tags": []
          },
          "execution_count": 96
        }
      ]
    },
    {
      "cell_type": "code",
      "metadata": {
        "id": "Rf-QzrOGrd2L",
        "colab_type": "code",
        "colab": {
          "base_uri": "https://localhost:8080/",
          "height": 51
        },
        "outputId": "51522dad-b0a1-4e4b-fa74-c602fa7705ff"
      },
      "source": [
        "%%time\n",
        "feature_tfidf=transformer.fit_transform(feature_vector)\n",
        "feature_tfidf.shape"
      ],
      "execution_count": 97,
      "outputs": [
        {
          "output_type": "stream",
          "text": [
            "CPU times: user 3.73 ms, sys: 0 ns, total: 3.73 ms\n",
            "Wall time: 7.9 ms\n"
          ],
          "name": "stdout"
        }
      ]
    },
    {
      "cell_type": "code",
      "metadata": {
        "id": "iZr_LOY0rt4j",
        "colab_type": "code",
        "colab": {
          "base_uri": "https://localhost:8080/",
          "height": 51
        },
        "outputId": "ff94d067-e9a0-4d60-f06a-d7e2fecbb274"
      },
      "source": [
        "feature_tfidf"
      ],
      "execution_count": 99,
      "outputs": [
        {
          "output_type": "execute_result",
          "data": {
            "text/plain": [
              "<2409x2000 sparse matrix of type '<class 'numpy.float64'>'\n",
              "\twith 11551 stored elements in Compressed Sparse Row format>"
            ]
          },
          "metadata": {
            "tags": []
          },
          "execution_count": 99
        }
      ]
    },
    {
      "cell_type": "code",
      "metadata": {
        "id": "eOvShB-esRPg",
        "colab_type": "code",
        "colab": {
          "base_uri": "https://localhost:8080/",
          "height": 610
        },
        "outputId": "57bd7304-7af8-42dc-d510-180e25cd99a8"
      },
      "source": [
        "#각 row에서 전체 단어가방에 있는 어휘에서 등장하는 단어에 대한 one-hot-vector 에 TF-IDF 가중ㄷ치 반영\n",
        "tfidf_freq=pd.DataFrame(feature_tfidf.toarray(),columns=vocab)\n",
        "tfidf_freq.head()"
      ],
      "execution_count": 100,
      "outputs": [
        {
          "output_type": "execute_result",
          "data": {
            "text/html": [
              "<div>\n",
              "<style scoped>\n",
              "    .dataframe tbody tr th:only-of-type {\n",
              "        vertical-align: middle;\n",
              "    }\n",
              "\n",
              "    .dataframe tbody tr th {\n",
              "        vertical-align: top;\n",
              "    }\n",
              "\n",
              "    .dataframe thead th {\n",
              "        text-align: right;\n",
              "    }\n",
              "</style>\n",
              "<table border=\"1\" class=\"dataframe\">\n",
              "  <thead>\n",
              "    <tr style=\"text-align: right;\">\n",
              "      <th></th>\n",
              "      <th>12개 만들면서 배우는</th>\n",
              "      <th>12개 만들면서 배우는 ios</th>\n",
              "      <th>12개 만들면서 배우는 ios 아이폰</th>\n",
              "      <th>12개 만들면서 배우는 ios 아이폰 개발</th>\n",
              "      <th>12개를 만들며 배우는</th>\n",
              "      <th>12개를 만들며 배우는 swift4</th>\n",
              "      <th>12개를 만들며 배우는 swift4 ios11</th>\n",
              "      <th>12개를 만들며 배우는 swift4 ios11 아이폰</th>\n",
              "      <th>2018 do it</th>\n",
              "      <th>2018 do it 안드로이드</th>\n",
              "      <th>2018 do it 안드로이드 프로그래밍</th>\n",
              "      <th>2020년 공부 목표</th>\n",
              "      <th>2020년 공부 목표 올해는</th>\n",
              "      <th>2020년 공부 목표 파이썬</th>\n",
              "      <th>2020년 공부 목표 프론트엔드</th>\n",
              "      <th>2020년 공부 목표 프론트엔드 영역</th>\n",
              "      <th>2020년 공부 목표 프론트엔드 영역 자유롭게</th>\n",
              "      <th>2020년 공부 목표 현재</th>\n",
              "      <th>2020년 공부 목표는</th>\n",
              "      <th>2020년 목표 리액트</th>\n",
              "      <th>2020년 목표 리액트 공부하기</th>\n",
              "      <th>2020년 목표 열심히</th>\n",
              "      <th>2020년 목표 열심히 공부해서</th>\n",
              "      <th>2d 시작부터 배포까지</th>\n",
              "      <th>3dsmax 초급부터 전문가까지</th>\n",
              "      <th>3dsmax 초급부터 전문가까지 한방에</th>\n",
              "      <th>3dsmax 초급부터 전문가까지 한방에 끝내는</th>\n",
              "      <th>3dsmax 초급부터 전문가까지 한방에 끝내는 3dsmax</th>\n",
              "      <th>age of vue</th>\n",
              "      <th>age of vue js</th>\n",
              "      <th>age of vue js vue</th>\n",
              "      <th>age of vue js vue js</th>\n",
              "      <th>android pie app</th>\n",
              "      <th>android pie app 개발</th>\n",
              "      <th>android pie app 개발 기본</th>\n",
              "      <th>android pie app 개발 심화</th>\n",
              "      <th>api 개발 스프링</th>\n",
              "      <th>api 개발 스프링 데이터</th>\n",
              "      <th>api 개발 스프링 데이터 jpa</th>\n",
              "      <th>api 개발 스프링 시큐리티</th>\n",
              "      <th>...</th>\n",
              "      <th>현직 개발자 입니다 올해는</th>\n",
              "      <th>홍정모의 게임 만들기</th>\n",
              "      <th>홍정모의 게임 만들기 연습</th>\n",
              "      <th>홍정모의 게임 만들기 연습 문제</th>\n",
              "      <th>홍정모의 게임 만들기 연습 문제 패키지</th>\n",
              "      <th>홍정모의 따라하며 배우는</th>\n",
              "      <th>홍정모의 따라하며 배우는 c언어</th>\n",
              "      <th>홍정모의 따라하며 배우는 c언어 홍정모의</th>\n",
              "      <th>홍정모의 따라하며 배우는 c언어 홍정모의 따라하며</th>\n",
              "      <th>홍정모의 따라하며 배우는 리눅스</th>\n",
              "      <th>홍정모의 따라하며 배우는 리눅스 시스템</th>\n",
              "      <th>홍정모의 따라하며 배우는 홍정모의</th>\n",
              "      <th>홍정모의 따라하며 배우는 홍정모의 게임</th>\n",
              "      <th>홍정모의 따라하며 배우는 홍정모의 게임 만들기</th>\n",
              "      <th>홍정모의 따라하며 배우는 홍정모의 따라하며</th>\n",
              "      <th>홍정모의 따라하며 배우는 홍정모의 따라하며 배우는</th>\n",
              "      <th>홍정모의 따라하면서 배우는</th>\n",
              "      <th>홍정모의 따라하면서 배우는 c언어</th>\n",
              "      <th>화이트해커가 되기 위한</th>\n",
              "      <th>화이트해커가 되기 위한 모의해킹</th>\n",
              "      <th>화이트해커가 되기 위한 모의해킹 완전</th>\n",
              "      <th>화이트해커가 되기 위한 모의해킹 완전 정복</th>\n",
              "      <th>활용 스프링 시큐리티</th>\n",
              "      <th>활용 스프링 프레임워크</th>\n",
              "      <th>활용1 애플리케이션 개발</th>\n",
              "      <th>활용1 애플리케이션 개발 실전</th>\n",
              "      <th>활용1 애플리케이션 개발 실전 스프링</th>\n",
              "      <th>활용1 애플리케이션 개발 실전 스프링 부트와</th>\n",
              "      <th>활용2 api 개발과</th>\n",
              "      <th>활용2 api 개발과 성능</th>\n",
              "      <th>활용2 api 개발과 성능 최적화</th>\n",
              "      <th>활용한 다양한 자동화</th>\n",
              "      <th>활용한 다양한 자동화 어플리케이션</th>\n",
              "      <th>활용한 다양한 자동화 어플리케이션 제작하기</th>\n",
              "      <th>활용한 데이터분석과 it보안</th>\n",
              "      <th>활용한 리액트 native</th>\n",
              "      <th>활용한 리액트 native 개발</th>\n",
              "      <th>활용한 메신져 만들기</th>\n",
              "      <th>활용한 메신져 만들기 android</th>\n",
              "      <th>활용한 파이썬 프로그래밍</th>\n",
              "    </tr>\n",
              "  </thead>\n",
              "  <tbody>\n",
              "    <tr>\n",
              "      <th>0</th>\n",
              "      <td>0.0</td>\n",
              "      <td>0.0</td>\n",
              "      <td>0.0</td>\n",
              "      <td>0.0</td>\n",
              "      <td>0.0</td>\n",
              "      <td>0.0</td>\n",
              "      <td>0.0</td>\n",
              "      <td>0.0</td>\n",
              "      <td>0.0</td>\n",
              "      <td>0.0</td>\n",
              "      <td>0.0</td>\n",
              "      <td>0.0</td>\n",
              "      <td>0.0</td>\n",
              "      <td>0.0</td>\n",
              "      <td>0.0</td>\n",
              "      <td>0.0</td>\n",
              "      <td>0.0</td>\n",
              "      <td>0.0</td>\n",
              "      <td>0.0</td>\n",
              "      <td>0.0</td>\n",
              "      <td>0.0</td>\n",
              "      <td>0.000000</td>\n",
              "      <td>0.000000</td>\n",
              "      <td>0.0</td>\n",
              "      <td>0.0</td>\n",
              "      <td>0.0</td>\n",
              "      <td>0.0</td>\n",
              "      <td>0.0</td>\n",
              "      <td>0.0</td>\n",
              "      <td>0.0</td>\n",
              "      <td>0.0</td>\n",
              "      <td>0.0</td>\n",
              "      <td>0.0</td>\n",
              "      <td>0.0</td>\n",
              "      <td>0.0</td>\n",
              "      <td>0.0</td>\n",
              "      <td>0.0</td>\n",
              "      <td>0.0</td>\n",
              "      <td>0.0</td>\n",
              "      <td>0.0</td>\n",
              "      <td>...</td>\n",
              "      <td>0.0</td>\n",
              "      <td>0.0</td>\n",
              "      <td>0.0</td>\n",
              "      <td>0.0</td>\n",
              "      <td>0.0</td>\n",
              "      <td>0.0</td>\n",
              "      <td>0.0</td>\n",
              "      <td>0.0</td>\n",
              "      <td>0.0</td>\n",
              "      <td>0.0</td>\n",
              "      <td>0.0</td>\n",
              "      <td>0.0</td>\n",
              "      <td>0.0</td>\n",
              "      <td>0.0</td>\n",
              "      <td>0.0</td>\n",
              "      <td>0.0</td>\n",
              "      <td>0.0</td>\n",
              "      <td>0.0</td>\n",
              "      <td>0.0</td>\n",
              "      <td>0.0</td>\n",
              "      <td>0.0</td>\n",
              "      <td>0.0</td>\n",
              "      <td>0.0</td>\n",
              "      <td>0.0</td>\n",
              "      <td>0.0</td>\n",
              "      <td>0.0</td>\n",
              "      <td>0.0</td>\n",
              "      <td>0.0</td>\n",
              "      <td>0.0</td>\n",
              "      <td>0.0</td>\n",
              "      <td>0.0</td>\n",
              "      <td>0.0</td>\n",
              "      <td>0.0</td>\n",
              "      <td>0.0</td>\n",
              "      <td>0.0</td>\n",
              "      <td>0.0</td>\n",
              "      <td>0.0</td>\n",
              "      <td>0.0</td>\n",
              "      <td>0.0</td>\n",
              "      <td>0.0</td>\n",
              "    </tr>\n",
              "    <tr>\n",
              "      <th>1</th>\n",
              "      <td>0.0</td>\n",
              "      <td>0.0</td>\n",
              "      <td>0.0</td>\n",
              "      <td>0.0</td>\n",
              "      <td>0.0</td>\n",
              "      <td>0.0</td>\n",
              "      <td>0.0</td>\n",
              "      <td>0.0</td>\n",
              "      <td>0.0</td>\n",
              "      <td>0.0</td>\n",
              "      <td>0.0</td>\n",
              "      <td>0.0</td>\n",
              "      <td>0.0</td>\n",
              "      <td>0.0</td>\n",
              "      <td>0.0</td>\n",
              "      <td>0.0</td>\n",
              "      <td>0.0</td>\n",
              "      <td>0.0</td>\n",
              "      <td>0.0</td>\n",
              "      <td>0.0</td>\n",
              "      <td>0.0</td>\n",
              "      <td>0.707107</td>\n",
              "      <td>0.707107</td>\n",
              "      <td>0.0</td>\n",
              "      <td>0.0</td>\n",
              "      <td>0.0</td>\n",
              "      <td>0.0</td>\n",
              "      <td>0.0</td>\n",
              "      <td>0.0</td>\n",
              "      <td>0.0</td>\n",
              "      <td>0.0</td>\n",
              "      <td>0.0</td>\n",
              "      <td>0.0</td>\n",
              "      <td>0.0</td>\n",
              "      <td>0.0</td>\n",
              "      <td>0.0</td>\n",
              "      <td>0.0</td>\n",
              "      <td>0.0</td>\n",
              "      <td>0.0</td>\n",
              "      <td>0.0</td>\n",
              "      <td>...</td>\n",
              "      <td>0.0</td>\n",
              "      <td>0.0</td>\n",
              "      <td>0.0</td>\n",
              "      <td>0.0</td>\n",
              "      <td>0.0</td>\n",
              "      <td>0.0</td>\n",
              "      <td>0.0</td>\n",
              "      <td>0.0</td>\n",
              "      <td>0.0</td>\n",
              "      <td>0.0</td>\n",
              "      <td>0.0</td>\n",
              "      <td>0.0</td>\n",
              "      <td>0.0</td>\n",
              "      <td>0.0</td>\n",
              "      <td>0.0</td>\n",
              "      <td>0.0</td>\n",
              "      <td>0.0</td>\n",
              "      <td>0.0</td>\n",
              "      <td>0.0</td>\n",
              "      <td>0.0</td>\n",
              "      <td>0.0</td>\n",
              "      <td>0.0</td>\n",
              "      <td>0.0</td>\n",
              "      <td>0.0</td>\n",
              "      <td>0.0</td>\n",
              "      <td>0.0</td>\n",
              "      <td>0.0</td>\n",
              "      <td>0.0</td>\n",
              "      <td>0.0</td>\n",
              "      <td>0.0</td>\n",
              "      <td>0.0</td>\n",
              "      <td>0.0</td>\n",
              "      <td>0.0</td>\n",
              "      <td>0.0</td>\n",
              "      <td>0.0</td>\n",
              "      <td>0.0</td>\n",
              "      <td>0.0</td>\n",
              "      <td>0.0</td>\n",
              "      <td>0.0</td>\n",
              "      <td>0.0</td>\n",
              "    </tr>\n",
              "    <tr>\n",
              "      <th>2</th>\n",
              "      <td>0.0</td>\n",
              "      <td>0.0</td>\n",
              "      <td>0.0</td>\n",
              "      <td>0.0</td>\n",
              "      <td>0.0</td>\n",
              "      <td>0.0</td>\n",
              "      <td>0.0</td>\n",
              "      <td>0.0</td>\n",
              "      <td>0.0</td>\n",
              "      <td>0.0</td>\n",
              "      <td>0.0</td>\n",
              "      <td>0.0</td>\n",
              "      <td>0.0</td>\n",
              "      <td>0.0</td>\n",
              "      <td>0.0</td>\n",
              "      <td>0.0</td>\n",
              "      <td>0.0</td>\n",
              "      <td>0.0</td>\n",
              "      <td>0.0</td>\n",
              "      <td>0.0</td>\n",
              "      <td>0.0</td>\n",
              "      <td>0.000000</td>\n",
              "      <td>0.000000</td>\n",
              "      <td>0.0</td>\n",
              "      <td>0.0</td>\n",
              "      <td>0.0</td>\n",
              "      <td>0.0</td>\n",
              "      <td>0.0</td>\n",
              "      <td>0.0</td>\n",
              "      <td>0.0</td>\n",
              "      <td>0.0</td>\n",
              "      <td>0.0</td>\n",
              "      <td>0.0</td>\n",
              "      <td>0.0</td>\n",
              "      <td>0.0</td>\n",
              "      <td>0.0</td>\n",
              "      <td>0.0</td>\n",
              "      <td>0.0</td>\n",
              "      <td>0.0</td>\n",
              "      <td>0.0</td>\n",
              "      <td>...</td>\n",
              "      <td>0.0</td>\n",
              "      <td>0.0</td>\n",
              "      <td>0.0</td>\n",
              "      <td>0.0</td>\n",
              "      <td>0.0</td>\n",
              "      <td>0.0</td>\n",
              "      <td>0.0</td>\n",
              "      <td>0.0</td>\n",
              "      <td>0.0</td>\n",
              "      <td>0.0</td>\n",
              "      <td>0.0</td>\n",
              "      <td>0.0</td>\n",
              "      <td>0.0</td>\n",
              "      <td>0.0</td>\n",
              "      <td>0.0</td>\n",
              "      <td>0.0</td>\n",
              "      <td>0.0</td>\n",
              "      <td>0.0</td>\n",
              "      <td>0.0</td>\n",
              "      <td>0.0</td>\n",
              "      <td>0.0</td>\n",
              "      <td>0.0</td>\n",
              "      <td>0.0</td>\n",
              "      <td>0.0</td>\n",
              "      <td>0.0</td>\n",
              "      <td>0.0</td>\n",
              "      <td>0.0</td>\n",
              "      <td>0.0</td>\n",
              "      <td>0.0</td>\n",
              "      <td>0.0</td>\n",
              "      <td>0.0</td>\n",
              "      <td>0.0</td>\n",
              "      <td>0.0</td>\n",
              "      <td>0.0</td>\n",
              "      <td>0.0</td>\n",
              "      <td>0.0</td>\n",
              "      <td>0.0</td>\n",
              "      <td>0.0</td>\n",
              "      <td>0.0</td>\n",
              "      <td>0.0</td>\n",
              "    </tr>\n",
              "    <tr>\n",
              "      <th>3</th>\n",
              "      <td>0.0</td>\n",
              "      <td>0.0</td>\n",
              "      <td>0.0</td>\n",
              "      <td>0.0</td>\n",
              "      <td>0.0</td>\n",
              "      <td>0.0</td>\n",
              "      <td>0.0</td>\n",
              "      <td>0.0</td>\n",
              "      <td>0.0</td>\n",
              "      <td>0.0</td>\n",
              "      <td>0.0</td>\n",
              "      <td>0.0</td>\n",
              "      <td>0.0</td>\n",
              "      <td>0.0</td>\n",
              "      <td>0.0</td>\n",
              "      <td>0.0</td>\n",
              "      <td>0.0</td>\n",
              "      <td>0.0</td>\n",
              "      <td>0.0</td>\n",
              "      <td>0.0</td>\n",
              "      <td>0.0</td>\n",
              "      <td>0.000000</td>\n",
              "      <td>0.000000</td>\n",
              "      <td>0.0</td>\n",
              "      <td>0.0</td>\n",
              "      <td>0.0</td>\n",
              "      <td>0.0</td>\n",
              "      <td>0.0</td>\n",
              "      <td>0.0</td>\n",
              "      <td>0.0</td>\n",
              "      <td>0.0</td>\n",
              "      <td>0.0</td>\n",
              "      <td>0.0</td>\n",
              "      <td>0.0</td>\n",
              "      <td>0.0</td>\n",
              "      <td>0.0</td>\n",
              "      <td>0.0</td>\n",
              "      <td>0.0</td>\n",
              "      <td>0.0</td>\n",
              "      <td>0.0</td>\n",
              "      <td>...</td>\n",
              "      <td>0.0</td>\n",
              "      <td>0.0</td>\n",
              "      <td>0.0</td>\n",
              "      <td>0.0</td>\n",
              "      <td>0.0</td>\n",
              "      <td>0.0</td>\n",
              "      <td>0.0</td>\n",
              "      <td>0.0</td>\n",
              "      <td>0.0</td>\n",
              "      <td>0.0</td>\n",
              "      <td>0.0</td>\n",
              "      <td>0.0</td>\n",
              "      <td>0.0</td>\n",
              "      <td>0.0</td>\n",
              "      <td>0.0</td>\n",
              "      <td>0.0</td>\n",
              "      <td>0.0</td>\n",
              "      <td>0.0</td>\n",
              "      <td>0.0</td>\n",
              "      <td>0.0</td>\n",
              "      <td>0.0</td>\n",
              "      <td>0.0</td>\n",
              "      <td>0.0</td>\n",
              "      <td>0.0</td>\n",
              "      <td>0.0</td>\n",
              "      <td>0.0</td>\n",
              "      <td>0.0</td>\n",
              "      <td>0.0</td>\n",
              "      <td>0.0</td>\n",
              "      <td>0.0</td>\n",
              "      <td>0.0</td>\n",
              "      <td>0.0</td>\n",
              "      <td>0.0</td>\n",
              "      <td>0.0</td>\n",
              "      <td>0.0</td>\n",
              "      <td>0.0</td>\n",
              "      <td>0.0</td>\n",
              "      <td>0.0</td>\n",
              "      <td>0.0</td>\n",
              "      <td>0.0</td>\n",
              "    </tr>\n",
              "    <tr>\n",
              "      <th>4</th>\n",
              "      <td>0.0</td>\n",
              "      <td>0.0</td>\n",
              "      <td>0.0</td>\n",
              "      <td>0.0</td>\n",
              "      <td>0.0</td>\n",
              "      <td>0.0</td>\n",
              "      <td>0.0</td>\n",
              "      <td>0.0</td>\n",
              "      <td>0.0</td>\n",
              "      <td>0.0</td>\n",
              "      <td>0.0</td>\n",
              "      <td>0.0</td>\n",
              "      <td>0.0</td>\n",
              "      <td>0.0</td>\n",
              "      <td>0.0</td>\n",
              "      <td>0.0</td>\n",
              "      <td>0.0</td>\n",
              "      <td>0.0</td>\n",
              "      <td>0.0</td>\n",
              "      <td>0.0</td>\n",
              "      <td>0.0</td>\n",
              "      <td>0.000000</td>\n",
              "      <td>0.000000</td>\n",
              "      <td>0.0</td>\n",
              "      <td>0.0</td>\n",
              "      <td>0.0</td>\n",
              "      <td>0.0</td>\n",
              "      <td>0.0</td>\n",
              "      <td>0.0</td>\n",
              "      <td>0.0</td>\n",
              "      <td>0.0</td>\n",
              "      <td>0.0</td>\n",
              "      <td>0.0</td>\n",
              "      <td>0.0</td>\n",
              "      <td>0.0</td>\n",
              "      <td>0.0</td>\n",
              "      <td>0.0</td>\n",
              "      <td>0.0</td>\n",
              "      <td>0.0</td>\n",
              "      <td>0.0</td>\n",
              "      <td>...</td>\n",
              "      <td>0.0</td>\n",
              "      <td>0.0</td>\n",
              "      <td>0.0</td>\n",
              "      <td>0.0</td>\n",
              "      <td>0.0</td>\n",
              "      <td>0.0</td>\n",
              "      <td>0.0</td>\n",
              "      <td>0.0</td>\n",
              "      <td>0.0</td>\n",
              "      <td>0.0</td>\n",
              "      <td>0.0</td>\n",
              "      <td>0.0</td>\n",
              "      <td>0.0</td>\n",
              "      <td>0.0</td>\n",
              "      <td>0.0</td>\n",
              "      <td>0.0</td>\n",
              "      <td>0.0</td>\n",
              "      <td>0.0</td>\n",
              "      <td>0.0</td>\n",
              "      <td>0.0</td>\n",
              "      <td>0.0</td>\n",
              "      <td>0.0</td>\n",
              "      <td>0.0</td>\n",
              "      <td>0.0</td>\n",
              "      <td>0.0</td>\n",
              "      <td>0.0</td>\n",
              "      <td>0.0</td>\n",
              "      <td>0.0</td>\n",
              "      <td>0.0</td>\n",
              "      <td>0.0</td>\n",
              "      <td>0.0</td>\n",
              "      <td>0.0</td>\n",
              "      <td>0.0</td>\n",
              "      <td>0.0</td>\n",
              "      <td>0.0</td>\n",
              "      <td>0.0</td>\n",
              "      <td>0.0</td>\n",
              "      <td>0.0</td>\n",
              "      <td>0.0</td>\n",
              "      <td>0.0</td>\n",
              "    </tr>\n",
              "  </tbody>\n",
              "</table>\n",
              "<p>5 rows × 2000 columns</p>\n",
              "</div>"
            ],
            "text/plain": [
              "   12개 만들면서 배우는  12개 만들면서 배우는 ios  ...  활용한 메신져 만들기 android  활용한 파이썬 프로그래밍\n",
              "0           0.0               0.0  ...                  0.0            0.0\n",
              "1           0.0               0.0  ...                  0.0            0.0\n",
              "2           0.0               0.0  ...                  0.0            0.0\n",
              "3           0.0               0.0  ...                  0.0            0.0\n",
              "4           0.0               0.0  ...                  0.0            0.0\n",
              "\n",
              "[5 rows x 2000 columns]"
            ]
          },
          "metadata": {
            "tags": []
          },
          "execution_count": 100
        }
      ]
    },
    {
      "cell_type": "code",
      "metadata": {
        "id": "BSCksxkosiIX",
        "colab_type": "code",
        "colab": {
          "base_uri": "https://localhost:8080/",
          "height": 669
        },
        "outputId": "4f87c82c-d91d-4e48-db93-a5ac1e7e9468"
      },
      "source": [
        "df_tfidf=pd.DataFrame(tfidf_freq.sum())\n",
        "df_tfidf_top=df_tfidf.sort_values(by=0,ascending=False)\n",
        "df_tfidf_top.head(20)"
      ],
      "execution_count": 103,
      "outputs": [
        {
          "output_type": "execute_result",
          "data": {
            "text/html": [
              "<div>\n",
              "<style scoped>\n",
              "    .dataframe tbody tr th:only-of-type {\n",
              "        vertical-align: middle;\n",
              "    }\n",
              "\n",
              "    .dataframe tbody tr th {\n",
              "        vertical-align: top;\n",
              "    }\n",
              "\n",
              "    .dataframe thead th {\n",
              "        text-align: right;\n",
              "    }\n",
              "</style>\n",
              "<table border=\"1\" class=\"dataframe\">\n",
              "  <thead>\n",
              "    <tr style=\"text-align: right;\">\n",
              "      <th></th>\n",
              "      <th>0</th>\n",
              "    </tr>\n",
              "  </thead>\n",
              "  <tbody>\n",
              "    <tr>\n",
              "      <th>홍정모의 따라하며 배우는</th>\n",
              "      <td>66.600967</td>\n",
              "    </tr>\n",
              "    <tr>\n",
              "      <th>스프링 데이터 jpa</th>\n",
              "      <td>35.646999</td>\n",
              "    </tr>\n",
              "    <tr>\n",
              "      <th>nodebird sns 만들기</th>\n",
              "      <td>26.975131</td>\n",
              "    </tr>\n",
              "    <tr>\n",
              "      <th>파이썬 머신러닝 완벽</th>\n",
              "      <td>24.812347</td>\n",
              "    </tr>\n",
              "    <tr>\n",
              "      <th>머신러닝 완벽 가이드</th>\n",
              "      <td>24.564626</td>\n",
              "    </tr>\n",
              "    <tr>\n",
              "      <th>리액트로 nodebird sns</th>\n",
              "      <td>24.349203</td>\n",
              "    </tr>\n",
              "    <tr>\n",
              "      <th>리액트로 nodebird sns 만들기</th>\n",
              "      <td>24.349203</td>\n",
              "    </tr>\n",
              "    <tr>\n",
              "      <th>파이썬 머신러닝 완벽 가이드</th>\n",
              "      <td>23.912649</td>\n",
              "    </tr>\n",
              "    <tr>\n",
              "      <th>프로그래밍과 자바스크립트 es6</th>\n",
              "      <td>19.511636</td>\n",
              "    </tr>\n",
              "    <tr>\n",
              "      <th>함수형 프로그래밍과 자바스크립트 es6</th>\n",
              "      <td>18.596704</td>\n",
              "    </tr>\n",
              "    <tr>\n",
              "      <th>함수형 프로그래밍과 자바스크립트</th>\n",
              "      <td>18.596704</td>\n",
              "    </tr>\n",
              "    <tr>\n",
              "      <th>부트 개념과 활용</th>\n",
              "      <td>17.464863</td>\n",
              "    </tr>\n",
              "    <tr>\n",
              "      <th>스프링 부트 개념과</th>\n",
              "      <td>15.913811</td>\n",
              "    </tr>\n",
              "    <tr>\n",
              "      <th>스프링 부트 개념과 활용</th>\n",
              "      <td>15.634740</td>\n",
              "    </tr>\n",
              "    <tr>\n",
              "      <th>2020년 공부 목표</th>\n",
              "      <td>14.384636</td>\n",
              "    </tr>\n",
              "    <tr>\n",
              "      <th>실전 스프링 데이터</th>\n",
              "      <td>13.928252</td>\n",
              "    </tr>\n",
              "    <tr>\n",
              "      <th>실전 스프링 데이터 jpa</th>\n",
              "      <td>13.232209</td>\n",
              "    </tr>\n",
              "    <tr>\n",
              "      <th>남박사의 파이썬 실전 100 활용</th>\n",
              "      <td>11.897688</td>\n",
              "    </tr>\n",
              "    <tr>\n",
              "      <th>파이썬 실전 100</th>\n",
              "      <td>11.897688</td>\n",
              "    </tr>\n",
              "    <tr>\n",
              "      <th>실전 100 활용</th>\n",
              "      <td>11.897688</td>\n",
              "    </tr>\n",
              "  </tbody>\n",
              "</table>\n",
              "</div>"
            ],
            "text/plain": [
              "                               0\n",
              "홍정모의 따라하며 배우는          66.600967\n",
              "스프링 데이터 jpa            35.646999\n",
              "nodebird sns 만들기       26.975131\n",
              "파이썬 머신러닝 완벽            24.812347\n",
              "머신러닝 완벽 가이드            24.564626\n",
              "리액트로 nodebird sns      24.349203\n",
              "리액트로 nodebird sns 만들기  24.349203\n",
              "파이썬 머신러닝 완벽 가이드        23.912649\n",
              "프로그래밍과 자바스크립트 es6      19.511636\n",
              "함수형 프로그래밍과 자바스크립트 es6  18.596704\n",
              "함수형 프로그래밍과 자바스크립트      18.596704\n",
              "부트 개념과 활용              17.464863\n",
              "스프링 부트 개념과             15.913811\n",
              "스프링 부트 개념과 활용          15.634740\n",
              "2020년 공부 목표            14.384636\n",
              "실전 스프링 데이터             13.928252\n",
              "실전 스프링 데이터 jpa         13.232209\n",
              "남박사의 파이썬 실전 100 활용     11.897688\n",
              "파이썬 실전 100             11.897688\n",
              "실전 100 활용              11.897688"
            ]
          },
          "metadata": {
            "tags": []
          },
          "execution_count": 103
        }
      ]
    },
    {
      "cell_type": "code",
      "metadata": {
        "id": "bPwBghN0u7Jd",
        "colab_type": "code",
        "colab": {
          "base_uri": "https://localhost:8080/",
          "height": 867
        },
        "outputId": "6f3e6ee9-ef51-4a34-b10b-99144e85ea08"
      },
      "source": [
        "#중간에 생략되는 단어를 자세히 보고자 할 때\n",
        "for t in df_tfidf_top.index[:50]:\n",
        "  print(t)"
      ],
      "execution_count": 107,
      "outputs": [
        {
          "output_type": "stream",
          "text": [
            "홍정모의 따라하며 배우는\n",
            "스프링 데이터 jpa\n",
            "nodebird sns 만들기\n",
            "파이썬 머신러닝 완벽\n",
            "머신러닝 완벽 가이드\n",
            "리액트로 nodebird sns\n",
            "리액트로 nodebird sns 만들기\n",
            "파이썬 머신러닝 완벽 가이드\n",
            "프로그래밍과 자바스크립트 es6\n",
            "함수형 프로그래밍과 자바스크립트 es6\n",
            "함수형 프로그래밍과 자바스크립트\n",
            "부트 개념과 활용\n",
            "스프링 부트 개념과\n",
            "스프링 부트 개념과 활용\n",
            "2020년 공부 목표\n",
            "실전 스프링 데이터\n",
            "실전 스프링 데이터 jpa\n",
            "남박사의 파이썬 실전 100 활용\n",
            "파이썬 실전 100\n",
            "실전 100 활용\n",
            "남박사의 파이썬 실전 100\n",
            "남박사의 파이썬 실전\n",
            "파이썬 실전 100 활용\n",
            "관심있는 인프런 강의명\n",
            "파이썬 머신러닝 완벽가이드\n",
            "홍정모의 따라하며 배우는 c언어\n",
            "따라하며 배우는 c언어\n",
            "rest api 개발\n",
            "대세는 쿠버네티스 기초편\n",
            "스프링부트 개념과 활용\n",
            "orm 표준 jpa\n",
            "표준 jpa 프로그래밍\n",
            "orm 표준 jpa 프로그래밍\n",
            "vue js 완벽 가이드\n",
            "vue js 완벽\n",
            "js 완벽 가이드\n",
            "스프링 기반 rest api\n",
            "스프링 기반 rest api 개발\n",
            "기반 rest api\n",
            "기반 rest api 개발\n",
            "스프링 기반 rest\n",
            "자바 orm 표준 jpa 프로그래밍\n",
            "자바 orm 표준 jpa\n",
            "자바 orm 표준\n",
            "애플리케이션을 테스트하는 다양한\n",
            "자바 애플리케이션을 테스트하는 다양한\n",
            "자바 애플리케이션을 테스트하는\n",
            "파이썬 알고리즘 문제풀이\n",
            "테스트하는 다양한 방법\n",
            "애플리케이션을 테스트하는 다양한 방법\n"
          ],
          "name": "stdout"
        }
      ]
    },
    {
      "cell_type": "markdown",
      "metadata": {
        "id": "pXx8-lhlvi3P",
        "colab_type": "text"
      },
      "source": [
        "## 군집화"
      ]
    },
    {
      "cell_type": "code",
      "metadata": {
        "id": "U3W1OK8zvhUA",
        "colab_type": "code",
        "colab": {
          "base_uri": "https://localhost:8080/",
          "height": 34
        },
        "outputId": "439f59fb-f3c8-47b6-db43-c8aa1b77bf85"
      },
      "source": [
        "from sklearn.cluster import KMeans\n",
        "from tqdm import trange\n",
        "inertia = []\n",
        "\n",
        "start=10\n",
        "end=50\n",
        "\n",
        "#적절한 클러스터의 갯수를 알기 위해 inertia 값을 구함\n",
        "for i in trange(start,end):\n",
        "  cls=KMeans(n_clusters=i, random_state=42)\n",
        "  cls.fit(feature_vector)\n",
        "  inertia.append(cls.inertia_)"
      ],
      "execution_count": 108,
      "outputs": [
        {
          "output_type": "stream",
          "text": [
            "100%|██████████| 40/40 [00:48<00:00,  1.22s/it]\n"
          ],
          "name": "stderr"
        }
      ]
    },
    {
      "cell_type": "code",
      "metadata": {
        "id": "RN2k-ePq0bdk",
        "colab_type": "code",
        "colab": {
          "base_uri": "https://localhost:8080/",
          "height": 275
        },
        "outputId": "e5120d8a-c520-457f-f577-ce905face353"
      },
      "source": [
        "plt.plot(range(start, end), inertia)\n",
        "plt.title(\"KMeans 클러스터 수 비교\")\n",
        "#왜 그래프가 안나오지? "
      ],
      "execution_count": 110,
      "outputs": [
        {
          "output_type": "execute_result",
          "data": {
            "text/plain": [
              "Text(0.5, 1.0, 'KMeans 클러스터 수 비교')"
            ]
          },
          "metadata": {
            "tags": []
          },
          "execution_count": 110
        },
        {
          "output_type": "stream",
          "text": [
            "/usr/local/lib/python3.6/dist-packages/matplotlib/backends/backend_agg.py:183: RuntimeWarning: Glyph 53364 missing from current font.\n",
            "  font.set_text(s, 0, flags=flags)\n",
            "/usr/local/lib/python3.6/dist-packages/matplotlib/backends/backend_agg.py:183: RuntimeWarning: Glyph 47084 missing from current font.\n",
            "  font.set_text(s, 0, flags=flags)\n",
            "/usr/local/lib/python3.6/dist-packages/matplotlib/backends/backend_agg.py:183: RuntimeWarning: Glyph 49828 missing from current font.\n",
            "  font.set_text(s, 0, flags=flags)\n",
            "/usr/local/lib/python3.6/dist-packages/matplotlib/backends/backend_agg.py:183: RuntimeWarning: Glyph 53552 missing from current font.\n",
            "  font.set_text(s, 0, flags=flags)\n",
            "/usr/local/lib/python3.6/dist-packages/matplotlib/backends/backend_agg.py:183: RuntimeWarning: Glyph 49688 missing from current font.\n",
            "  font.set_text(s, 0, flags=flags)\n",
            "/usr/local/lib/python3.6/dist-packages/matplotlib/backends/backend_agg.py:183: RuntimeWarning: Glyph 48708 missing from current font.\n",
            "  font.set_text(s, 0, flags=flags)\n",
            "/usr/local/lib/python3.6/dist-packages/matplotlib/backends/backend_agg.py:183: RuntimeWarning: Glyph 44368 missing from current font.\n",
            "  font.set_text(s, 0, flags=flags)\n"
          ],
          "name": "stderr"
        }
      ]
    },
    {
      "cell_type": "code",
      "metadata": {
        "id": "jnzY2rZb0-Bo",
        "colab_type": "code",
        "colab": {
          "base_uri": "https://localhost:8080/",
          "height": 275
        },
        "outputId": "d8e64d1c-a5fe-4aff-913b-cd7749ce3ca4"
      },
      "source": [
        "\n",
        "# 위에서 구한 값을 시각화 합니다.\n",
        "# x축에는 클러스터의 수를 y축에는 inertia 값을 넣어 그립니다.\n",
        "\n",
        "plt.plot(range(start, end), inertia)\n",
        "plt.title(\"KMeans 클러스터 수 비교\")"
      ],
      "execution_count": 111,
      "outputs": [
        {
          "output_type": "execute_result",
          "data": {
            "text/plain": [
              "Text(0.5, 1.0, 'KMeans 클러스터 수 비교')"
            ]
          },
          "metadata": {
            "tags": []
          },
          "execution_count": 111
        },
        {
          "output_type": "stream",
          "text": [
            "/usr/local/lib/python3.6/dist-packages/matplotlib/backends/backend_agg.py:183: RuntimeWarning: Glyph 53364 missing from current font.\n",
            "  font.set_text(s, 0, flags=flags)\n",
            "/usr/local/lib/python3.6/dist-packages/matplotlib/backends/backend_agg.py:183: RuntimeWarning: Glyph 47084 missing from current font.\n",
            "  font.set_text(s, 0, flags=flags)\n",
            "/usr/local/lib/python3.6/dist-packages/matplotlib/backends/backend_agg.py:183: RuntimeWarning: Glyph 49828 missing from current font.\n",
            "  font.set_text(s, 0, flags=flags)\n",
            "/usr/local/lib/python3.6/dist-packages/matplotlib/backends/backend_agg.py:183: RuntimeWarning: Glyph 53552 missing from current font.\n",
            "  font.set_text(s, 0, flags=flags)\n",
            "/usr/local/lib/python3.6/dist-packages/matplotlib/backends/backend_agg.py:183: RuntimeWarning: Glyph 49688 missing from current font.\n",
            "  font.set_text(s, 0, flags=flags)\n",
            "/usr/local/lib/python3.6/dist-packages/matplotlib/backends/backend_agg.py:183: RuntimeWarning: Glyph 48708 missing from current font.\n",
            "  font.set_text(s, 0, flags=flags)\n",
            "/usr/local/lib/python3.6/dist-packages/matplotlib/backends/backend_agg.py:183: RuntimeWarning: Glyph 44368 missing from current font.\n",
            "  font.set_text(s, 0, flags=flags)\n"
          ],
          "name": "stderr"
        }
      ]
    },
    {
      "cell_type": "code",
      "metadata": {
        "id": "4O2s3Xs80rx1",
        "colab_type": "code",
        "colab": {}
      },
      "source": [
        "n_clusters=30\n",
        "cls=KMeans(n_clusters=n_clusters,random_state=42)\n",
        "cls.fit(feature_vector)\n",
        "predict=cls.predict(feature_vector)\n",
        "df[\"cluster\"]=predict"
      ],
      "execution_count": 114,
      "outputs": []
    },
    {
      "cell_type": "code",
      "metadata": {
        "id": "2spompbK1agC",
        "colab_type": "code",
        "colab": {
          "base_uri": "https://localhost:8080/",
          "height": 204
        },
        "outputId": "473e5363-39f7-447d-f8b0-38f3788c02a0"
      },
      "source": [
        "df[\"cluster\"].value_counts().head(10)"
      ],
      "execution_count": 115,
      "outputs": [
        {
          "output_type": "execute_result",
          "data": {
            "text/plain": [
              "2     1925\n",
              "14      47\n",
              "27      43\n",
              "29      40\n",
              "11      33\n",
              "15      30\n",
              "3       30\n",
              "16      29\n",
              "22      29\n",
              "28      25\n",
              "Name: cluster, dtype: int64"
            ]
          },
          "metadata": {
            "tags": []
          },
          "execution_count": 115
        }
      ]
    },
    {
      "cell_type": "code",
      "metadata": {
        "id": "Ideb3u6b1hMj",
        "colab_type": "code",
        "colab": {
          "base_uri": "https://localhost:8080/",
          "height": 34
        },
        "outputId": "f298b4a6-e9e0-4459-93d8-bcd7fd47f699"
      },
      "source": [
        "#batch_size 를 쓸 수 있는 MiniBatchMeans 로 군집화\n",
        "from sklearn.cluster import MiniBatchKMeans\n",
        "b_inertia=[]\n",
        "\n",
        "#적절한 클러스터의 갯수를 알기 위해 inertia 값을 구함\n",
        "for i in trange(start,end) :\n",
        "  cls = MiniBatchKMeans(n_clusters=i,random_state=42)\n",
        "  cls.fit(feature_vector)\n",
        "  b_inertia.append(cls.inertia_)"
      ],
      "execution_count": 116,
      "outputs": [
        {
          "output_type": "stream",
          "text": [
            "100%|██████████| 40/40 [00:04<00:00,  9.73it/s]\n"
          ],
          "name": "stderr"
        }
      ]
    },
    {
      "cell_type": "code",
      "metadata": {
        "id": "MA2ygwpz3Hbd",
        "colab_type": "code",
        "colab": {}
      },
      "source": [
        "import matplotlib.pyplot as plt\n",
        "import matplotlib as mpl\n",
        "import matplotlib.font_manager as fm\n",
        "import numpy as np"
      ],
      "execution_count": 119,
      "outputs": []
    },
    {
      "cell_type": "code",
      "metadata": {
        "id": "x8l9UM5W2Ft0",
        "colab_type": "code",
        "colab": {
          "base_uri": "https://localhost:8080/",
          "height": 130
        },
        "outputId": "c117ab6e-e74b-4a68-93a5-dd5d717b4ccf"
      },
      "source": [
        "plt.plot(range(start, end)),b_inertia)\n",
        "plt.title(\"MiniBatchKMeans 클러스터 수 비교\")\n",
        "\n",
        "# 왜 그래프가 안그려지는거지 ㅠㅠ"
      ],
      "execution_count": 121,
      "outputs": [
        {
          "output_type": "error",
          "ename": "SyntaxError",
          "evalue": "ignored",
          "traceback": [
            "\u001b[0;36m  File \u001b[0;32m\"<ipython-input-121-79b2620fe5ef>\"\u001b[0;36m, line \u001b[0;32m1\u001b[0m\n\u001b[0;31m    plt.plot(range(start, end)),b_inertia)\u001b[0m\n\u001b[0m                                         ^\u001b[0m\n\u001b[0;31mSyntaxError\u001b[0m\u001b[0;31m:\u001b[0m invalid syntax\n"
          ]
        }
      ]
    },
    {
      "cell_type": "code",
      "metadata": {
        "id": "U6IpZJF24grn",
        "colab_type": "code",
        "colab": {}
      },
      "source": [
        "cls=MiniBatchKMeans(n_clusters=n_clusters, random_state=42)\n",
        "cls.fit(feature_vector)\n",
        "predict=cls.predict(feature_vector)\n",
        "df[\"bcluster\"]=predict"
      ],
      "execution_count": 122,
      "outputs": []
    },
    {
      "cell_type": "code",
      "metadata": {
        "id": "sdDgp2b14yTq",
        "colab_type": "code",
        "colab": {
          "base_uri": "https://localhost:8080/",
          "height": 442
        },
        "outputId": "a7671ddb-5a5a-43a5-fa3d-0065e15bdb8e"
      },
      "source": [
        "df[\"bcluster\"].value_counts()"
      ],
      "execution_count": 123,
      "outputs": [
        {
          "output_type": "execute_result",
          "data": {
            "text/plain": [
              "2     1424\n",
              "1      590\n",
              "0      128\n",
              "24      39\n",
              "28      30\n",
              "5       28\n",
              "12      28\n",
              "11      19\n",
              "6       18\n",
              "19      17\n",
              "15      14\n",
              "10      10\n",
              "29      10\n",
              "17       9\n",
              "18       9\n",
              "7        8\n",
              "8        6\n",
              "25       5\n",
              "9        5\n",
              "14       3\n",
              "21       3\n",
              "22       3\n",
              "3        2\n",
              "16       1\n",
              "Name: bcluster, dtype: int64"
            ]
          },
          "metadata": {
            "tags": []
          },
          "execution_count": 123
        }
      ]
    },
    {
      "cell_type": "code",
      "metadata": {
        "id": "QwVoTTGk45OE",
        "colab_type": "code",
        "colab": {
          "base_uri": "https://localhost:8080/",
          "height": 576
        },
        "outputId": "60957fd4-d959-4558-9bfa-348cedb061a4"
      },
      "source": [
        "df.loc[df[\"bcluster\"]==19,[\"bcluster\",\"bcluster\",\"course\"]]"
      ],
      "execution_count": 127,
      "outputs": [
        {
          "output_type": "execute_result",
          "data": {
            "text/html": [
              "<div>\n",
              "<style scoped>\n",
              "    .dataframe tbody tr th:only-of-type {\n",
              "        vertical-align: middle;\n",
              "    }\n",
              "\n",
              "    .dataframe tbody tr th {\n",
              "        vertical-align: top;\n",
              "    }\n",
              "\n",
              "    .dataframe thead th {\n",
              "        text-align: right;\n",
              "    }\n",
              "</style>\n",
              "<table border=\"1\" class=\"dataframe\">\n",
              "  <thead>\n",
              "    <tr style=\"text-align: right;\">\n",
              "      <th></th>\n",
              "      <th>bcluster</th>\n",
              "      <th>bcluster</th>\n",
              "      <th>course</th>\n",
              "    </tr>\n",
              "  </thead>\n",
              "  <tbody>\n",
              "    <tr>\n",
              "      <th>114</th>\n",
              "      <td>19</td>\n",
              "      <td>19</td>\n",
              "      <td>ios12 앱 개발 퍼펙트 가이드</td>\n",
              "    </tr>\n",
              "    <tr>\n",
              "      <th>536</th>\n",
              "      <td>19</td>\n",
              "      <td>19</td>\n",
              "      <td>는 ios12 앱 개발 퍼펙트 가이드</td>\n",
              "    </tr>\n",
              "    <tr>\n",
              "      <th>565</th>\n",
              "      <td>19</td>\n",
              "      <td>19</td>\n",
              "      <td>ios12 앱 개발 퍼펙트 가이드</td>\n",
              "    </tr>\n",
              "    <tr>\n",
              "      <th>722</th>\n",
              "      <td>19</td>\n",
              "      <td>19</td>\n",
              "      <td>ios12 앱 개발 퍼펙트 가이드</td>\n",
              "    </tr>\n",
              "    <tr>\n",
              "      <th>949</th>\n",
              "      <td>19</td>\n",
              "      <td>19</td>\n",
              "      <td>ios12 앱 개발 퍼펙트 가이드</td>\n",
              "    </tr>\n",
              "    <tr>\n",
              "      <th>1049</th>\n",
              "      <td>19</td>\n",
              "      <td>19</td>\n",
              "      <td>2020년 공부 목표  중학생부터 프로그래밍을 좋아해서 컴퓨터공학을 가고싶었으나 고...</td>\n",
              "    </tr>\n",
              "    <tr>\n",
              "      <th>1051</th>\n",
              "      <td>19</td>\n",
              "      <td>19</td>\n",
              "      <td>ios 정복하기!\\n#ios12 앱 개발 퍼펙트 가이드</td>\n",
              "    </tr>\n",
              "    <tr>\n",
              "      <th>1156</th>\n",
              "      <td>19</td>\n",
              "      <td>19</td>\n",
              "      <td>ios12 앱 개발 퍼펙트 가이드</td>\n",
              "    </tr>\n",
              "    <tr>\n",
              "      <th>1275</th>\n",
              "      <td>19</td>\n",
              "      <td>19</td>\n",
              "      <td>ios12 앱 개발 퍼펙트 가이드</td>\n",
              "    </tr>\n",
              "    <tr>\n",
              "      <th>1370</th>\n",
              "      <td>19</td>\n",
              "      <td>19</td>\n",
              "      <td>ios12 앱 개발 퍼펙트 가이드, ios autolayout 완벽 가이드 - 실...</td>\n",
              "    </tr>\n",
              "    <tr>\n",
              "      <th>1739</th>\n",
              "      <td>19</td>\n",
              "      <td>19</td>\n",
              "      <td>ios12 앱 개발 퍼펙트 가이드</td>\n",
              "    </tr>\n",
              "    <tr>\n",
              "      <th>2025</th>\n",
              "      <td>19</td>\n",
              "      <td>19</td>\n",
              "      <td>야곰의 ios 프로그래밍\\nios12 앱 개발 퍼펙트 가이드</td>\n",
              "    </tr>\n",
              "    <tr>\n",
              "      <th>2032</th>\n",
              "      <td>19</td>\n",
              "      <td>19</td>\n",
              "      <td>#2020년 공부 목표  \\n현재 안드로이드 앱 개발자로 있는데, ios(objec...</td>\n",
              "    </tr>\n",
              "    <tr>\n",
              "      <th>2112</th>\n",
              "      <td>19</td>\n",
              "      <td>19</td>\n",
              "      <td>flutter 중급 - http통신, 상태관리,쉽게 배워보는 파이참(pycharm)...</td>\n",
              "    </tr>\n",
              "    <tr>\n",
              "      <th>2167</th>\n",
              "      <td>19</td>\n",
              "      <td>19</td>\n",
              "      <td>ios12 앱 개발 퍼펙트 가이드</td>\n",
              "    </tr>\n",
              "    <tr>\n",
              "      <th>2253</th>\n",
              "      <td>19</td>\n",
              "      <td>19</td>\n",
              "      <td>ios12 앱 개발 퍼펙트 가이드</td>\n",
              "    </tr>\n",
              "    <tr>\n",
              "      <th>2429</th>\n",
              "      <td>19</td>\n",
              "      <td>19</td>\n",
              "      <td>ios12 앱 개발 퍼펙트 가이드</td>\n",
              "    </tr>\n",
              "  </tbody>\n",
              "</table>\n",
              "</div>"
            ],
            "text/plain": [
              "      bcluster  bcluster                                             course\n",
              "114         19        19                                 ios12 앱 개발 퍼펙트 가이드\n",
              "536         19        19                               는 ios12 앱 개발 퍼펙트 가이드\n",
              "565         19        19                                 ios12 앱 개발 퍼펙트 가이드\n",
              "722         19        19                                 ios12 앱 개발 퍼펙트 가이드\n",
              "949         19        19                                 ios12 앱 개발 퍼펙트 가이드\n",
              "1049        19        19  2020년 공부 목표  중학생부터 프로그래밍을 좋아해서 컴퓨터공학을 가고싶었으나 고...\n",
              "1051        19        19                     ios 정복하기!\\n#ios12 앱 개발 퍼펙트 가이드\n",
              "1156        19        19                                 ios12 앱 개발 퍼펙트 가이드\n",
              "1275        19        19                                 ios12 앱 개발 퍼펙트 가이드\n",
              "1370        19        19   ios12 앱 개발 퍼펙트 가이드, ios autolayout 완벽 가이드 - 실...\n",
              "1739        19        19                                 ios12 앱 개발 퍼펙트 가이드\n",
              "2025        19        19                  야곰의 ios 프로그래밍\\nios12 앱 개발 퍼펙트 가이드\n",
              "2032        19        19  #2020년 공부 목표  \\n현재 안드로이드 앱 개발자로 있는데, ios(objec...\n",
              "2112        19        19  flutter 중급 - http통신, 상태관리,쉽게 배워보는 파이참(pycharm)...\n",
              "2167        19        19                                 ios12 앱 개발 퍼펙트 가이드\n",
              "2253        19        19                                 ios12 앱 개발 퍼펙트 가이드\n",
              "2429        19        19                                 ios12 앱 개발 퍼펙트 가이드"
            ]
          },
          "metadata": {
            "tags": []
          },
          "execution_count": 127
        }
      ]
    },
    {
      "cell_type": "code",
      "metadata": {
        "id": "QpqnQ6Y-5E25",
        "colab_type": "code",
        "colab": {
          "base_uri": "https://localhost:8080/",
          "height": 204
        },
        "outputId": "c7484089-ee59-47d6-e635-a64d1694f884"
      },
      "source": [
        "df.loc[df[\"bcluster\"]==25,[\"bcluster\",\"cluster\",\"course\"]]"
      ],
      "execution_count": 131,
      "outputs": [
        {
          "output_type": "execute_result",
          "data": {
            "text/html": [
              "<div>\n",
              "<style scoped>\n",
              "    .dataframe tbody tr th:only-of-type {\n",
              "        vertical-align: middle;\n",
              "    }\n",
              "\n",
              "    .dataframe tbody tr th {\n",
              "        vertical-align: top;\n",
              "    }\n",
              "\n",
              "    .dataframe thead th {\n",
              "        text-align: right;\n",
              "    }\n",
              "</style>\n",
              "<table border=\"1\" class=\"dataframe\">\n",
              "  <thead>\n",
              "    <tr style=\"text-align: right;\">\n",
              "      <th></th>\n",
              "      <th>bcluster</th>\n",
              "      <th>cluster</th>\n",
              "      <th>course</th>\n",
              "    </tr>\n",
              "  </thead>\n",
              "  <tbody>\n",
              "    <tr>\n",
              "      <th>1688</th>\n",
              "      <td>25</td>\n",
              "      <td>2</td>\n",
              "      <td>테스트주도개발(tdd)로 만드는 nodejs api 서버</td>\n",
              "    </tr>\n",
              "    <tr>\n",
              "      <th>2161</th>\n",
              "      <td>25</td>\n",
              "      <td>2</td>\n",
              "      <td>테스트주도개발(tdd)로 만드는 nodejs api 서버</td>\n",
              "    </tr>\n",
              "    <tr>\n",
              "      <th>2309</th>\n",
              "      <td>25</td>\n",
              "      <td>2</td>\n",
              "      <td>테스트주도개발(tdd)로 만드는 nodejs api 서버</td>\n",
              "    </tr>\n",
              "    <tr>\n",
              "      <th>2317</th>\n",
              "      <td>25</td>\n",
              "      <td>2</td>\n",
              "      <td>테스트주도개발(tdd)로 만드는 nodejs api 서버</td>\n",
              "    </tr>\n",
              "    <tr>\n",
              "      <th>2373</th>\n",
              "      <td>25</td>\n",
              "      <td>2</td>\n",
              "      <td>2020년 공부 목표\\n- nodejs 를 이용한 백엔드 구현\\n관심있는 인프런 강...</td>\n",
              "    </tr>\n",
              "  </tbody>\n",
              "</table>\n",
              "</div>"
            ],
            "text/plain": [
              "      bcluster  cluster                                             course\n",
              "1688        25        2                    테스트주도개발(tdd)로 만드는 nodejs api 서버\n",
              "2161        25        2                    테스트주도개발(tdd)로 만드는 nodejs api 서버\n",
              "2309        25        2                    테스트주도개발(tdd)로 만드는 nodejs api 서버\n",
              "2317        25        2                    테스트주도개발(tdd)로 만드는 nodejs api 서버\n",
              "2373        25        2  2020년 공부 목표\\n- nodejs 를 이용한 백엔드 구현\\n관심있는 인프런 강..."
            ]
          },
          "metadata": {
            "tags": []
          },
          "execution_count": 131
        }
      ]
    },
    {
      "cell_type": "markdown",
      "metadata": {
        "id": "AKJe4QvA5Rvy",
        "colab_type": "text"
      },
      "source": [
        "## World CLoud"
      ]
    },
    {
      "cell_type": "code",
      "metadata": {
        "id": "1TErSNZo6k21",
        "colab_type": "code",
        "colab": {
          "base_uri": "https://localhost:8080/",
          "height": 343
        },
        "outputId": "8c4b4e9d-0020-4544-9ed5-890179348b62"
      },
      "source": [
        "!pip install git+https://git@github.com/kavgan/word_cloud.git"
      ],
      "execution_count": 132,
      "outputs": [
        {
          "output_type": "stream",
          "text": [
            "Collecting git+https://****@github.com/kavgan/word_cloud.git\n",
            "  Cloning https://****@github.com/kavgan/word_cloud.git to /tmp/pip-req-build-c0z07897\n",
            "  Running command git clone -q 'https://****@github.com/kavgan/word_cloud.git' /tmp/pip-req-build-c0z07897\n",
            "Requirement already satisfied: scikit-learn>=0.19.1 in /usr/local/lib/python3.6/dist-packages (from word-cloud==0.0.0) (0.22.2.post1)\n",
            "Requirement already satisfied: pandas>=0.20.3 in /usr/local/lib/python3.6/dist-packages (from word-cloud==0.0.0) (1.0.5)\n",
            "Requirement already satisfied: numpy>=1.11.0 in /usr/local/lib/python3.6/dist-packages (from scikit-learn>=0.19.1->word-cloud==0.0.0) (1.18.5)\n",
            "Requirement already satisfied: scipy>=0.17.0 in /usr/local/lib/python3.6/dist-packages (from scikit-learn>=0.19.1->word-cloud==0.0.0) (1.4.1)\n",
            "Requirement already satisfied: joblib>=0.11 in /usr/local/lib/python3.6/dist-packages (from scikit-learn>=0.19.1->word-cloud==0.0.0) (0.16.0)\n",
            "Requirement already satisfied: python-dateutil>=2.6.1 in /usr/local/lib/python3.6/dist-packages (from pandas>=0.20.3->word-cloud==0.0.0) (2.8.1)\n",
            "Requirement already satisfied: pytz>=2017.2 in /usr/local/lib/python3.6/dist-packages (from pandas>=0.20.3->word-cloud==0.0.0) (2018.9)\n",
            "Requirement already satisfied: six>=1.5 in /usr/local/lib/python3.6/dist-packages (from python-dateutil>=2.6.1->pandas>=0.20.3->word-cloud==0.0.0) (1.12.0)\n",
            "Building wheels for collected packages: word-cloud\n",
            "  Building wheel for word-cloud (setup.py) ... \u001b[?25l\u001b[?25hdone\n",
            "  Created wheel for word-cloud: filename=word_cloud-0.0.0-cp36-none-any.whl size=5890 sha256=c745de9120604083b436a403e71208750cf650080825e4cd7a4776dc2da85cba\n",
            "  Stored in directory: /tmp/pip-ephem-wheel-cache-ucgb86af/wheels/d6/98/5f/8e001af2b4fb7852176a75f82de076b6515ee0fd298416fd01\n",
            "Successfully built word-cloud\n",
            "Installing collected packages: word-cloud\n",
            "Successfully installed word-cloud-0.0.0\n"
          ],
          "name": "stdout"
        }
      ]
    },
    {
      "cell_type": "code",
      "metadata": {
        "id": "_fEgn-hK9F1i",
        "colab_type": "code",
        "colab": {}
      },
      "source": [
        "font_path = '/Library/Fonts/NanumBarunGothic.ttf'"
      ],
      "execution_count": 140,
      "outputs": []
    },
    {
      "cell_type": "code",
      "metadata": {
        "id": "dznnUarb62_j",
        "colab_type": "code",
        "colab": {}
      },
      "source": [
        "from wordcloud import WordCloud\n",
        "\n",
        "#불용어 - 자주 등장하지만 의미가 크지 않아 제외하고 싶은 텍스트\n",
        "stopwords=[\"관심 강의\", \"관심강의\",\"관심\",\"강의\",\"강좌\",\"강의를\"\n",
        "            \"올해\",\"올해는\",\"열심히\",\"공부를\",\"합니다\",\"하고\",\"싶어요\",\n",
        "           \"있는\",\"있습니다\",\"싶습니다\",\"2020년\"]\n",
        "\n",
        "#불용어를 제거하지 않고 그리려면 아래 주석을 풀어서 stopword 변수에 덮어쓰기를 합니다.\n",
        "\n",
        "stopwords=[]\n",
        "def displayWordCloud(data=None, backgroundcolor='white',width=1280,height=768):\n",
        "  wordcloud=WordCloud(\n",
        "        font_path = '/Library/Fonts/NanumBarunGothic.ttf',\n",
        "        stopwords=stopwords,\n",
        "        background_color=backgroundcolor,\n",
        "        width=width,height=height).generate(data)\n",
        "\n",
        "  plt.figure ( figsize = ( 15 , 10 ))\n",
        "  plt.imshow(wordcloud)\n",
        "  plt.axis(\"off\")\n",
        "  plt.show()\n"
      ],
      "execution_count": 148,
      "outputs": []
    },
    {
      "cell_type": "code",
      "metadata": {
        "id": "Bhu-7NqK8L9v",
        "colab_type": "code",
        "colab": {
          "base_uri": "https://localhost:8080/",
          "height": 341
        },
        "outputId": "228240bf-64b2-4e8c-c16f-93406110f4ed"
      },
      "source": [
        "course_text= \" \".join(df[\"course\"])\n",
        "displayWordCloud(course_text)\n",
        "\n",
        "#흑흑.. 워드 클라우드..젭알...cannot open resource... ㅠㅠ 워드클라우드 해결하기!"
      ],
      "execution_count": 152,
      "outputs": [
        {
          "output_type": "error",
          "ename": "OSError",
          "evalue": "ignored",
          "traceback": [
            "\u001b[0;31m---------------------------------------------------------------------------\u001b[0m",
            "\u001b[0;31mOSError\u001b[0m                                   Traceback (most recent call last)",
            "\u001b[0;32m<ipython-input-152-2b41b179ac4a>\u001b[0m in \u001b[0;36m<module>\u001b[0;34m()\u001b[0m\n\u001b[1;32m      1\u001b[0m \u001b[0mcourse_text\u001b[0m\u001b[0;34m=\u001b[0m \u001b[0;34m\" \"\u001b[0m\u001b[0;34m.\u001b[0m\u001b[0mjoin\u001b[0m\u001b[0;34m(\u001b[0m\u001b[0mdf\u001b[0m\u001b[0;34m[\u001b[0m\u001b[0;34m\"course\"\u001b[0m\u001b[0;34m]\u001b[0m\u001b[0;34m)\u001b[0m\u001b[0;34m\u001b[0m\u001b[0;34m\u001b[0m\u001b[0m\n\u001b[0;32m----> 2\u001b[0;31m \u001b[0mdisplayWordCloud\u001b[0m\u001b[0;34m(\u001b[0m\u001b[0mcourse_text\u001b[0m\u001b[0;34m)\u001b[0m\u001b[0;34m\u001b[0m\u001b[0;34m\u001b[0m\u001b[0m\n\u001b[0m",
            "\u001b[0;32m<ipython-input-148-81ddf1bae84e>\u001b[0m in \u001b[0;36mdisplayWordCloud\u001b[0;34m(data, backgroundcolor, width, height)\u001b[0m\n\u001b[1;32m     14\u001b[0m         \u001b[0mstopwords\u001b[0m\u001b[0;34m=\u001b[0m\u001b[0mstopwords\u001b[0m\u001b[0;34m,\u001b[0m\u001b[0;34m\u001b[0m\u001b[0;34m\u001b[0m\u001b[0m\n\u001b[1;32m     15\u001b[0m         \u001b[0mbackground_color\u001b[0m\u001b[0;34m=\u001b[0m\u001b[0mbackgroundcolor\u001b[0m\u001b[0;34m,\u001b[0m\u001b[0;34m\u001b[0m\u001b[0;34m\u001b[0m\u001b[0m\n\u001b[0;32m---> 16\u001b[0;31m         width=width,height=height).generate(data)\n\u001b[0m\u001b[1;32m     17\u001b[0m \u001b[0;34m\u001b[0m\u001b[0m\n\u001b[1;32m     18\u001b[0m   \u001b[0mplt\u001b[0m\u001b[0;34m.\u001b[0m\u001b[0mfigure\u001b[0m \u001b[0;34m(\u001b[0m \u001b[0mfigsize\u001b[0m \u001b[0;34m=\u001b[0m \u001b[0;34m(\u001b[0m \u001b[0;36m15\u001b[0m \u001b[0;34m,\u001b[0m \u001b[0;36m10\u001b[0m \u001b[0;34m)\u001b[0m\u001b[0;34m)\u001b[0m\u001b[0;34m\u001b[0m\u001b[0;34m\u001b[0m\u001b[0m\n",
            "\u001b[0;32m/usr/local/lib/python3.6/dist-packages/wordcloud/wordcloud.py\u001b[0m in \u001b[0;36mgenerate\u001b[0;34m(self, text)\u001b[0m\n\u001b[1;32m    603\u001b[0m         \u001b[0mself\u001b[0m\u001b[0;34m\u001b[0m\u001b[0;34m\u001b[0m\u001b[0m\n\u001b[1;32m    604\u001b[0m         \"\"\"\n\u001b[0;32m--> 605\u001b[0;31m         \u001b[0;32mreturn\u001b[0m \u001b[0mself\u001b[0m\u001b[0;34m.\u001b[0m\u001b[0mgenerate_from_text\u001b[0m\u001b[0;34m(\u001b[0m\u001b[0mtext\u001b[0m\u001b[0;34m)\u001b[0m\u001b[0;34m\u001b[0m\u001b[0;34m\u001b[0m\u001b[0m\n\u001b[0m\u001b[1;32m    606\u001b[0m \u001b[0;34m\u001b[0m\u001b[0m\n\u001b[1;32m    607\u001b[0m     \u001b[0;32mdef\u001b[0m \u001b[0m_check_generated\u001b[0m\u001b[0;34m(\u001b[0m\u001b[0mself\u001b[0m\u001b[0;34m)\u001b[0m\u001b[0;34m:\u001b[0m\u001b[0;34m\u001b[0m\u001b[0;34m\u001b[0m\u001b[0m\n",
            "\u001b[0;32m/usr/local/lib/python3.6/dist-packages/wordcloud/wordcloud.py\u001b[0m in \u001b[0;36mgenerate_from_text\u001b[0;34m(self, text)\u001b[0m\n\u001b[1;32m    585\u001b[0m         \"\"\"\n\u001b[1;32m    586\u001b[0m         \u001b[0mwords\u001b[0m \u001b[0;34m=\u001b[0m \u001b[0mself\u001b[0m\u001b[0;34m.\u001b[0m\u001b[0mprocess_text\u001b[0m\u001b[0;34m(\u001b[0m\u001b[0mtext\u001b[0m\u001b[0;34m)\u001b[0m\u001b[0;34m\u001b[0m\u001b[0;34m\u001b[0m\u001b[0m\n\u001b[0;32m--> 587\u001b[0;31m         \u001b[0mself\u001b[0m\u001b[0;34m.\u001b[0m\u001b[0mgenerate_from_frequencies\u001b[0m\u001b[0;34m(\u001b[0m\u001b[0mwords\u001b[0m\u001b[0;34m)\u001b[0m\u001b[0;34m\u001b[0m\u001b[0;34m\u001b[0m\u001b[0m\n\u001b[0m\u001b[1;32m    588\u001b[0m         \u001b[0;32mreturn\u001b[0m \u001b[0mself\u001b[0m\u001b[0;34m\u001b[0m\u001b[0;34m\u001b[0m\u001b[0m\n\u001b[1;32m    589\u001b[0m \u001b[0;34m\u001b[0m\u001b[0m\n",
            "\u001b[0;32m/usr/local/lib/python3.6/dist-packages/wordcloud/wordcloud.py\u001b[0m in \u001b[0;36mgenerate_from_frequencies\u001b[0;34m(self, frequencies, max_font_size)\u001b[0m\n\u001b[1;32m    424\u001b[0m             \u001b[0;32melse\u001b[0m\u001b[0;34m:\u001b[0m\u001b[0;34m\u001b[0m\u001b[0;34m\u001b[0m\u001b[0m\n\u001b[1;32m    425\u001b[0m                 self.generate_from_frequencies(dict(frequencies[:2]),\n\u001b[0;32m--> 426\u001b[0;31m                                                max_font_size=self.height)\n\u001b[0m\u001b[1;32m    427\u001b[0m                 \u001b[0;31m# find font sizes\u001b[0m\u001b[0;34m\u001b[0m\u001b[0;34m\u001b[0m\u001b[0;34m\u001b[0m\u001b[0m\n\u001b[1;32m    428\u001b[0m                 \u001b[0msizes\u001b[0m \u001b[0;34m=\u001b[0m \u001b[0;34m[\u001b[0m\u001b[0mx\u001b[0m\u001b[0;34m[\u001b[0m\u001b[0;36m1\u001b[0m\u001b[0;34m]\u001b[0m \u001b[0;32mfor\u001b[0m \u001b[0mx\u001b[0m \u001b[0;32min\u001b[0m \u001b[0mself\u001b[0m\u001b[0;34m.\u001b[0m\u001b[0mlayout_\u001b[0m\u001b[0;34m]\u001b[0m\u001b[0;34m\u001b[0m\u001b[0;34m\u001b[0m\u001b[0m\n",
            "\u001b[0;32m/usr/local/lib/python3.6/dist-packages/wordcloud/wordcloud.py\u001b[0m in \u001b[0;36mgenerate_from_frequencies\u001b[0;34m(self, frequencies, max_font_size)\u001b[0m\n\u001b[1;32m    471\u001b[0m             \u001b[0;32mwhile\u001b[0m \u001b[0;32mTrue\u001b[0m\u001b[0;34m:\u001b[0m\u001b[0;34m\u001b[0m\u001b[0;34m\u001b[0m\u001b[0m\n\u001b[1;32m    472\u001b[0m                 \u001b[0;31m# try to find a position\u001b[0m\u001b[0;34m\u001b[0m\u001b[0;34m\u001b[0m\u001b[0;34m\u001b[0m\u001b[0m\n\u001b[0;32m--> 473\u001b[0;31m                 \u001b[0mfont\u001b[0m \u001b[0;34m=\u001b[0m \u001b[0mImageFont\u001b[0m\u001b[0;34m.\u001b[0m\u001b[0mtruetype\u001b[0m\u001b[0;34m(\u001b[0m\u001b[0mself\u001b[0m\u001b[0;34m.\u001b[0m\u001b[0mfont_path\u001b[0m\u001b[0;34m,\u001b[0m \u001b[0mfont_size\u001b[0m\u001b[0;34m)\u001b[0m\u001b[0;34m\u001b[0m\u001b[0;34m\u001b[0m\u001b[0m\n\u001b[0m\u001b[1;32m    474\u001b[0m                 \u001b[0;31m# transpose font optionally\u001b[0m\u001b[0;34m\u001b[0m\u001b[0;34m\u001b[0m\u001b[0;34m\u001b[0m\u001b[0m\n\u001b[1;32m    475\u001b[0m                 transposed_font = ImageFont.TransposedFont(\n",
            "\u001b[0;32m/usr/local/lib/python3.6/dist-packages/PIL/ImageFont.py\u001b[0m in \u001b[0;36mtruetype\u001b[0;34m(font, size, index, encoding, layout_engine)\u001b[0m\n\u001b[1;32m    640\u001b[0m \u001b[0;34m\u001b[0m\u001b[0m\n\u001b[1;32m    641\u001b[0m     \u001b[0;32mtry\u001b[0m\u001b[0;34m:\u001b[0m\u001b[0;34m\u001b[0m\u001b[0;34m\u001b[0m\u001b[0m\n\u001b[0;32m--> 642\u001b[0;31m         \u001b[0;32mreturn\u001b[0m \u001b[0mfreetype\u001b[0m\u001b[0;34m(\u001b[0m\u001b[0mfont\u001b[0m\u001b[0;34m)\u001b[0m\u001b[0;34m\u001b[0m\u001b[0;34m\u001b[0m\u001b[0m\n\u001b[0m\u001b[1;32m    643\u001b[0m     \u001b[0;32mexcept\u001b[0m \u001b[0mOSError\u001b[0m\u001b[0;34m:\u001b[0m\u001b[0;34m\u001b[0m\u001b[0;34m\u001b[0m\u001b[0m\n\u001b[1;32m    644\u001b[0m         \u001b[0;32mif\u001b[0m \u001b[0;32mnot\u001b[0m \u001b[0misPath\u001b[0m\u001b[0;34m(\u001b[0m\u001b[0mfont\u001b[0m\u001b[0;34m)\u001b[0m\u001b[0;34m:\u001b[0m\u001b[0;34m\u001b[0m\u001b[0;34m\u001b[0m\u001b[0m\n",
            "\u001b[0;32m/usr/local/lib/python3.6/dist-packages/PIL/ImageFont.py\u001b[0m in \u001b[0;36mfreetype\u001b[0;34m(font)\u001b[0m\n\u001b[1;32m    637\u001b[0m \u001b[0;34m\u001b[0m\u001b[0m\n\u001b[1;32m    638\u001b[0m     \u001b[0;32mdef\u001b[0m \u001b[0mfreetype\u001b[0m\u001b[0;34m(\u001b[0m\u001b[0mfont\u001b[0m\u001b[0;34m)\u001b[0m\u001b[0;34m:\u001b[0m\u001b[0;34m\u001b[0m\u001b[0;34m\u001b[0m\u001b[0m\n\u001b[0;32m--> 639\u001b[0;31m         \u001b[0;32mreturn\u001b[0m \u001b[0mFreeTypeFont\u001b[0m\u001b[0;34m(\u001b[0m\u001b[0mfont\u001b[0m\u001b[0;34m,\u001b[0m \u001b[0msize\u001b[0m\u001b[0;34m,\u001b[0m \u001b[0mindex\u001b[0m\u001b[0;34m,\u001b[0m \u001b[0mencoding\u001b[0m\u001b[0;34m,\u001b[0m \u001b[0mlayout_engine\u001b[0m\u001b[0;34m)\u001b[0m\u001b[0;34m\u001b[0m\u001b[0;34m\u001b[0m\u001b[0m\n\u001b[0m\u001b[1;32m    640\u001b[0m \u001b[0;34m\u001b[0m\u001b[0m\n\u001b[1;32m    641\u001b[0m     \u001b[0;32mtry\u001b[0m\u001b[0;34m:\u001b[0m\u001b[0;34m\u001b[0m\u001b[0;34m\u001b[0m\u001b[0m\n",
            "\u001b[0;32m/usr/local/lib/python3.6/dist-packages/PIL/ImageFont.py\u001b[0m in \u001b[0;36m__init__\u001b[0;34m(self, font, size, index, encoding, layout_engine)\u001b[0m\n\u001b[1;32m    186\u001b[0m                     \u001b[0;32mreturn\u001b[0m\u001b[0;34m\u001b[0m\u001b[0;34m\u001b[0m\u001b[0m\n\u001b[1;32m    187\u001b[0m             self.font = core.getfont(\n\u001b[0;32m--> 188\u001b[0;31m                 \u001b[0mfont\u001b[0m\u001b[0;34m,\u001b[0m \u001b[0msize\u001b[0m\u001b[0;34m,\u001b[0m \u001b[0mindex\u001b[0m\u001b[0;34m,\u001b[0m \u001b[0mencoding\u001b[0m\u001b[0;34m,\u001b[0m \u001b[0mlayout_engine\u001b[0m\u001b[0;34m=\u001b[0m\u001b[0mlayout_engine\u001b[0m\u001b[0;34m\u001b[0m\u001b[0;34m\u001b[0m\u001b[0m\n\u001b[0m\u001b[1;32m    189\u001b[0m             )\n\u001b[1;32m    190\u001b[0m         \u001b[0;32melse\u001b[0m\u001b[0;34m:\u001b[0m\u001b[0;34m\u001b[0m\u001b[0;34m\u001b[0m\u001b[0m\n",
            "\u001b[0;31mOSError\u001b[0m: cannot open resource"
          ]
        }
      ]
    }
  ]
}