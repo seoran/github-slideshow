{
  "nbformat": 4,
  "nbformat_minor": 0,
  "metadata": {
    "colab": {
      "name": "섭씨에서 화씨로 변환하기 연습",
      "provenance": [],
      "authorship_tag": "ABX9TyM6CihqdySfNsGhCzmmjWKs",
      "include_colab_link": true
    },
    "kernelspec": {
      "name": "python3",
      "display_name": "Python 3"
    }
  },
  "cells": [
    {
      "cell_type": "markdown",
      "metadata": {
        "id": "view-in-github",
        "colab_type": "text"
      },
      "source": [
        "<a href=\"https://colab.research.google.com/github/seoran/github-slideshow/blob/master/%EC%84%AD%EC%94%A8%EC%97%90%EC%84%9C_%ED%99%94%EC%94%A8%EB%A1%9C_%EB%B3%80%ED%99%98%ED%95%98%EA%B8%B0_%EC%97%B0%EC%8A%B5.ipynb\" target=\"_parent\"><img src=\"https://colab.research.google.com/assets/colab-badge.svg\" alt=\"Open In Colab\"/></a>"
      ]
    },
    {
      "cell_type": "markdown",
      "metadata": {
        "id": "CM0-P2dcgucW"
      },
      "source": [
        "해결해야하는 문제\r\n",
        "\r\n",
        "섭씨를 화씨로 변환해야함\r\n",
        "\r\n",
        "f=c×1.8+32\r\n"
      ]
    },
    {
      "cell_type": "markdown",
      "metadata": {
        "id": "Aawbh6DqhS0D"
      },
      "source": [
        "기본적인 함수 설치"
      ]
    },
    {
      "cell_type": "code",
      "metadata": {
        "id": "PCXiLmShg79C"
      },
      "source": [
        "import tensorflow as tf"
      ],
      "execution_count": 1,
      "outputs": []
    },
    {
      "cell_type": "code",
      "metadata": {
        "id": "lT89WGx4g_Pz"
      },
      "source": [
        "import numpy as np\r\n",
        "import logging\r\n",
        "logger=tf.get_logger()\r\n",
        "logger.setLevel(logging.ERROR)"
      ],
      "execution_count": 2,
      "outputs": []
    },
    {
      "cell_type": "markdown",
      "metadata": {
        "id": "ztAzz9ZthgMI"
      },
      "source": [
        "트레이닝 데이터 추가"
      ]
    },
    {
      "cell_type": "code",
      "metadata": {
        "colab": {
          "base_uri": "https://localhost:8080/"
        },
        "id": "MH-pbEvChiR1",
        "outputId": "8c3991d9-b95a-4719-cc7d-6d54ec4125fe"
      },
      "source": [
        "celsius_q=np.array([-40,-10,0,8,15,22,38],dtype=float) #float는 실수형\r\n",
        "fahrenheit_a=np.array([-40,14,32,46,59,72,100], dtype=float)\r\n",
        "\r\n",
        "for i,c in enumerate(celsius_q):\r\n",
        "  print(\"{} degrees Celsius = {} degrees Fahrenheit\".format(c, fahrenheit_a[i]))"
      ],
      "execution_count": 3,
      "outputs": [
        {
          "output_type": "stream",
          "text": [
            "-40.0 degrees Celsius = -40.0 degrees Fahrenheit\n",
            "-10.0 degrees Celsius = 14.0 degrees Fahrenheit\n",
            "0.0 degrees Celsius = 32.0 degrees Fahrenheit\n",
            "8.0 degrees Celsius = 46.0 degrees Fahrenheit\n",
            "15.0 degrees Celsius = 59.0 degrees Fahrenheit\n",
            "22.0 degrees Celsius = 72.0 degrees Fahrenheit\n",
            "38.0 degrees Celsius = 100.0 degrees Fahrenheit\n"
          ],
          "name": "stdout"
        }
      ]
    },
    {
      "cell_type": "markdown",
      "metadata": {
        "id": "4aBOae9RnUo3"
      },
      "source": [
        "모델 만들기"
      ]
    },
    {
      "cell_type": "code",
      "metadata": {
        "id": "Hbo_GoHrnJ_b"
      },
      "source": [
        "l0=tf.keras.layers.Dense(units=1, input_shape=[1])"
      ],
      "execution_count": 4,
      "outputs": []
    },
    {
      "cell_type": "code",
      "metadata": {
        "id": "pRlfOooInkB-"
      },
      "source": [
        "model=tf.keras.Sequential([l0])"
      ],
      "execution_count": 6,
      "outputs": []
    },
    {
      "cell_type": "code",
      "metadata": {
        "id": "re_ABcikoH-W"
      },
      "source": [
        "model=tf.keras.Sequential([\r\n",
        "  tf.keras.layers.Dense(units=1,input_shape=[1])\r\n",
        "])"
      ],
      "execution_count": 7,
      "outputs": []
    },
    {
      "cell_type": "code",
      "metadata": {
        "id": "g0KCNAR5oWfh"
      },
      "source": [
        "model.compile(loss='mean_squared_error',\r\n",
        "              optimizer=tf.keras.optimizers.Adam(0.1) )"
      ],
      "execution_count": 8,
      "outputs": []
    },
    {
      "cell_type": "markdown",
      "metadata": {
        "id": "Y7vXXxSXo_RM"
      },
      "source": [
        "모델 학습"
      ]
    },
    {
      "cell_type": "code",
      "metadata": {
        "colab": {
          "base_uri": "https://localhost:8080/"
        },
        "id": "4K-AMz09o8JE",
        "outputId": "81d9d6c5-4d16-45d5-9c47-0fb616744d62"
      },
      "source": [
        "history=model.fit(celsius_q,fahrenheit_a,epochs=500, verbose=False)\r\n",
        "print(\"Finished training the model\")"
      ],
      "execution_count": 9,
      "outputs": [
        {
          "output_type": "stream",
          "text": [
            "Finished training the model\n"
          ],
          "name": "stdout"
        }
      ]
    },
    {
      "cell_type": "code",
      "metadata": {
        "colab": {
          "base_uri": "https://localhost:8080/",
          "height": 297
        },
        "id": "CS0_bG9sqJN0",
        "outputId": "7de1d555-bdaf-4551-d457-668ba255a5dd"
      },
      "source": [
        "import matplotlib.pyplot as plt\r\n",
        "plt.xlabel('Epoch Number')\r\n",
        "plt.ylabel(\"Loss Magnitude\")\r\n",
        "plt.plot(history.history['loss'])"
      ],
      "execution_count": 10,
      "outputs": [
        {
          "output_type": "execute_result",
          "data": {
            "text/plain": [
              "[<matplotlib.lines.Line2D at 0x7f8a8ead3b70>]"
            ]
          },
          "metadata": {
            "tags": []
          },
          "execution_count": 10
        },
        {
          "output_type": "display_data",
          "data": {
            "image/png": "[encoded data removed]",
            "text/plain": [
              "<Figure size 432x288 with 1 Axes>"
            ]
          },
          "metadata": {
            "tags": [],
            "needs_background": "light"
          }
        }
      ]
    },
    {
      "cell_type": "markdown",
      "metadata": {
        "id": "XF8Ab4Euq3Ko"
      },
      "source": [
        "모델 예측값"
      ]
    },
    {
      "cell_type": "code",
      "metadata": {
        "colab": {
          "base_uri": "https://localhost:8080/"
        },
        "id": "oHbdGbFqq5xm",
        "outputId": "a585ca8f-03f6-424e-cf51-508b60cb1e67"
      },
      "source": [
        "print(model.predict([100.0]))"
      ],
      "execution_count": 11,
      "outputs": [
        {
          "output_type": "stream",
          "text": [
            "[[211.28308]]\n"
          ],
          "name": "stdout"
        }
      ]
    },
    {
      "cell_type": "code",
      "metadata": {
        "colab": {
          "base_uri": "https://localhost:8080/"
        },
        "id": "EYfbHCB_q1vL",
        "outputId": "c88d7ff0-6d7a-48c4-f1a3-a25d7e6b8237"
      },
      "source": [
        "print(\"These are the layer variables: {}\".format(l0.get_weights()))"
      ],
      "execution_count": 14,
      "outputs": [
        {
          "output_type": "stream",
          "text": [
            "These are the layer variables: [array([[-1.5946654]], dtype=float32), array([0.], dtype=float32)]\n"
          ],
          "name": "stdout"
        }
      ]
    },
    {
      "cell_type": "code",
      "metadata": {
        "colab": {
          "base_uri": "https://localhost:8080/"
        },
        "id": "LNuuYYMDsO6f",
        "outputId": "fabb9797-a369-48d6-f1be-45ff44e88d77"
      },
      "source": [
        "l0 = tf.keras.layers.Dense(units=4, input_shape=[1])\r\n",
        "l1 = tf.keras.layers.Dense(units=4)\r\n",
        "l2 = tf.keras.layers.Dense(units=1)\r\n",
        "model = tf.keras.Sequential([l0, l1, l2])\r\n",
        "model.compile(loss='mean_squared_error', optimizer=tf.keras.optimizers.Adam(0.1))\r\n",
        "model.fit(celsius_q, fahrenheit_a, epochs=500, verbose=False)\r\n",
        "print(\"Finished training the model\")\r\n",
        "print(model.predict([100.0]))\r\n",
        "print(\"Model predicts that 100 degrees Celsius is: {} degrees Fahrenheit\".format(model.predict([100.0])))\r\n",
        "print(\"These are the l0 variables: {}\".format(l0.get_weights()))\r\n",
        "print(\"These are the l1 variables: {}\".format(l1.get_weights()))\r\n",
        "print(\"These are the l2 variables: {}\".format(l2.get_weights()))"
      ],
      "execution_count": 15,
      "outputs": [
        {
          "output_type": "stream",
          "text": [
            "Finished training the model\n",
            "[[211.74745]]\n",
            "Model predicts that 100 degrees Celsius is: [[211.74745]] degrees Fahrenheit\n",
            "These are the l0 variables: [array([[-0.02220936, -0.72108173,  0.01084178,  0.1834884 ]],\n",
            "      dtype=float32), array([ 0.5436501, -3.0664973,  2.868924 ,  2.8096168], dtype=float32)]\n",
            "These are the l1 variables: [array([[-0.46971694, -0.5453697 , -0.4498006 ,  0.8251538 ],\n",
            "       [ 0.25614616,  0.9755953 ,  0.08259813,  0.6829952 ],\n",
            "       [-1.0165497 , -0.7939919 , -0.12566383, -0.6542584 ],\n",
            "       [ 0.2028745 , -0.97434133,  0.7078608 ,  0.05117735]],\n",
            "      dtype=float32), array([-2.9609487, -3.0338664,  2.4078946, -2.9751902], dtype=float32)]\n",
            "These are the l2 variables: [array([[-0.876024 ],\n",
            "       [-1.3177736],\n",
            "       [ 0.8167101],\n",
            "       [-0.8765601]], dtype=float32), array([2.9914908], dtype=float32)]\n"
          ],
          "name": "stdout"
        }
      ]
    }
  ]
}