{
  "nbformat": 4,
  "nbformat_minor": 0,
  "metadata": {
    "kernelspec": {
      "display_name": "Python 3",
      "language": "python",
      "name": "python3"
    },
    "language_info": {
      "codemirror_mode": {
        "name": "ipython",
        "version": 3
      },
      "file_extension": ".py",
      "mimetype": "text/x-python",
      "name": "python",
      "nbconvert_exporter": "python",
      "pygments_lexer": "ipython3",
      "version": "3.7.6"
    },
    "toc": {
      "base_numbering": 1,
      "nav_menu": {},
      "number_sections": true,
      "sideBar": true,
      "skip_h1_title": false,
      "title_cell": "Table of Contents",
      "title_sidebar": "Contents",
      "toc_cell": false,
      "toc_position": {
        "height": "calc(100% - 180px)",
        "left": "10px",
        "top": "150px",
        "width": "204.797px"
      },
      "toc_section_display": true,
      "toc_window_display": true
    },
    "varInspector": {
      "cols": {
        "lenName": 16,
        "lenType": 16,
        "lenVar": 40
      },
      "kernels_config": {
        "python": {
          "delete_cmd_postfix": "",
          "delete_cmd_prefix": "del ",
          "library": "var_list.py",
          "varRefreshCmd": "print(var_dic_list())"
        },
        "r": {
          "delete_cmd_postfix": ") ",
          "delete_cmd_prefix": "rm(",
          "library": "var_list.r",
          "varRefreshCmd": "cat(var_dic_list()) "
        }
      },
      "types_to_exclude": [
        "module",
        "function",
        "builtin_function_or_method",
        "instance",
        "_Feature"
      ],
      "window_display": false
    },
    "colab": {
      "name": "seoul-covid-19-02-eda-input.ipynb의 사본",
      "provenance": [],
      "include_colab_link": true
    }
  },
  "cells": [
    {
      "cell_type": "markdown",
      "metadata": {
        "id": "view-in-github",
        "colab_type": "text"
      },
      "source": [
        "<a href=\"https://colab.research.google.com/github/seoran/github-slideshow/blob/master/seoul_covid_19_02_eda_input_ipynb%EC%9D%98_%EC%82%AC%EB%B3%B8.ipynb\" target=\"_parent\"><img src=\"https://colab.research.google.com/assets/colab-badge.svg\" alt=\"Open In Colab\"/></a>"
      ]
    },
    {
      "cell_type": "markdown",
      "metadata": {
        "id": "QucqgcH0U0kn",
        "colab_type": "text"
      },
      "source": [
        "* [인프런 - 단 두 장의 문서로 데이터 분석과 시각화 뽀개기](https://www.inflearn.com/course/%ED%8C%90%EB%8B%A4%EC%8A%A4-Pandas)에서 전 코드에 대한 강좌를 보실 수 있습니다.\n",
        "\n",
        "## 서울시에서 공개한 코로나19 발생동향 분석\n",
        "* http://www.seoul.go.kr/coronaV/coronaStatus.do"
      ]
    },
    {
      "cell_type": "code",
      "metadata": {
        "id": "1Q7Cz5hqWqly",
        "colab_type": "code",
        "colab": {}
      },
      "source": [
        "import pandas as pd\n",
        "import numpy as np"
      ],
      "execution_count": null,
      "outputs": []
    },
    {
      "cell_type": "code",
      "metadata": {
        "id": "a13yfLqTWqd2",
        "colab_type": "code",
        "colab": {
          "base_uri": "https://localhost:8080/",
          "height": 35
        },
        "outputId": "eecf013a-ad34-4c77-f1cd-27ddf29a6487"
      },
      "source": [
        "url=\"https://www.seoul.go.kr/coronaV/coronaStatus.do\"\n",
        "url "
      ],
      "execution_count": null,
      "outputs": [
        {
          "output_type": "execute_result",
          "data": {
            "application/vnd.google.colaboratory.intrinsic+json": {
              "type": "string"
            },
            "text/plain": [
              "'https://www.seoul.go.kr/coronaV/coronaStatus.do'"
            ]
          },
          "metadata": {
            "tags": []
          },
          "execution_count": 2
        }
      ]
    },
    {
      "cell_type": "code",
      "metadata": {
        "id": "QyFszhBOaU_E",
        "colab_type": "code",
        "colab": {
          "base_uri": "https://localhost:8080/",
          "height": 35
        },
        "outputId": "27b5ced7-a1d7-4fa0-f807-cd5da2889ed9"
      },
      "source": [
        "table=pd.read_html(url)\n",
        "len(table)"
      ],
      "execution_count": null,
      "outputs": [
        {
          "output_type": "execute_result",
          "data": {
            "text/plain": [
              "5"
            ]
          },
          "metadata": {
            "tags": []
          },
          "execution_count": 9
        }
      ]
    },
    {
      "cell_type": "code",
      "metadata": {
        "id": "-NH2CpmLaVSv",
        "colab_type": "code",
        "colab": {
          "base_uri": "https://localhost:8080/",
          "height": 452
        },
        "outputId": "197b6d88-5bdd-49ce-af97-e08b5cd6740c"
      },
      "source": [
        "table[0].T"
      ],
      "execution_count": null,
      "outputs": [
        {
          "output_type": "execute_result",
          "data": {
            "text/html": [
              "<div>\n",
              "<style scoped>\n",
              "    .dataframe tbody tr th:only-of-type {\n",
              "        vertical-align: middle;\n",
              "    }\n",
              "\n",
              "    .dataframe tbody tr th {\n",
              "        vertical-align: top;\n",
              "    }\n",
              "\n",
              "    .dataframe thead th {\n",
              "        text-align: right;\n",
              "    }\n",
              "</style>\n",
              "<table border=\"1\" class=\"dataframe\">\n",
              "  <thead>\n",
              "    <tr style=\"text-align: right;\">\n",
              "      <th></th>\n",
              "      <th>0</th>\n",
              "      <th>1</th>\n",
              "      <th>2</th>\n",
              "    </tr>\n",
              "  </thead>\n",
              "  <tbody>\n",
              "    <tr>\n",
              "      <th>종로구</th>\n",
              "      <td>83</td>\n",
              "      <td>마포구</td>\n",
              "      <td>149</td>\n",
              "    </tr>\n",
              "    <tr>\n",
              "      <th>중구</th>\n",
              "      <td>55</td>\n",
              "      <td>양천구</td>\n",
              "      <td>163</td>\n",
              "    </tr>\n",
              "    <tr>\n",
              "      <th>용산구</th>\n",
              "      <td>111</td>\n",
              "      <td>강서구</td>\n",
              "      <td>251</td>\n",
              "    </tr>\n",
              "    <tr>\n",
              "      <th>성동구</th>\n",
              "      <td>108</td>\n",
              "      <td>구로구</td>\n",
              "      <td>160</td>\n",
              "    </tr>\n",
              "    <tr>\n",
              "      <th>광진구</th>\n",
              "      <td>120</td>\n",
              "      <td>금천구</td>\n",
              "      <td>84</td>\n",
              "    </tr>\n",
              "    <tr>\n",
              "      <th>동대문구</th>\n",
              "      <td>137</td>\n",
              "      <td>영등포구</td>\n",
              "      <td>168</td>\n",
              "    </tr>\n",
              "    <tr>\n",
              "      <th>중랑구</th>\n",
              "      <td>174</td>\n",
              "      <td>동작구</td>\n",
              "      <td>202</td>\n",
              "    </tr>\n",
              "    <tr>\n",
              "      <th>성북구</th>\n",
              "      <td>314</td>\n",
              "      <td>관악구</td>\n",
              "      <td>329</td>\n",
              "    </tr>\n",
              "    <tr>\n",
              "      <th>강북구</th>\n",
              "      <td>136</td>\n",
              "      <td>서초구</td>\n",
              "      <td>171</td>\n",
              "    </tr>\n",
              "    <tr>\n",
              "      <th>도봉구</th>\n",
              "      <td>163</td>\n",
              "      <td>강남구</td>\n",
              "      <td>234</td>\n",
              "    </tr>\n",
              "    <tr>\n",
              "      <th>노원구</th>\n",
              "      <td>281</td>\n",
              "      <td>송파구</td>\n",
              "      <td>307</td>\n",
              "    </tr>\n",
              "    <tr>\n",
              "      <th>은평구</th>\n",
              "      <td>232</td>\n",
              "      <td>강동구</td>\n",
              "      <td>176</td>\n",
              "    </tr>\n",
              "    <tr>\n",
              "      <th>서대문구</th>\n",
              "      <td>115</td>\n",
              "      <td>기타</td>\n",
              "      <td>320</td>\n",
              "    </tr>\n",
              "  </tbody>\n",
              "</table>\n",
              "</div>"
            ],
            "text/plain": [
              "        0     1    2\n",
              "종로구    83   마포구  149\n",
              "중구     55   양천구  163\n",
              "용산구   111   강서구  251\n",
              "성동구   108   구로구  160\n",
              "광진구   120   금천구   84\n",
              "동대문구  137  영등포구  168\n",
              "중랑구   174   동작구  202\n",
              "성북구   314   관악구  329\n",
              "강북구   136   서초구  171\n",
              "도봉구   163   강남구  234\n",
              "노원구   281   송파구  307\n",
              "은평구   232   강동구  176\n",
              "서대문구  115    기타  320"
            ]
          },
          "metadata": {
            "tags": []
          },
          "execution_count": 4
        }
      ]
    },
    {
      "cell_type": "code",
      "metadata": {
        "id": "xH5QoFWGcysR",
        "colab_type": "code",
        "colab": {
          "base_uri": "https://localhost:8080/",
          "height": 419
        },
        "outputId": "7c91deec-2813-4162-af1c-04ec884e1b88"
      },
      "source": [
        "df=table[3]\n",
        "df"
      ],
      "execution_count": null,
      "outputs": [
        {
          "output_type": "execute_result",
          "data": {
            "text/html": [
              "<div>\n",
              "<style scoped>\n",
              "    .dataframe tbody tr th:only-of-type {\n",
              "        vertical-align: middle;\n",
              "    }\n",
              "\n",
              "    .dataframe tbody tr th {\n",
              "        vertical-align: top;\n",
              "    }\n",
              "\n",
              "    .dataframe thead th {\n",
              "        text-align: right;\n",
              "    }\n",
              "</style>\n",
              "<table border=\"1\" class=\"dataframe\">\n",
              "  <thead>\n",
              "    <tr style=\"text-align: right;\">\n",
              "      <th></th>\n",
              "      <th>연번</th>\n",
              "      <th>환자</th>\n",
              "      <th>확진일</th>\n",
              "      <th>거주지</th>\n",
              "      <th>여행력</th>\n",
              "      <th>접촉력</th>\n",
              "      <th>퇴원현황</th>\n",
              "    </tr>\n",
              "  </thead>\n",
              "  <tbody>\n",
              "    <tr>\n",
              "      <th>0</th>\n",
              "      <td>4743</td>\n",
              "      <td>22376</td>\n",
              "      <td>9.14.</td>\n",
              "      <td>기타</td>\n",
              "      <td>-</td>\n",
              "      <td>확인 중</td>\n",
              "      <td>NaN</td>\n",
              "    </tr>\n",
              "    <tr>\n",
              "      <th>1</th>\n",
              "      <td>4742</td>\n",
              "      <td>22375</td>\n",
              "      <td>9.14.</td>\n",
              "      <td>기타</td>\n",
              "      <td>-</td>\n",
              "      <td>확인 중</td>\n",
              "      <td>NaN</td>\n",
              "    </tr>\n",
              "    <tr>\n",
              "      <th>2</th>\n",
              "      <td>4741</td>\n",
              "      <td>22355</td>\n",
              "      <td>9.14.</td>\n",
              "      <td>기타</td>\n",
              "      <td>-</td>\n",
              "      <td>확인 중</td>\n",
              "      <td>NaN</td>\n",
              "    </tr>\n",
              "    <tr>\n",
              "      <th>3</th>\n",
              "      <td>4740</td>\n",
              "      <td>22383</td>\n",
              "      <td>9.14.</td>\n",
              "      <td>서대문구</td>\n",
              "      <td>-</td>\n",
              "      <td>기타 확진자 접촉</td>\n",
              "      <td>NaN</td>\n",
              "    </tr>\n",
              "    <tr>\n",
              "      <th>4</th>\n",
              "      <td>4739</td>\n",
              "      <td>22378</td>\n",
              "      <td>9.14.</td>\n",
              "      <td>강남구</td>\n",
              "      <td>-</td>\n",
              "      <td>확인 중</td>\n",
              "      <td>NaN</td>\n",
              "    </tr>\n",
              "    <tr>\n",
              "      <th>...</th>\n",
              "      <td>...</td>\n",
              "      <td>...</td>\n",
              "      <td>...</td>\n",
              "      <td>...</td>\n",
              "      <td>...</td>\n",
              "      <td>...</td>\n",
              "      <td>...</td>\n",
              "    </tr>\n",
              "    <tr>\n",
              "      <th>4738</th>\n",
              "      <td>5</td>\n",
              "      <td>9</td>\n",
              "      <td>1.31.</td>\n",
              "      <td>성북구</td>\n",
              "      <td>-</td>\n",
              "      <td>#5 접촉</td>\n",
              "      <td>퇴원</td>\n",
              "    </tr>\n",
              "    <tr>\n",
              "      <th>4739</th>\n",
              "      <td>4</td>\n",
              "      <td>7</td>\n",
              "      <td>1.30.</td>\n",
              "      <td>마포구</td>\n",
              "      <td>중국 우한시</td>\n",
              "      <td>해외 접촉</td>\n",
              "      <td>퇴원</td>\n",
              "    </tr>\n",
              "    <tr>\n",
              "      <th>4740</th>\n",
              "      <td>3</td>\n",
              "      <td>6</td>\n",
              "      <td>1.30.</td>\n",
              "      <td>종로구</td>\n",
              "      <td>-</td>\n",
              "      <td>#3 접촉</td>\n",
              "      <td>퇴원</td>\n",
              "    </tr>\n",
              "    <tr>\n",
              "      <th>4741</th>\n",
              "      <td>2</td>\n",
              "      <td>5</td>\n",
              "      <td>1.30.</td>\n",
              "      <td>중랑구</td>\n",
              "      <td>중국 우한시</td>\n",
              "      <td>해외 접촉</td>\n",
              "      <td>퇴원</td>\n",
              "    </tr>\n",
              "    <tr>\n",
              "      <th>4742</th>\n",
              "      <td>1</td>\n",
              "      <td>2</td>\n",
              "      <td>1.24.</td>\n",
              "      <td>강서구</td>\n",
              "      <td>중국 우한시</td>\n",
              "      <td>해외 접촉</td>\n",
              "      <td>퇴원</td>\n",
              "    </tr>\n",
              "  </tbody>\n",
              "</table>\n",
              "<p>4743 rows × 7 columns</p>\n",
              "</div>"
            ],
            "text/plain": [
              "        연번     환자    확진일   거주지     여행력        접촉력 퇴원현황\n",
              "0     4743  22376  9.14.    기타       -       확인 중  NaN\n",
              "1     4742  22375  9.14.    기타       -       확인 중  NaN\n",
              "2     4741  22355  9.14.    기타       -       확인 중  NaN\n",
              "3     4740  22383  9.14.  서대문구       -  기타 확진자 접촉  NaN\n",
              "4     4739  22378  9.14.   강남구       -       확인 중  NaN\n",
              "...    ...    ...    ...   ...     ...        ...  ...\n",
              "4738     5      9  1.31.   성북구       -      #5 접촉   퇴원\n",
              "4739     4      7  1.30.   마포구  중국 우한시      해외 접촉   퇴원\n",
              "4740     3      6  1.30.   종로구       -      #3 접촉   퇴원\n",
              "4741     2      5  1.30.   중랑구  중국 우한시      해외 접촉   퇴원\n",
              "4742     1      2  1.24.   강서구  중국 우한시      해외 접촉   퇴원\n",
              "\n",
              "[4743 rows x 7 columns]"
            ]
          },
          "metadata": {
            "tags": []
          },
          "execution_count": 17
        }
      ]
    },
    {
      "cell_type": "code",
      "metadata": {
        "id": "7mFiUrl8aVpd",
        "colab_type": "code",
        "colab": {
          "base_uri": "https://localhost:8080/",
          "height": 35
        },
        "outputId": "1c7e32e5-282d-4754-a92f-0ea5ea9b6a58"
      },
      "source": [
        "df=table[3]\n",
        "df.shape"
      ],
      "execution_count": null,
      "outputs": [
        {
          "output_type": "execute_result",
          "data": {
            "text/plain": [
              "(4743, 7)"
            ]
          },
          "metadata": {
            "tags": []
          },
          "execution_count": 18
        }
      ]
    },
    {
      "cell_type": "code",
      "metadata": {
        "id": "9N58iazKbi0X",
        "colab_type": "code",
        "colab": {
          "base_uri": "https://localhost:8080/",
          "height": 204
        },
        "outputId": "ad896b85-3912-4626-d621-7030f8055e52"
      },
      "source": [
        "df.head()"
      ],
      "execution_count": null,
      "outputs": [
        {
          "output_type": "execute_result",
          "data": {
            "text/html": [
              "<div>\n",
              "<style scoped>\n",
              "    .dataframe tbody tr th:only-of-type {\n",
              "        vertical-align: middle;\n",
              "    }\n",
              "\n",
              "    .dataframe tbody tr th {\n",
              "        vertical-align: top;\n",
              "    }\n",
              "\n",
              "    .dataframe thead th {\n",
              "        text-align: right;\n",
              "    }\n",
              "</style>\n",
              "<table border=\"1\" class=\"dataframe\">\n",
              "  <thead>\n",
              "    <tr style=\"text-align: right;\">\n",
              "      <th></th>\n",
              "      <th>연번</th>\n",
              "      <th>환자</th>\n",
              "      <th>확진일</th>\n",
              "      <th>거주지</th>\n",
              "      <th>여행력</th>\n",
              "      <th>접촉력</th>\n",
              "      <th>퇴원현황</th>\n",
              "    </tr>\n",
              "  </thead>\n",
              "  <tbody>\n",
              "    <tr>\n",
              "      <th>0</th>\n",
              "      <td>4743</td>\n",
              "      <td>22376</td>\n",
              "      <td>9.14.</td>\n",
              "      <td>기타</td>\n",
              "      <td>-</td>\n",
              "      <td>확인 중</td>\n",
              "      <td>NaN</td>\n",
              "    </tr>\n",
              "    <tr>\n",
              "      <th>1</th>\n",
              "      <td>4742</td>\n",
              "      <td>22375</td>\n",
              "      <td>9.14.</td>\n",
              "      <td>기타</td>\n",
              "      <td>-</td>\n",
              "      <td>확인 중</td>\n",
              "      <td>NaN</td>\n",
              "    </tr>\n",
              "    <tr>\n",
              "      <th>2</th>\n",
              "      <td>4741</td>\n",
              "      <td>22355</td>\n",
              "      <td>9.14.</td>\n",
              "      <td>기타</td>\n",
              "      <td>-</td>\n",
              "      <td>확인 중</td>\n",
              "      <td>NaN</td>\n",
              "    </tr>\n",
              "    <tr>\n",
              "      <th>3</th>\n",
              "      <td>4740</td>\n",
              "      <td>22383</td>\n",
              "      <td>9.14.</td>\n",
              "      <td>서대문구</td>\n",
              "      <td>-</td>\n",
              "      <td>기타 확진자 접촉</td>\n",
              "      <td>NaN</td>\n",
              "    </tr>\n",
              "    <tr>\n",
              "      <th>4</th>\n",
              "      <td>4739</td>\n",
              "      <td>22378</td>\n",
              "      <td>9.14.</td>\n",
              "      <td>강남구</td>\n",
              "      <td>-</td>\n",
              "      <td>확인 중</td>\n",
              "      <td>NaN</td>\n",
              "    </tr>\n",
              "  </tbody>\n",
              "</table>\n",
              "</div>"
            ],
            "text/plain": [
              "     연번     환자    확진일   거주지 여행력        접촉력 퇴원현황\n",
              "0  4743  22376  9.14.    기타   -       확인 중  NaN\n",
              "1  4742  22375  9.14.    기타   -       확인 중  NaN\n",
              "2  4741  22355  9.14.    기타   -       확인 중  NaN\n",
              "3  4740  22383  9.14.  서대문구   -  기타 확진자 접촉  NaN\n",
              "4  4739  22378  9.14.   강남구   -       확인 중  NaN"
            ]
          },
          "metadata": {
            "tags": []
          },
          "execution_count": 19
        }
      ]
    },
    {
      "cell_type": "code",
      "metadata": {
        "id": "-Lll0ezJbo0I",
        "colab_type": "code",
        "colab": {
          "base_uri": "https://localhost:8080/",
          "height": 35
        },
        "outputId": "d2fd2e3a-3ca4-4a47-ea14-fc301e7f5e6d"
      },
      "source": [
        "last_day=df.loc[0,\"확진일\"]\n",
        "last_day=last_day.replace(\".\",\"_\")\n",
        "last_day"
      ],
      "execution_count": null,
      "outputs": [
        {
          "output_type": "execute_result",
          "data": {
            "application/vnd.google.colaboratory.intrinsic+json": {
              "type": "string"
            },
            "text/plain": [
              "'9_14_'"
            ]
          },
          "metadata": {
            "tags": []
          },
          "execution_count": 20
        }
      ]
    },
    {
      "cell_type": "code",
      "metadata": {
        "id": "5JiGCCs8b0ds",
        "colab_type": "code",
        "colab": {
          "base_uri": "https://localhost:8080/",
          "height": 35
        },
        "outputId": "a29d1536-3957-4725-c9f2-656ce6ebc8f6"
      },
      "source": [
        "file_name=f\"seoul_covide_{last_day}.csv\"\n",
        "file_name"
      ],
      "execution_count": null,
      "outputs": [
        {
          "output_type": "execute_result",
          "data": {
            "application/vnd.google.colaboratory.intrinsic+json": {
              "type": "string"
            },
            "text/plain": [
              "'seoul_covide_9_14_.csv'"
            ]
          },
          "metadata": {
            "tags": []
          },
          "execution_count": 21
        }
      ]
    },
    {
      "cell_type": "code",
      "metadata": {
        "id": "T1RTk466bqBr",
        "colab_type": "code",
        "colab": {}
      },
      "source": [
        "df.to_csv(file_name, index=False)"
      ],
      "execution_count": null,
      "outputs": []
    },
    {
      "cell_type": "code",
      "metadata": {
        "id": "KIKbRD6CbqJ3",
        "colab_type": "code",
        "colab": {
          "base_uri": "https://localhost:8080/",
          "height": 419
        },
        "outputId": "e209745e-a361-4c28-8090-331912c0c00f"
      },
      "source": [
        "pd.read_csv(file_name)"
      ],
      "execution_count": null,
      "outputs": [
        {
          "output_type": "execute_result",
          "data": {
            "text/html": [
              "<div>\n",
              "<style scoped>\n",
              "    .dataframe tbody tr th:only-of-type {\n",
              "        vertical-align: middle;\n",
              "    }\n",
              "\n",
              "    .dataframe tbody tr th {\n",
              "        vertical-align: top;\n",
              "    }\n",
              "\n",
              "    .dataframe thead th {\n",
              "        text-align: right;\n",
              "    }\n",
              "</style>\n",
              "<table border=\"1\" class=\"dataframe\">\n",
              "  <thead>\n",
              "    <tr style=\"text-align: right;\">\n",
              "      <th></th>\n",
              "      <th>연번</th>\n",
              "      <th>환자</th>\n",
              "      <th>확진일</th>\n",
              "      <th>거주지</th>\n",
              "      <th>여행력</th>\n",
              "      <th>접촉력</th>\n",
              "      <th>퇴원현황</th>\n",
              "    </tr>\n",
              "  </thead>\n",
              "  <tbody>\n",
              "    <tr>\n",
              "      <th>0</th>\n",
              "      <td>4743</td>\n",
              "      <td>22376</td>\n",
              "      <td>9.14.</td>\n",
              "      <td>기타</td>\n",
              "      <td>-</td>\n",
              "      <td>확인 중</td>\n",
              "      <td>NaN</td>\n",
              "    </tr>\n",
              "    <tr>\n",
              "      <th>1</th>\n",
              "      <td>4742</td>\n",
              "      <td>22375</td>\n",
              "      <td>9.14.</td>\n",
              "      <td>기타</td>\n",
              "      <td>-</td>\n",
              "      <td>확인 중</td>\n",
              "      <td>NaN</td>\n",
              "    </tr>\n",
              "    <tr>\n",
              "      <th>2</th>\n",
              "      <td>4741</td>\n",
              "      <td>22355</td>\n",
              "      <td>9.14.</td>\n",
              "      <td>기타</td>\n",
              "      <td>-</td>\n",
              "      <td>확인 중</td>\n",
              "      <td>NaN</td>\n",
              "    </tr>\n",
              "    <tr>\n",
              "      <th>3</th>\n",
              "      <td>4740</td>\n",
              "      <td>22383</td>\n",
              "      <td>9.14.</td>\n",
              "      <td>서대문구</td>\n",
              "      <td>-</td>\n",
              "      <td>기타 확진자 접촉</td>\n",
              "      <td>NaN</td>\n",
              "    </tr>\n",
              "    <tr>\n",
              "      <th>4</th>\n",
              "      <td>4739</td>\n",
              "      <td>22378</td>\n",
              "      <td>9.14.</td>\n",
              "      <td>강남구</td>\n",
              "      <td>-</td>\n",
              "      <td>확인 중</td>\n",
              "      <td>NaN</td>\n",
              "    </tr>\n",
              "    <tr>\n",
              "      <th>...</th>\n",
              "      <td>...</td>\n",
              "      <td>...</td>\n",
              "      <td>...</td>\n",
              "      <td>...</td>\n",
              "      <td>...</td>\n",
              "      <td>...</td>\n",
              "      <td>...</td>\n",
              "    </tr>\n",
              "    <tr>\n",
              "      <th>4738</th>\n",
              "      <td>5</td>\n",
              "      <td>9</td>\n",
              "      <td>1.31.</td>\n",
              "      <td>성북구</td>\n",
              "      <td>-</td>\n",
              "      <td>#5 접촉</td>\n",
              "      <td>퇴원</td>\n",
              "    </tr>\n",
              "    <tr>\n",
              "      <th>4739</th>\n",
              "      <td>4</td>\n",
              "      <td>7</td>\n",
              "      <td>1.30.</td>\n",
              "      <td>마포구</td>\n",
              "      <td>중국 우한시</td>\n",
              "      <td>해외 접촉</td>\n",
              "      <td>퇴원</td>\n",
              "    </tr>\n",
              "    <tr>\n",
              "      <th>4740</th>\n",
              "      <td>3</td>\n",
              "      <td>6</td>\n",
              "      <td>1.30.</td>\n",
              "      <td>종로구</td>\n",
              "      <td>-</td>\n",
              "      <td>#3 접촉</td>\n",
              "      <td>퇴원</td>\n",
              "    </tr>\n",
              "    <tr>\n",
              "      <th>4741</th>\n",
              "      <td>2</td>\n",
              "      <td>5</td>\n",
              "      <td>1.30.</td>\n",
              "      <td>중랑구</td>\n",
              "      <td>중국 우한시</td>\n",
              "      <td>해외 접촉</td>\n",
              "      <td>퇴원</td>\n",
              "    </tr>\n",
              "    <tr>\n",
              "      <th>4742</th>\n",
              "      <td>1</td>\n",
              "      <td>2</td>\n",
              "      <td>1.24.</td>\n",
              "      <td>강서구</td>\n",
              "      <td>중국 우한시</td>\n",
              "      <td>해외 접촉</td>\n",
              "      <td>퇴원</td>\n",
              "    </tr>\n",
              "  </tbody>\n",
              "</table>\n",
              "<p>4743 rows × 7 columns</p>\n",
              "</div>"
            ],
            "text/plain": [
              "        연번     환자    확진일   거주지     여행력        접촉력 퇴원현황\n",
              "0     4743  22376  9.14.    기타       -       확인 중  NaN\n",
              "1     4742  22375  9.14.    기타       -       확인 중  NaN\n",
              "2     4741  22355  9.14.    기타       -       확인 중  NaN\n",
              "3     4740  22383  9.14.  서대문구       -  기타 확진자 접촉  NaN\n",
              "4     4739  22378  9.14.   강남구       -       확인 중  NaN\n",
              "...    ...    ...    ...   ...     ...        ...  ...\n",
              "4738     5      9  1.31.   성북구       -      #5 접촉   퇴원\n",
              "4739     4      7  1.30.   마포구  중국 우한시      해외 접촉   퇴원\n",
              "4740     3      6  1.30.   종로구       -      #3 접촉   퇴원\n",
              "4741     2      5  1.30.   중랑구  중국 우한시      해외 접촉   퇴원\n",
              "4742     1      2  1.24.   강서구  중국 우한시      해외 접촉   퇴원\n",
              "\n",
              "[4743 rows x 7 columns]"
            ]
          },
          "metadata": {
            "tags": []
          },
          "execution_count": 23
        }
      ]
    },
    {
      "cell_type": "code",
      "metadata": {
        "id": "rsmlW3hndAmc",
        "colab_type": "code",
        "colab": {}
      },
      "source": [
        "df=df.sort_values([\"연번\"],ascending=False)"
      ],
      "execution_count": null,
      "outputs": []
    },
    {
      "cell_type": "code",
      "metadata": {
        "id": "GuIHA-qvdPcY",
        "colab_type": "code",
        "colab": {
          "base_uri": "https://localhost:8080/",
          "height": 204
        },
        "outputId": "ffcfcc5f-d17b-41c2-89cf-1051804f86a7"
      },
      "source": [
        "df.head()"
      ],
      "execution_count": null,
      "outputs": [
        {
          "output_type": "execute_result",
          "data": {
            "text/html": [
              "<div>\n",
              "<style scoped>\n",
              "    .dataframe tbody tr th:only-of-type {\n",
              "        vertical-align: middle;\n",
              "    }\n",
              "\n",
              "    .dataframe tbody tr th {\n",
              "        vertical-align: top;\n",
              "    }\n",
              "\n",
              "    .dataframe thead th {\n",
              "        text-align: right;\n",
              "    }\n",
              "</style>\n",
              "<table border=\"1\" class=\"dataframe\">\n",
              "  <thead>\n",
              "    <tr style=\"text-align: right;\">\n",
              "      <th></th>\n",
              "      <th>연번</th>\n",
              "      <th>환자</th>\n",
              "      <th>확진일</th>\n",
              "      <th>거주지</th>\n",
              "      <th>여행력</th>\n",
              "      <th>접촉력</th>\n",
              "      <th>퇴원현황</th>\n",
              "    </tr>\n",
              "  </thead>\n",
              "  <tbody>\n",
              "    <tr>\n",
              "      <th>0</th>\n",
              "      <td>4743</td>\n",
              "      <td>22376</td>\n",
              "      <td>9.14.</td>\n",
              "      <td>기타</td>\n",
              "      <td>-</td>\n",
              "      <td>확인 중</td>\n",
              "      <td>NaN</td>\n",
              "    </tr>\n",
              "    <tr>\n",
              "      <th>1</th>\n",
              "      <td>4742</td>\n",
              "      <td>22375</td>\n",
              "      <td>9.14.</td>\n",
              "      <td>기타</td>\n",
              "      <td>-</td>\n",
              "      <td>확인 중</td>\n",
              "      <td>NaN</td>\n",
              "    </tr>\n",
              "    <tr>\n",
              "      <th>2</th>\n",
              "      <td>4741</td>\n",
              "      <td>22355</td>\n",
              "      <td>9.14.</td>\n",
              "      <td>기타</td>\n",
              "      <td>-</td>\n",
              "      <td>확인 중</td>\n",
              "      <td>NaN</td>\n",
              "    </tr>\n",
              "    <tr>\n",
              "      <th>3</th>\n",
              "      <td>4740</td>\n",
              "      <td>22383</td>\n",
              "      <td>9.14.</td>\n",
              "      <td>서대문구</td>\n",
              "      <td>-</td>\n",
              "      <td>기타 확진자 접촉</td>\n",
              "      <td>NaN</td>\n",
              "    </tr>\n",
              "    <tr>\n",
              "      <th>4</th>\n",
              "      <td>4739</td>\n",
              "      <td>22378</td>\n",
              "      <td>9.14.</td>\n",
              "      <td>강남구</td>\n",
              "      <td>-</td>\n",
              "      <td>확인 중</td>\n",
              "      <td>NaN</td>\n",
              "    </tr>\n",
              "  </tbody>\n",
              "</table>\n",
              "</div>"
            ],
            "text/plain": [
              "     연번     환자    확진일   거주지 여행력        접촉력 퇴원현황\n",
              "0  4743  22376  9.14.    기타   -       확인 중  NaN\n",
              "1  4742  22375  9.14.    기타   -       확인 중  NaN\n",
              "2  4741  22355  9.14.    기타   -       확인 중  NaN\n",
              "3  4740  22383  9.14.  서대문구   -  기타 확진자 접촉  NaN\n",
              "4  4739  22378  9.14.   강남구   -       확인 중  NaN"
            ]
          },
          "metadata": {
            "tags": []
          },
          "execution_count": 27
        }
      ]
    },
    {
      "cell_type": "code",
      "metadata": {
        "id": "SQnhTkfydR0Q",
        "colab_type": "code",
        "colab": {
          "base_uri": "https://localhost:8080/",
          "height": 204
        },
        "outputId": "f4fd6d0b-7641-4860-e159-39fc250f1b71"
      },
      "source": [
        "df.tail()"
      ],
      "execution_count": null,
      "outputs": [
        {
          "output_type": "execute_result",
          "data": {
            "text/html": [
              "<div>\n",
              "<style scoped>\n",
              "    .dataframe tbody tr th:only-of-type {\n",
              "        vertical-align: middle;\n",
              "    }\n",
              "\n",
              "    .dataframe tbody tr th {\n",
              "        vertical-align: top;\n",
              "    }\n",
              "\n",
              "    .dataframe thead th {\n",
              "        text-align: right;\n",
              "    }\n",
              "</style>\n",
              "<table border=\"1\" class=\"dataframe\">\n",
              "  <thead>\n",
              "    <tr style=\"text-align: right;\">\n",
              "      <th></th>\n",
              "      <th>연번</th>\n",
              "      <th>환자</th>\n",
              "      <th>확진일</th>\n",
              "      <th>거주지</th>\n",
              "      <th>여행력</th>\n",
              "      <th>접촉력</th>\n",
              "      <th>퇴원현황</th>\n",
              "    </tr>\n",
              "  </thead>\n",
              "  <tbody>\n",
              "    <tr>\n",
              "      <th>4738</th>\n",
              "      <td>5</td>\n",
              "      <td>9</td>\n",
              "      <td>1.31.</td>\n",
              "      <td>성북구</td>\n",
              "      <td>-</td>\n",
              "      <td>#5 접촉</td>\n",
              "      <td>퇴원</td>\n",
              "    </tr>\n",
              "    <tr>\n",
              "      <th>4739</th>\n",
              "      <td>4</td>\n",
              "      <td>7</td>\n",
              "      <td>1.30.</td>\n",
              "      <td>마포구</td>\n",
              "      <td>중국 우한시</td>\n",
              "      <td>해외 접촉</td>\n",
              "      <td>퇴원</td>\n",
              "    </tr>\n",
              "    <tr>\n",
              "      <th>4740</th>\n",
              "      <td>3</td>\n",
              "      <td>6</td>\n",
              "      <td>1.30.</td>\n",
              "      <td>종로구</td>\n",
              "      <td>-</td>\n",
              "      <td>#3 접촉</td>\n",
              "      <td>퇴원</td>\n",
              "    </tr>\n",
              "    <tr>\n",
              "      <th>4741</th>\n",
              "      <td>2</td>\n",
              "      <td>5</td>\n",
              "      <td>1.30.</td>\n",
              "      <td>중랑구</td>\n",
              "      <td>중국 우한시</td>\n",
              "      <td>해외 접촉</td>\n",
              "      <td>퇴원</td>\n",
              "    </tr>\n",
              "    <tr>\n",
              "      <th>4742</th>\n",
              "      <td>1</td>\n",
              "      <td>2</td>\n",
              "      <td>1.24.</td>\n",
              "      <td>강서구</td>\n",
              "      <td>중국 우한시</td>\n",
              "      <td>해외 접촉</td>\n",
              "      <td>퇴원</td>\n",
              "    </tr>\n",
              "  </tbody>\n",
              "</table>\n",
              "</div>"
            ],
            "text/plain": [
              "      연번 환자    확진일  거주지     여행력    접촉력 퇴원현황\n",
              "4738   5  9  1.31.  성북구       -  #5 접촉   퇴원\n",
              "4739   4  7  1.30.  마포구  중국 우한시  해외 접촉   퇴원\n",
              "4740   3  6  1.30.  종로구       -  #3 접촉   퇴원\n",
              "4741   2  5  1.30.  중랑구  중국 우한시  해외 접촉   퇴원\n",
              "4742   1  2  1.24.  강서구  중국 우한시  해외 접촉   퇴원"
            ]
          },
          "metadata": {
            "tags": []
          },
          "execution_count": 28
        }
      ]
    },
    {
      "cell_type": "code",
      "metadata": {
        "id": "2oYaWea1U0kp",
        "colab_type": "code",
        "colab": {}
      },
      "source": [
        "# pandas, numpy 라이브러리 로드하기\n",
        "\n"
      ],
      "execution_count": null,
      "outputs": []
    },
    {
      "cell_type": "code",
      "metadata": {
        "id": "MAmev_R_U0ku",
        "colab_type": "code",
        "colab": {}
      },
      "source": [
        "# file_name 변수에 read_html 로 저장한 파일명을 지정해 줍니다.\n",
        "file_name = f\"seoul_covid_6_30_.csv\"\n",
        "file_name"
      ],
      "execution_count": null,
      "outputs": []
    },
    {
      "cell_type": "markdown",
      "metadata": {
        "id": "o0RWk05tU0kx",
        "colab_type": "text"
      },
      "source": [
        "* CSV 파일 다운로드 : https://bit.ly/seoul-covid19-csv-file"
      ]
    },
    {
      "cell_type": "code",
      "metadata": {
        "id": "DbScdX3XU0kx",
        "colab_type": "code",
        "colab": {}
      },
      "source": [
        "# pd.read_csv(https://bit.ly/seoul-covid19-csv-file) 으로 바로 읽어올 수도 있습니다.\n",
        "# read_csv 로 csv 파일을 불러와 주세요.\n",
        "\n"
      ],
      "execution_count": null,
      "outputs": []
    },
    {
      "cell_type": "code",
      "metadata": {
        "id": "QlZvsDBSU0k0",
        "colab_type": "code",
        "colab": {}
      },
      "source": [
        "# \"연번\"을 기준으로 역순으로 정렬합니다.\n",
        "\n"
      ],
      "execution_count": null,
      "outputs": []
    },
    {
      "cell_type": "code",
      "metadata": {
        "id": "c_NqaugJU0k4",
        "colab_type": "code",
        "colab": {}
      },
      "source": [
        "# head 로 미리보기를 합니다.\n",
        "\n"
      ],
      "execution_count": null,
      "outputs": []
    },
    {
      "cell_type": "code",
      "metadata": {
        "id": "DOL1kSp9U0k8",
        "colab_type": "code",
        "colab": {}
      },
      "source": [
        "# tail 로 미리보기를 합니다.\n",
        "\n"
      ],
      "execution_count": null,
      "outputs": []
    },
    {
      "cell_type": "markdown",
      "metadata": {
        "id": "Fq6pClbNU0k_",
        "colab_type": "text"
      },
      "source": [
        "## 시각화 도구 불러오기"
      ]
    },
    {
      "cell_type": "code",
      "metadata": {
        "id": "2lmwh006U0lA",
        "colab_type": "code",
        "colab": {}
      },
      "source": [
        "# matplotlib.pyplot 을 통해 한글폰트를 설정합니다.\n",
        "# plt.style.use 로 \"fivethirtyeight\" 스타일을 사용해 봅니다.\n",
        "\n",
        "\n"
      ],
      "execution_count": null,
      "outputs": []
    },
    {
      "cell_type": "markdown",
      "metadata": {
        "id": "ybjqEmoQU0lF",
        "colab_type": "text"
      },
      "source": [
        "### 시각화 선명하게 설정하기"
      ]
    },
    {
      "cell_type": "code",
      "metadata": {
        "id": "s2_2tc65U0lG",
        "colab_type": "code",
        "colab": {}
      },
      "source": [
        "# retina 디스플레이가 지원되는 환경에서 시각화의 폰트가 좀 더 선명해 보입니다.\n",
        "\n"
      ],
      "execution_count": null,
      "outputs": []
    },
    {
      "cell_type": "markdown",
      "metadata": {
        "id": "OvRf4BjlU0lK",
        "colab_type": "text"
      },
      "source": [
        "## 확진일"
      ]
    },
    {
      "cell_type": "code",
      "metadata": {
        "id": "3vKTpEuzU0lL",
        "colab_type": "code",
        "colab": {}
      },
      "source": [
        "# 확진일의 빈도수를 봅니다. 어느 날짜에 가장 많이 확진이 되었는지 봅니다.\n",
        "\n"
      ],
      "execution_count": null,
      "outputs": []
    },
    {
      "cell_type": "code",
      "metadata": {
        "id": "9WolFcpwU0lO",
        "colab_type": "code",
        "colab": {}
      },
      "source": [
        "# \"확진일\" 컬럼의 데이터가 날짜 형태가 아니라 문자형태 입니다.\n",
        "\n"
      ],
      "execution_count": null,
      "outputs": []
    },
    {
      "cell_type": "code",
      "metadata": {
        "id": "yM54yYdHU0lR",
        "colab_type": "code",
        "colab": {}
      },
      "source": [
        "# 데이터 타입을 변경해서 날짜형태로 변환합니다.\n",
        "# 판다스의 to_datetime 을 사용해서 날짜 타입으로 변경할 수 있습니다.\n",
        "# 연도가 없기 때문에 2020년을 날짜에 추가하고 \"-\" 문자로 날짜를 연결해 줍니다.\n",
        "\n",
        "\n"
      ],
      "execution_count": null,
      "outputs": []
    },
    {
      "cell_type": "code",
      "metadata": {
        "id": "al55SLuOU0lV",
        "colab_type": "code",
        "colab": {}
      },
      "source": [
        "# 월만 추출합니다.\n",
        "\n"
      ],
      "execution_count": null,
      "outputs": []
    },
    {
      "cell_type": "code",
      "metadata": {
        "id": "dBXZW9gXU0lZ",
        "colab_type": "code",
        "colab": {}
      },
      "source": [
        "# 해당 연도의 몇번째 \"주\"인지 추출합니다.\n",
        "\n"
      ],
      "execution_count": null,
      "outputs": []
    },
    {
      "cell_type": "markdown",
      "metadata": {
        "id": "CY6CkC_DU0lc",
        "colab_type": "text"
      },
      "source": [
        "### 선그래프 그리기\n",
        "[Visualization — pandas documentation](https://pandas.pydata.org/pandas-docs/stable/user_guide/visualization.html)"
      ]
    },
    {
      "cell_type": "code",
      "metadata": {
        "id": "pllCRLfhU0lc",
        "colab_type": "code",
        "colab": {}
      },
      "source": [
        "# 확진일자로 선그래프를 그립니다.\n",
        "\n"
      ],
      "execution_count": null,
      "outputs": []
    },
    {
      "cell_type": "markdown",
      "metadata": {
        "id": "c7JhDaoBU0lg",
        "colab_type": "text"
      },
      "source": [
        "### 선그래프에 값 표시하기"
      ]
    },
    {
      "cell_type": "code",
      "metadata": {
        "id": "t9zi7-GfU0lg",
        "colab_type": "code",
        "colab": {}
      },
      "source": [
        "# 일자별 확진자수를 선그래프로 그립니다.\n",
        "# 연도는 모두 2020년이기 때문에 월일만 표기되도록 슬라이싱을 사용해 \"월일\" 컬럼을 만듭니다.\n",
        "\n"
      ],
      "execution_count": null,
      "outputs": []
    },
    {
      "cell_type": "markdown",
      "metadata": {
        "id": "VAaXNQzuU0lj",
        "colab_type": "text"
      },
      "source": [
        "### 확진자가 가장 많이 나온 날"
      ]
    },
    {
      "cell_type": "code",
      "metadata": {
        "id": "OdZik2B3U0lj",
        "colab_type": "code",
        "colab": {}
      },
      "source": [
        "# describe 를 통해 일자별 확진자수를 describe를 통해 요약해 봅니다.\n",
        "\n"
      ],
      "execution_count": null,
      "outputs": []
    },
    {
      "cell_type": "code",
      "metadata": {
        "id": "LHYXEL-vU0ln",
        "colab_type": "code",
        "colab": {}
      },
      "source": [
        "# 확진자가 가장 많았던 날을 찾습니다.\n",
        "\n"
      ],
      "execution_count": null,
      "outputs": []
    },
    {
      "cell_type": "code",
      "metadata": {
        "id": "w7JnL21iU0lr",
        "colab_type": "code",
        "colab": {}
      },
      "source": [
        "# 확진자가 가장 많았던 날의 발생이력을 찾습니다.\n",
        "\n"
      ],
      "execution_count": null,
      "outputs": []
    },
    {
      "cell_type": "markdown",
      "metadata": {
        "id": "JNMBoOfLU0lu",
        "colab_type": "text"
      },
      "source": [
        "### 막대그래프 그리기"
      ]
    },
    {
      "cell_type": "code",
      "metadata": {
        "id": "AXIEemxdU0lv",
        "colab_type": "code",
        "colab": {}
      },
      "source": [
        "# 선그래프로 그렸던 그래프를 막대그래프로 그립니다.\n",
        "\n"
      ],
      "execution_count": null,
      "outputs": []
    },
    {
      "cell_type": "markdown",
      "metadata": {
        "id": "E7GezSYCU0l0",
        "colab_type": "text"
      },
      "source": [
        "### 최근 데이터만 슬라이싱으로 나눠 그리기"
      ]
    },
    {
      "cell_type": "code",
      "metadata": {
        "id": "B4KM26oEU0l1",
        "colab_type": "code",
        "colab": {}
      },
      "source": [
        "# 슬라이싱을 통해 최근 데이터만 그립니다.\n",
        "\n"
      ],
      "execution_count": null,
      "outputs": []
    },
    {
      "cell_type": "markdown",
      "metadata": {
        "id": "hxX7MrTCU0l4",
        "colab_type": "text"
      },
      "source": [
        "### 월별 확진자 수 그리기"
      ]
    },
    {
      "cell_type": "code",
      "metadata": {
        "id": "RGoorZSwU0l4",
        "colab_type": "code",
        "colab": {}
      },
      "source": [
        "# 월별 확진자수에 대한 빈도수를 구해서 시각화 합니다.\n",
        "\n"
      ],
      "execution_count": null,
      "outputs": []
    },
    {
      "cell_type": "markdown",
      "metadata": {
        "id": "QIkCEVOuU0l9",
        "colab_type": "text"
      },
      "source": [
        "### 주단위 확진자수 그리기"
      ]
    },
    {
      "cell_type": "code",
      "metadata": {
        "scrolled": true,
        "id": "gvUAWoddU0l-",
        "colab_type": "code",
        "colab": {}
      },
      "source": [
        "# 주별로 빈도수를 구합니다.\n",
        "\n",
        "\n"
      ],
      "execution_count": null,
      "outputs": []
    },
    {
      "cell_type": "code",
      "metadata": {
        "id": "uPS6R5jpU0mE",
        "colab_type": "code",
        "colab": {}
      },
      "source": [
        "# 주단위 빈도수 막대그래프로 그리기\n"
      ],
      "execution_count": null,
      "outputs": []
    },
    {
      "cell_type": "markdown",
      "metadata": {
        "id": "5RgyqQm2U0mJ",
        "colab_type": "text"
      },
      "source": [
        "### 월-주 함께 그리기"
      ]
    },
    {
      "cell_type": "code",
      "metadata": {
        "id": "ZZxCGnQhU0mK",
        "colab_type": "code",
        "colab": {}
      },
      "source": [
        "# groupby 를 통해 \"월\", \"주\" 로 그룹화 하여 빈도수를 계산합니다.\n",
        "\n"
      ],
      "execution_count": null,
      "outputs": []
    },
    {
      "cell_type": "code",
      "metadata": {
        "id": "djf31-FoU0mP",
        "colab_type": "code",
        "colab": {}
      },
      "source": [
        "# 월-주 를 함께 그래프에 표현하기\n",
        "\n",
        "\n"
      ],
      "execution_count": null,
      "outputs": []
    },
    {
      "cell_type": "markdown",
      "metadata": {
        "id": "Yc2E4y4FU0mT",
        "colab_type": "text"
      },
      "source": [
        "## 모든 날짜를 행에 만들어 주기\n",
        "* 확진자가 없는 날의 데이터도 만들어 줍니다."
      ]
    },
    {
      "cell_type": "code",
      "metadata": {
        "id": "5Vy2XZvCU0mU",
        "colab_type": "code",
        "colab": {}
      },
      "source": [
        "# 첫 확진일 부터 마지막 확진일까지 가져옵니다.\n",
        "# 데이터프레임의 첫번째 날짜는 first_day 에 마지막 날짜는 last_day 에 담습니다.\n",
        "\n"
      ],
      "execution_count": null,
      "outputs": []
    },
    {
      "cell_type": "code",
      "metadata": {
        "id": "PK5R0-90U0mZ",
        "colab_type": "code",
        "colab": {}
      },
      "source": [
        "# pd.date_range 를 통해 시작하는 날짜부터 끝나는 날짜까지의 \n",
        "# DatetimeIndex 를 만들고 days 라는 변수에 저장합니다.\n",
        "\n"
      ],
      "execution_count": null,
      "outputs": []
    },
    {
      "cell_type": "code",
      "metadata": {
        "id": "trHmy_dTU0md",
        "colab_type": "code",
        "colab": {}
      },
      "source": [
        "# days 변수의 값으로 \"연월일\" 이라는 컬럼이름을 갖는 데이터프레임을 만듭니다.\n",
        "\n"
      ],
      "execution_count": null,
      "outputs": []
    },
    {
      "cell_type": "code",
      "metadata": {
        "id": "f6M4nVYuU0mj",
        "colab_type": "code",
        "colab": {}
      },
      "source": [
        "# 확진일자별로 빈도수 구하기\n",
        "\n"
      ],
      "execution_count": null,
      "outputs": []
    },
    {
      "cell_type": "code",
      "metadata": {
        "id": "fi3AsvjDU0mn",
        "colab_type": "code",
        "colab": {}
      },
      "source": [
        "# 확진일자별로 빈도수 구한 내용을 데이터프레임으로 변환하기\n",
        "\n"
      ],
      "execution_count": null,
      "outputs": []
    },
    {
      "cell_type": "code",
      "metadata": {
        "id": "1YXvtO8-U0ms",
        "colab_type": "code",
        "colab": {}
      },
      "source": [
        "# value_counts 결과의 컬럼명을 \"확진수\" 로 바꾸기\n",
        "\n",
        "\n"
      ],
      "execution_count": null,
      "outputs": []
    },
    {
      "cell_type": "markdown",
      "metadata": {
        "id": "g_DeHHILU0mw",
        "colab_type": "text"
      },
      "source": [
        "### merge 를 통해 전체 확진일자 만들기\n",
        "* 이미지 출처 및 Pandas 공식문서 보기 : [How to combine data from multiple tables? — pandas documentation](https://pandas.pydata.org/pandas-docs/stable/getting_started/intro_tutorials/08_combine_dataframes.html#join-tables-using-a-common-identifier)\n",
        "\n",
        "<img src=\"https://pandas.pydata.org/pandas-docs/stable/_images/08_merge_left.svg\">"
      ]
    },
    {
      "cell_type": "code",
      "metadata": {
        "id": "b1Rl8PUAU0mx",
        "colab_type": "code",
        "colab": {}
      },
      "source": [
        "# 확진자가 없는 날도 일자에 표현이 되도록 전체 일자와 확진 데이터를 merge 로 합쳐줍니다.\n",
        "\n"
      ],
      "execution_count": null,
      "outputs": []
    },
    {
      "cell_type": "markdown",
      "metadata": {
        "id": "vyw7i_VTU0mz",
        "colab_type": "text"
      },
      "source": [
        "## 누적 확진자 수 구하기"
      ]
    },
    {
      "cell_type": "code",
      "metadata": {
        "id": "dyUGNJO9U0m0",
        "colab_type": "code",
        "colab": {}
      },
      "source": [
        "# 확진수를 fillna를 통해 결측치를 0으로 채워주고 누적해서 더해줍니다.\n",
        "\n"
      ],
      "execution_count": null,
      "outputs": []
    },
    {
      "cell_type": "code",
      "metadata": {
        "scrolled": true,
        "id": "HTP2xBRoU0m4",
        "colab_type": "code",
        "colab": {}
      },
      "source": [
        "# 연도를 제외하고 월-일로 \"일자\" 컬럼 만들기\n",
        "\n"
      ],
      "execution_count": null,
      "outputs": []
    },
    {
      "cell_type": "code",
      "metadata": {
        "id": "zR3XccxmU0m8",
        "colab_type": "code",
        "colab": {}
      },
      "source": [
        "# \"확진수\", \"누적확진\" 컬럼을 갖는 데이터프레임을 만듭니다.\n"
      ],
      "execution_count": null,
      "outputs": []
    },
    {
      "cell_type": "markdown",
      "metadata": {
        "id": "SGbOJ3dVU0nB",
        "colab_type": "text"
      },
      "source": [
        "### 데이터프레임으로 그리기"
      ]
    },
    {
      "cell_type": "code",
      "metadata": {
        "id": "TAQ2D2D2U0nC",
        "colab_type": "code",
        "colab": {}
      },
      "source": [
        "# 데이터프레임으로 확진수와 누적확진을 선그래프로 그립니다.\n",
        "\n"
      ],
      "execution_count": null,
      "outputs": []
    },
    {
      "cell_type": "markdown",
      "metadata": {
        "id": "1bYrbX24U0nG",
        "colab_type": "text"
      },
      "source": [
        "### 시리즈로 그리기"
      ]
    },
    {
      "cell_type": "code",
      "metadata": {
        "id": "50kupxYUU0nH",
        "colab_type": "code",
        "colab": {}
      },
      "source": [
        "# 시리즈로 2개의 그래프 그리기\n",
        "\n"
      ],
      "execution_count": null,
      "outputs": []
    },
    {
      "cell_type": "markdown",
      "metadata": {
        "id": "cqWZy6BbU0nM",
        "colab_type": "text"
      },
      "source": [
        "### 확진수만 따로 그리기"
      ]
    },
    {
      "cell_type": "code",
      "metadata": {
        "scrolled": true,
        "id": "t7IWQK62U0nO",
        "colab_type": "code",
        "colab": {}
      },
      "source": [
        "# 누적확진수와 확진수와 차이가 크면 제대로 보이지 않기 때문에 확진수만 그립니다.\n",
        "\n"
      ],
      "execution_count": null,
      "outputs": []
    },
    {
      "cell_type": "markdown",
      "metadata": {
        "id": "8bhND2haU0nT",
        "colab_type": "text"
      },
      "source": [
        "### 누적확진만 따로 그리기"
      ]
    },
    {
      "cell_type": "code",
      "metadata": {
        "id": "jMaVCzSoU0nU",
        "colab_type": "code",
        "colab": {}
      },
      "source": [
        "# 누적확진만 따로 그립니다.\n",
        "\n"
      ],
      "execution_count": null,
      "outputs": []
    },
    {
      "cell_type": "markdown",
      "metadata": {
        "id": "5NC6UmilU0nY",
        "colab_type": "text"
      },
      "source": [
        "### 로그스케일\n",
        "* 차이가 너무 커서 그래프가 자세히 보이지 않을때 로그스케일로 표현하면 차이가 큰 값의 스케일을 조정해주게 됩니다."
      ]
    },
    {
      "cell_type": "code",
      "metadata": {
        "id": "01T1oxeeU0nY",
        "colab_type": "code",
        "colab": {}
      },
      "source": [
        ""
      ],
      "execution_count": null,
      "outputs": []
    },
    {
      "cell_type": "markdown",
      "metadata": {
        "id": "HQz4tuJzU0nb",
        "colab_type": "text"
      },
      "source": [
        "### 확진월과 요일 구하기"
      ]
    },
    {
      "cell_type": "code",
      "metadata": {
        "id": "AZYPOzMaU0nb",
        "colab_type": "code",
        "colab": {}
      },
      "source": [
        ""
      ],
      "execution_count": null,
      "outputs": []
    },
    {
      "cell_type": "markdown",
      "metadata": {
        "id": "K7nHfqIpU0nf",
        "colab_type": "text"
      },
      "source": [
        "## 요일별 확진 수 "
      ]
    },
    {
      "cell_type": "code",
      "metadata": {
        "id": "o5zvAH7YU0ng",
        "colab_type": "code",
        "colab": {}
      },
      "source": [
        "# 월별, 요일별 확진수를 groupby로 구하기\n",
        "\n"
      ],
      "execution_count": null,
      "outputs": []
    },
    {
      "cell_type": "code",
      "metadata": {
        "id": "VhFV4F4xU0nk",
        "colab_type": "code",
        "colab": {}
      },
      "source": [
        "# 숫자로 표현된 요일을 문자로 바꿔주기 위해 split 을 통해 문자를 리스트로 변경합니다.\n",
        "# dayofweek\n"
      ],
      "execution_count": null,
      "outputs": []
    },
    {
      "cell_type": "code",
      "metadata": {
        "id": "AxRRfMnKU0nn",
        "colab_type": "code",
        "colab": {}
      },
      "source": [
        "# 컬럼의 이름을 한글요일명으로 변경해 줍니다.\n",
        "\n"
      ],
      "execution_count": null,
      "outputs": []
    },
    {
      "cell_type": "code",
      "metadata": {
        "id": "hs9x4Lz9U0nq",
        "colab_type": "code",
        "colab": {}
      },
      "source": [
        "# style.background_gradient 로 색상을 표현합니다.\n",
        "\n"
      ],
      "execution_count": null,
      "outputs": []
    },
    {
      "cell_type": "markdown",
      "metadata": {
        "id": "FBXMU8qDU0nu",
        "colab_type": "text"
      },
      "source": [
        "## 거주지별 확진자"
      ]
    },
    {
      "cell_type": "code",
      "metadata": {
        "id": "b8RqUQiiU0nv",
        "colab_type": "code",
        "colab": {}
      },
      "source": [
        "# 거주지(구별) 확진자의 빈도수를 구하고 시각화 합니다.\n",
        "\n"
      ],
      "execution_count": null,
      "outputs": []
    },
    {
      "cell_type": "code",
      "metadata": {
        "id": "9HVz-5fnU0n2",
        "colab_type": "code",
        "colab": {}
      },
      "source": [
        "# 구별 확진자의 수를 시각화 합니다.\n",
        "\n"
      ],
      "execution_count": null,
      "outputs": []
    },
    {
      "cell_type": "code",
      "metadata": {
        "id": "9JEKbwcnU0n3",
        "colab_type": "code",
        "colab": {}
      },
      "source": [
        "# 서울에서 확진판정을 받은 데이터이기 때문에 거주지가 서울이 아닐 수도 있습니다.\n",
        "# 거주지 별로 서울시에 해당되는 데이터만 따로 가져옵니다.\n",
        "\n"
      ],
      "execution_count": null,
      "outputs": []
    },
    {
      "cell_type": "code",
      "metadata": {
        "id": "bs1yoS9HU0n-",
        "colab_type": "code",
        "colab": {}
      },
      "source": [
        "# 거주지가 서울이 아닌 지역을 따로 추출합니다.\n",
        "\n"
      ],
      "execution_count": null,
      "outputs": []
    },
    {
      "cell_type": "code",
      "metadata": {
        "id": "YphU5IEuU0oB",
        "colab_type": "code",
        "colab": {}
      },
      "source": [
        "# 구를 전처리 하기 쉽게 컬럼으로 변환하기 위해 reset_index 로 변환합니다.\n",
        "\n"
      ],
      "execution_count": null,
      "outputs": []
    },
    {
      "cell_type": "code",
      "metadata": {
        "id": "G2cKjqa1U0oE",
        "colab_type": "code",
        "colab": {}
      },
      "source": [
        "# 서울에서 확진 받은 사람 중 서울 vs 타지역을 비교해 보기 위해\n",
        "# \"지역\"이라는 새로운 컬럼을 만들어 서울지역이 아니라면 \"타지역\" 이라는 값을 넣어줍니다. \n",
        "# .loc[행인덱스]\n",
        "# .loc[행, 열]\n",
        "# .loc[조건, 열]\n",
        "\n"
      ],
      "execution_count": null,
      "outputs": []
    },
    {
      "cell_type": "code",
      "metadata": {
        "scrolled": true,
        "id": "qMJBvInBU0oI",
        "colab_type": "code",
        "colab": {}
      },
      "source": [
        "# 위의 방법으로 할수도 있고 아래의 방법으로 만들수도 있습니다.\n",
        "# 함수 혹은 익명함수를 사용하는 방법으로 \"타지역\" 값을 만들 수도 있습니다.\n",
        "\n"
      ],
      "execution_count": null,
      "outputs": []
    },
    {
      "cell_type": "code",
      "metadata": {
        "id": "SA9iNWbtU0oN",
        "colab_type": "code",
        "colab": {}
      },
      "source": [
        "# \"지역\" 컬럼으로 확진자 빈도수를 구합니다.\n",
        "\n"
      ],
      "execution_count": null,
      "outputs": []
    },
    {
      "cell_type": "code",
      "metadata": {
        "id": "xPy4EMhbU0oP",
        "colab_type": "code",
        "colab": {}
      },
      "source": [
        "# 위에서 구한 빈도수를 막대그래프로 그립니다.\n",
        "\n"
      ],
      "execution_count": null,
      "outputs": []
    },
    {
      "cell_type": "markdown",
      "metadata": {
        "id": "hx15Os8CU0oS",
        "colab_type": "text"
      },
      "source": [
        "## 접촉력"
      ]
    },
    {
      "cell_type": "code",
      "metadata": {
        "id": "HKbZktneU0oS",
        "colab_type": "code",
        "colab": {}
      },
      "source": [
        "# 접촉력 빈도수를 구합니다.\n",
        "\n"
      ],
      "execution_count": null,
      "outputs": []
    },
    {
      "cell_type": "code",
      "metadata": {
        "id": "vlnu8ybGU0oW",
        "colab_type": "code",
        "colab": {}
      },
      "source": [
        "# 접촉력의 unique 값만 구합니다.\n",
        "\n"
      ],
      "execution_count": null,
      "outputs": []
    },
    {
      "cell_type": "code",
      "metadata": {
        "id": "bYhtVsL3U0oX",
        "colab_type": "code",
        "colab": {}
      },
      "source": [
        "# \"확인\" 이 들어가는 접촉력만 찾습니다.\n",
        "\n"
      ],
      "execution_count": null,
      "outputs": []
    },
    {
      "cell_type": "code",
      "metadata": {
        "id": "GuVdTD2rU0oa",
        "colab_type": "code",
        "colab": {}
      },
      "source": [
        "# '확인 중', '확인중' => \"확인 중\" 으로 변경합니다.\n",
        "\n"
      ],
      "execution_count": null,
      "outputs": []
    },
    {
      "cell_type": "code",
      "metadata": {
        "id": "6HkeVoxWU0oc",
        "colab_type": "code",
        "colab": {}
      },
      "source": [
        "# \"확인\" 이 들어가는 접촉력만 찾습니다.\n",
        "\n"
      ],
      "execution_count": null,
      "outputs": []
    },
    {
      "cell_type": "code",
      "metadata": {
        "id": "Y7mZLMXAU0oe",
        "colab_type": "code",
        "colab": {}
      },
      "source": [
        "# 접촉력 빈도수를 시각화 합니다.\n",
        "\n"
      ],
      "execution_count": null,
      "outputs": []
    },
    {
      "cell_type": "code",
      "metadata": {
        "id": "Wghxuv_PU0og",
        "colab_type": "code",
        "colab": {}
      },
      "source": [
        "# 상위 15개만 구합니다.\n"
      ],
      "execution_count": null,
      "outputs": []
    },
    {
      "cell_type": "code",
      "metadata": {
        "id": "Mh1aVruqU0oi",
        "colab_type": "code",
        "colab": {}
      },
      "source": [
        "# 접촉력 빈도수가 높은 목록에 대한 index 값을 구해옵니다.\n",
        "\n"
      ],
      "execution_count": null,
      "outputs": []
    },
    {
      "cell_type": "code",
      "metadata": {
        "id": "mQ4f-QRnU0ok",
        "colab_type": "code",
        "colab": {}
      },
      "source": [
        "# 위에서 구한 top_contact 에 해당되는 데이터만 isin 으로 가져옵니다.\n"
      ],
      "execution_count": null,
      "outputs": []
    },
    {
      "cell_type": "code",
      "metadata": {
        "id": "LRLYls8XU0ol",
        "colab_type": "code",
        "colab": {}
      },
      "source": [
        "# 접촉력, 월별 빈도수를 groupby 로 구합니다.\n"
      ],
      "execution_count": null,
      "outputs": []
    },
    {
      "cell_type": "markdown",
      "metadata": {
        "id": "z15d2D4xU0on",
        "colab_type": "text"
      },
      "source": [
        "### 이태원 클럽 관련\n",
        "* 이태원 클럽 전파는 5월에 시작되었으나 6월에도 확진자가 있습니다.\n",
        "* 6월에 이태원 클럽관련 확진자를 찾아봅니다."
      ]
    },
    {
      "cell_type": "code",
      "metadata": {
        "id": "J6Bi4oSRU0oo",
        "colab_type": "code",
        "colab": {}
      },
      "source": [
        ""
      ],
      "execution_count": null,
      "outputs": []
    },
    {
      "cell_type": "markdown",
      "metadata": {
        "id": "qdVthzlbU0op",
        "colab_type": "text"
      },
      "source": [
        "### 감염경로 불명"
      ]
    },
    {
      "cell_type": "code",
      "metadata": {
        "id": "F1tPEmneU0oq",
        "colab_type": "code",
        "colab": {}
      },
      "source": [
        "# \"접촉력\" 이 \"확인 중\"인 데이터만 구합니다.\n",
        "\n"
      ],
      "execution_count": null,
      "outputs": []
    },
    {
      "cell_type": "code",
      "metadata": {
        "id": "_dwBGh-yU0ou",
        "colab_type": "code",
        "colab": {}
      },
      "source": [
        "# 감염경로 불명이 어느정도인지 봅니다.\n"
      ],
      "execution_count": null,
      "outputs": []
    },
    {
      "cell_type": "code",
      "metadata": {
        "id": "fy1OT1wwU0ov",
        "colab_type": "code",
        "colab": {}
      },
      "source": [
        "# 전체 확진수를 value_counts 로 구하고 데이터프레임 형태로 만듭니다.\n",
        "# all_weekly_case\n",
        "\n"
      ],
      "execution_count": null,
      "outputs": []
    },
    {
      "cell_type": "code",
      "metadata": {
        "id": "xEFrx6e7U0oy",
        "colab_type": "code",
        "colab": {}
      },
      "source": [
        "# 전체 확진수를 value_counts 로 구하고 데이터프레임 형태로 만듭니다.\n",
        "# unknown_weekly_case\n",
        "\n"
      ],
      "execution_count": null,
      "outputs": []
    },
    {
      "cell_type": "code",
      "metadata": {
        "id": "n46oKbfIU0o0",
        "colab_type": "code",
        "colab": {}
      },
      "source": [
        "# all_weekly_case 와 unknown_weekly_case 를 비교해 봅니다.\n",
        "\n"
      ],
      "execution_count": null,
      "outputs": []
    },
    {
      "cell_type": "code",
      "metadata": {
        "id": "fW9rxnGLU0o3",
        "colab_type": "code",
        "colab": {}
      },
      "source": [
        "# 위에서 구한 결과를 시각화 합니다.\n",
        "\n"
      ],
      "execution_count": null,
      "outputs": []
    },
    {
      "cell_type": "code",
      "metadata": {
        "id": "wHzw1nk9U0o4",
        "colab_type": "code",
        "colab": {}
      },
      "source": [
        "# 감염경로 \"확인 중\"의 주별 비율\n",
        "\n"
      ],
      "execution_count": null,
      "outputs": []
    },
    {
      "cell_type": "markdown",
      "metadata": {
        "id": "ZRpjB4NpU0o6",
        "colab_type": "text"
      },
      "source": [
        "## 가장 많은 전파가 일어난 번호\n",
        "* [정규 표현식 - 위키백과, 우리 모두의 백과사전](https://ko.wikipedia.org/wiki/%EC%A0%95%EA%B7%9C_%ED%91%9C%ED%98%84%EC%8B%9D)\n",
        "\n",
        "\n",
        "* 파이썬 공식문서 정규표현식 참고하기 : \n",
        "    * https://docs.python.org/3.8/library/re.html#re.sub\n",
        "    \n",
        "    \n",
        "* 문자열 바꾸기 : re.sub(\"규칙\", \"패턴\", \"데이터\")\n",
        "    * https://docs.python.org/3.8/library/re.html#text-munging\n",
        "\n",
        "\n",
        "* 정규표현식 문자열 패턴\n",
        "    * https://docs.python.org/3.8/howto/regex.html#matching-characters\n",
        "\n",
        "    \n",
        "    \n",
        "* [    ] : 일치시킬 문자 세트의 패턴\n",
        "* [가나다] : 가 or 나 or 다 중에 하나를 포함하고 있는지\n",
        "* [가-힣] : 한글 가부터 힣까의 문자 중 하나를 포함하고 있는지\n",
        "* [0-9] : 0~9까지의 숫자 중 하나를 포함하고 있는지\n",
        "* [^0-9] : 숫자를 포함하고 있지 않음\n",
        "* [^가-힣] : 한글이 포함되어 있지 않음\n",
        "* [가-힣+] : 한글이 하나 이상 포함되는지\n"
      ]
    },
    {
      "cell_type": "code",
      "metadata": {
        "id": "A-EJePIWU0o6",
        "colab_type": "code",
        "colab": {}
      },
      "source": [
        "import re\n",
        "# 정규표현식 라이브러리를 불러옵니다.\n",
        "# 숫자외의 데이터는 제거하는 정규표현식\n",
        "# #7265 접촉(추정)\n",
        "\n"
      ],
      "execution_count": null,
      "outputs": []
    },
    {
      "cell_type": "code",
      "metadata": {
        "id": "YMSf68EPU0o8",
        "colab_type": "code",
        "colab": {}
      },
      "source": [
        "# 함수를 통해 숫자외의 문자를 제거하는 get_number 함수를 만듭니다.\n",
        "\n"
      ],
      "execution_count": null,
      "outputs": []
    },
    {
      "cell_type": "code",
      "metadata": {
        "id": "bv_Uohx_U0o_",
        "colab_type": "code",
        "colab": {}
      },
      "source": [
        "# 함수를 map을 통해 접촉번호를 구합니다.\n",
        "\n"
      ],
      "execution_count": null,
      "outputs": []
    },
    {
      "cell_type": "code",
      "metadata": {
        "id": "6ZR_BDRKU0pB",
        "colab_type": "code",
        "colab": {}
      },
      "source": [
        "# 접촉번호가 없는 0번 행은 drop 으로 삭제합니다.\n",
        "# 한번 drop 한 셀을 다시 drop 하면 이미 삭제를 했는데 다시 삭제하려 하기 때문에 KeyError 가 납니다. \n",
        "# 다시 실행했을 때 KeyError 가 발생하는 것이 정상입니다.\n",
        "\n"
      ],
      "execution_count": null,
      "outputs": []
    },
    {
      "cell_type": "code",
      "metadata": {
        "id": "mUH_yMp3U0pD",
        "colab_type": "code",
        "colab": {}
      },
      "source": [
        "# 상위 10개의 접촉번호를 구해서 top_contact_no 변수에 할당하고 재사용합니다.\n",
        "\n"
      ],
      "execution_count": null,
      "outputs": []
    },
    {
      "cell_type": "code",
      "metadata": {
        "id": "2M7b3x84U0pH",
        "colab_type": "code",
        "colab": {}
      },
      "source": [
        "# contact의 환자번호와 df의 접촉번호를 merge 합니다.\n",
        "\n"
      ],
      "execution_count": null,
      "outputs": []
    },
    {
      "cell_type": "markdown",
      "metadata": {
        "id": "wEi193srU0pI",
        "colab_type": "text"
      },
      "source": [
        "## 조치사항"
      ]
    },
    {
      "cell_type": "code",
      "metadata": {
        "id": "75_8sm53U0pI",
        "colab_type": "code",
        "colab": {}
      },
      "source": [
        "# 조치사항에 대한 빈도수를 세어봅니다.\n",
        "# value_counts 는 Series 에만 사용할 수 있습니다.\n",
        "# 단일 변수의 빈도수를 세는데 사용합니다.\n",
        "\n"
      ],
      "execution_count": null,
      "outputs": []
    },
    {
      "cell_type": "markdown",
      "metadata": {
        "id": "B_oynjhfU0pK",
        "colab_type": "text"
      },
      "source": [
        "## 퇴원, 사망여부"
      ]
    },
    {
      "cell_type": "code",
      "metadata": {
        "id": "LdpV0cX-U0pL",
        "colab_type": "code",
        "colab": {}
      },
      "source": [
        "# 조치사항 컬럼을 통해 퇴원과 사망 컬럼을 새로 만듭니다.\n",
        "# 또, 어느 병원에 조치되었는지도 병원 컬럼을 만들어서 담습니다.\n",
        "\n"
      ],
      "execution_count": null,
      "outputs": []
    },
    {
      "cell_type": "code",
      "metadata": {
        "id": "_QHTLl9mU0pM",
        "colab_type": "code",
        "colab": {}
      },
      "source": [
        "# 데이터 수집 시점에서 퇴원하지 못한 환자수\n",
        "\n"
      ],
      "execution_count": null,
      "outputs": []
    },
    {
      "cell_type": "code",
      "metadata": {
        "id": "E2SFVa5tU0pO",
        "colab_type": "code",
        "colab": {}
      },
      "source": [
        "# 퇴원여부 빈도수에 대한 비율을 구합니다.\n",
        "\n"
      ],
      "execution_count": null,
      "outputs": []
    },
    {
      "cell_type": "code",
      "metadata": {
        "id": "ZmR9RQcvU0pP",
        "colab_type": "code",
        "colab": {}
      },
      "source": [
        "# 사망여부에 따른 빈도수를 구합니다.\n",
        "\n"
      ],
      "execution_count": null,
      "outputs": []
    },
    {
      "cell_type": "code",
      "metadata": {
        "id": "-QGFUzr0U0pQ",
        "colab_type": "code",
        "colab": {}
      },
      "source": [
        "# 사망 여부에 따른 빈도수의 비율을 구합니다.\n"
      ],
      "execution_count": null,
      "outputs": []
    },
    {
      "cell_type": "markdown",
      "metadata": {
        "id": "8Q0UhjHxU0pS",
        "colab_type": "text"
      },
      "source": [
        "* 데이터 수집 시점 기준 현재까지 입원해 있는 확진자 중 가장 오래 입원해 있는 확진자"
      ]
    },
    {
      "cell_type": "code",
      "metadata": {
        "id": "MKNLw2EIU0pS",
        "colab_type": "code",
        "colab": {}
      },
      "source": [
        "# 데이터 수집 시점 기준 현재까지 입원해 있는 확진자 중 가장 오래 입원해 있는 확진자\n",
        "\n"
      ],
      "execution_count": null,
      "outputs": []
    },
    {
      "cell_type": "markdown",
      "metadata": {
        "id": "2YB5K9XxU0pU",
        "colab_type": "text"
      },
      "source": [
        "## 병원"
      ]
    },
    {
      "cell_type": "code",
      "metadata": {
        "id": "chjb5OSTU0pV",
        "colab_type": "code",
        "colab": {}
      },
      "source": [
        "# describe 로 요약을 합니다.\n",
        "# count : 빈도수\n",
        "# unique : 병원수\n",
        "# top : 가장 많은 빈도로 등장하는 텍스트\n",
        "# freq : 가장 많은 빈도의 횟수\n",
        "\n"
      ],
      "execution_count": null,
      "outputs": []
    },
    {
      "cell_type": "code",
      "metadata": {
        "scrolled": false,
        "id": "XW-wsrfcU0pX",
        "colab_type": "code",
        "colab": {}
      },
      "source": [
        "# 병원의 빈도수를 구합니다.\n",
        "\n"
      ],
      "execution_count": null,
      "outputs": []
    },
    {
      "cell_type": "code",
      "metadata": {
        "id": "PYEQcs_LU0pZ",
        "colab_type": "code",
        "colab": {}
      },
      "source": [
        "# 병원별 빈도수를 막대그래프로 표현합니다.\n",
        "\n"
      ],
      "execution_count": null,
      "outputs": []
    },
    {
      "cell_type": "code",
      "metadata": {
        "id": "Jn8mCvV2U0pa",
        "colab_type": "code",
        "colab": {}
      },
      "source": [
        "# 입원환자가 많은 병원을 구합니다.\n",
        "\n"
      ],
      "execution_count": null,
      "outputs": []
    },
    {
      "cell_type": "markdown",
      "metadata": {
        "id": "sHoQf1ftU0pb",
        "colab_type": "text"
      },
      "source": [
        "### iloc 로 일부 데이터만 보기"
      ]
    },
    {
      "cell_type": "code",
      "metadata": {
        "id": "NVFQsuTwU0pb",
        "colab_type": "code",
        "colab": {}
      },
      "source": [
        "# 전체 데이터를 보기에 너무 많을 수 있기 때문에 iloc 를 사용해서 일부 데이터만 봅니다.\n",
        "\n"
      ],
      "execution_count": null,
      "outputs": []
    },
    {
      "cell_type": "markdown",
      "metadata": {
        "id": "QCiKpEtvU0pd",
        "colab_type": "text"
      },
      "source": [
        "### loc로 일부 데이터만 보기\n",
        "* iloc 와 loc의 차이점을 비교해 보세요."
      ]
    },
    {
      "cell_type": "code",
      "metadata": {
        "id": "_aEzsve1U0pd",
        "colab_type": "code",
        "colab": {}
      },
      "source": [
        ""
      ],
      "execution_count": null,
      "outputs": []
    },
    {
      "cell_type": "code",
      "metadata": {
        "id": "evTKJD9QU0pg",
        "colab_type": "code",
        "colab": {}
      },
      "source": [
        ""
      ],
      "execution_count": null,
      "outputs": []
    },
    {
      "cell_type": "code",
      "metadata": {
        "id": "ny3Om5OgU0pi",
        "colab_type": "code",
        "colab": {}
      },
      "source": [
        ""
      ],
      "execution_count": null,
      "outputs": []
    },
    {
      "cell_type": "markdown",
      "metadata": {
        "id": "fq8-yv-nU0pl",
        "colab_type": "text"
      },
      "source": [
        "### pandas style 적용하기"
      ]
    },
    {
      "cell_type": "code",
      "metadata": {
        "scrolled": false,
        "id": "lHXNzQmjU0pl",
        "colab_type": "code",
        "colab": {}
      },
      "source": [
        ""
      ],
      "execution_count": null,
      "outputs": []
    },
    {
      "cell_type": "code",
      "metadata": {
        "id": "B79fcNW2U0pn",
        "colab_type": "code",
        "colab": {}
      },
      "source": [
        "# 전체 병원이 너무 많기 때문에 환자가 많은 병원만 따로 봅니다.\n"
      ],
      "execution_count": null,
      "outputs": []
    },
    {
      "cell_type": "markdown",
      "metadata": {
        "id": "FOM9PhaDU0po",
        "colab_type": "text"
      },
      "source": [
        "## 여행력"
      ]
    },
    {
      "cell_type": "code",
      "metadata": {
        "id": "mDdxC09-U0pp",
        "colab_type": "code",
        "colab": {}
      },
      "source": [
        "# \"해외\" 라는 컬럼을 만들어 데이터를 전처리 합니다.\n",
        "# \"여행력\"에 \"-\" 문자가 들어가 있으면 결측치로 처리합니다.\n",
        "# df[\"해외\"]\n"
      ],
      "execution_count": null,
      "outputs": []
    },
    {
      "cell_type": "code",
      "metadata": {
        "id": "9jaUtOruU0pq",
        "colab_type": "code",
        "colab": {}
      },
      "source": [
        "# describe 로 요약을 합니다.\n",
        "# count : 빈도수\n",
        "# unique : 병원수\n",
        "# top : 가장 많은 빈도로 등장하는 텍스트\n",
        "# freq : 가장 많은 빈도의 횟수\n"
      ],
      "execution_count": null,
      "outputs": []
    },
    {
      "cell_type": "code",
      "metadata": {
        "id": "HAHZLmTuU0pr",
        "colab_type": "code",
        "colab": {}
      },
      "source": [
        ""
      ],
      "execution_count": null,
      "outputs": []
    },
    {
      "cell_type": "markdown",
      "metadata": {
        "id": "YIS7tskUU0pt",
        "colab_type": "text"
      },
      "source": [
        "### 여행력이 있는 데이터만 가져와서 서브셋 만들기"
      ]
    },
    {
      "cell_type": "code",
      "metadata": {
        "id": "WF5hBw9oU0pt",
        "colab_type": "code",
        "colab": {}
      },
      "source": [
        "# \"해외\" 컬럼의 값이 결측치가 아닌 데이터만 가져와서 \n",
        "# df_oversea 라는 새로운 데이터프레임에 담습니다.\n"
      ],
      "execution_count": null,
      "outputs": []
    },
    {
      "cell_type": "code",
      "metadata": {
        "id": "t2uYW1ygU0pv",
        "colab_type": "code",
        "colab": {}
      },
      "source": [
        "# 중복되는 지역명이 있는지 확인합니다.\n"
      ],
      "execution_count": null,
      "outputs": []
    },
    {
      "cell_type": "markdown",
      "metadata": {
        "id": "2LuoK2c0U0pw",
        "colab_type": "text"
      },
      "source": [
        "### 텍스트 데이터 다루기\n",
        "[Working with text data — pandas documentation](https://pandas.pydata.org/pandas-docs/stable/user_guide/text.html#testing-for-strings-that-match-or-contain-a-pattern)"
      ]
    },
    {
      "cell_type": "code",
      "metadata": {
        "id": "cBVfHLrsU0pw",
        "colab_type": "code",
        "colab": {}
      },
      "source": [
        "# 유럽 지역을 방문했다면 유럽이라고 바꿔주기 위해 국가명을 str.contains 로 검색하기 위한 형태로 만듭니다.\n",
        "europe = \"체코, 헝가리, 오스트리아, 이탈리아, 프랑스, 모로코, 독일, 스페인, 영국, 폴란드, 터키, 아일랜드\"\n"
      ],
      "execution_count": null,
      "outputs": []
    },
    {
      "cell_type": "code",
      "metadata": {
        "id": "FtQj7lY2U0px",
        "colab_type": "code",
        "colab": {}
      },
      "source": [
        "# 남미 지역에 해당되는 국가명을 str.contains 로 검색하기 위한 형태로 만듭니다.\n",
        "south_america = \"브라질, 아르헨티아, 칠레, 볼리비아, 멕시코, 페루\"\n"
      ],
      "execution_count": null,
      "outputs": []
    },
    {
      "cell_type": "code",
      "metadata": {
        "id": "370es3l4U0p1",
        "colab_type": "code",
        "colab": {}
      },
      "source": [
        "# 중복되는 국가나 지역을 특정 텍스트로 변경해서 그룹화 해서 빈도수를 세어볼 예정입니다.\n",
        "# .str.contains 와 .loc 를 사용해서 전처리 합니다.\n",
        "\n"
      ],
      "execution_count": null,
      "outputs": []
    },
    {
      "cell_type": "code",
      "metadata": {
        "id": "PhruRMmuU0p4",
        "colab_type": "code",
        "colab": {}
      },
      "source": [
        "# describe 로 요약을 합니다.\n",
        "# count : 빈도수\n",
        "# unique : 병원수\n",
        "# top : 가장 많은 빈도로 등장하는 텍스트\n",
        "# freq : 가장 많은 빈도의 횟수\n"
      ],
      "execution_count": null,
      "outputs": []
    },
    {
      "cell_type": "code",
      "metadata": {
        "id": "xuQIzRBxU0p6",
        "colab_type": "code",
        "colab": {}
      },
      "source": [
        ""
      ],
      "execution_count": null,
      "outputs": []
    },
    {
      "cell_type": "code",
      "metadata": {
        "id": "VyCDr1I2U0p7",
        "colab_type": "code",
        "colab": {}
      },
      "source": [
        "# 확진일자, 해외 별 카운트 수를 구합니다.\n",
        "\n"
      ],
      "execution_count": null,
      "outputs": []
    },
    {
      "cell_type": "code",
      "metadata": {
        "id": "1VcRzdBaU0p-",
        "colab_type": "code",
        "colab": {}
      },
      "source": [
        "# 위에서 구한 값을 바탕으로 지역별 누적 확진수를 구합니다.\n",
        "\n"
      ],
      "execution_count": null,
      "outputs": []
    },
    {
      "cell_type": "code",
      "metadata": {
        "id": "dIi9lADfU0p_",
        "colab_type": "code",
        "colab": {}
      },
      "source": [
        "# 위에서 구한 값을 reset_index() 를 통해 데이터프레임으로 변경하고 \"연번\" 컬럼을 \"확진자수\"로 변경합니다.\n",
        "\n"
      ],
      "execution_count": null,
      "outputs": []
    },
    {
      "cell_type": "code",
      "metadata": {
        "id": "ym-1-Me1U0qB",
        "colab_type": "code",
        "colab": {}
      },
      "source": [
        "# \"해외\" 컬럼의 빈도수를 구합니다.\n"
      ],
      "execution_count": null,
      "outputs": []
    },
    {
      "cell_type": "code",
      "metadata": {
        "id": "5NSZCSPKU0qC",
        "colab_type": "code",
        "colab": {}
      },
      "source": [
        "# 위에서 구한 빈도수를 시각화 합니다.\n"
      ],
      "execution_count": null,
      "outputs": []
    },
    {
      "cell_type": "code",
      "metadata": {
        "id": "a4LHpACrU0qE",
        "colab_type": "code",
        "colab": {}
      },
      "source": [
        ""
      ],
      "execution_count": null,
      "outputs": []
    },
    {
      "cell_type": "code",
      "metadata": {
        "id": "69OF-WCvU0qG",
        "colab_type": "code",
        "colab": {}
      },
      "source": [
        ""
      ],
      "execution_count": null,
      "outputs": []
    },
    {
      "cell_type": "code",
      "metadata": {
        "id": "Mmg8gTS5U0qH",
        "colab_type": "code",
        "colab": {}
      },
      "source": [
        ""
      ],
      "execution_count": null,
      "outputs": []
    },
    {
      "cell_type": "code",
      "metadata": {
        "id": "vnaQMstoU0qI",
        "colab_type": "code",
        "colab": {}
      },
      "source": [
        ""
      ],
      "execution_count": null,
      "outputs": []
    },
    {
      "cell_type": "code",
      "metadata": {
        "id": "O0bwPO8bU0qJ",
        "colab_type": "code",
        "colab": {}
      },
      "source": [
        ""
      ],
      "execution_count": null,
      "outputs": []
    },
    {
      "cell_type": "code",
      "metadata": {
        "scrolled": false,
        "id": "t9QY-d-tU0qL",
        "colab_type": "code",
        "colab": {}
      },
      "source": [
        ""
      ],
      "execution_count": null,
      "outputs": []
    },
    {
      "cell_type": "code",
      "metadata": {
        "id": "NMu05B2EU0qM",
        "colab_type": "code",
        "colab": {}
      },
      "source": [
        "# \"해외유입 구별 확진자\" 시각화 하기\n",
        "\n"
      ],
      "execution_count": null,
      "outputs": []
    },
    {
      "cell_type": "markdown",
      "metadata": {
        "id": "jbHrOABWU0qN",
        "colab_type": "text"
      },
      "source": [
        "### 전체확진수와 해외유입 확진수 비교"
      ]
    },
    {
      "cell_type": "code",
      "metadata": {
        "id": "fmVH4h1xU0qN",
        "colab_type": "code",
        "colab": {}
      },
      "source": [
        "# all_count_gu 변수에 전체 지역의 확진자수 구하기\n"
      ],
      "execution_count": null,
      "outputs": []
    },
    {
      "cell_type": "code",
      "metadata": {
        "id": "adPUDMNuU0qQ",
        "colab_type": "code",
        "colab": {}
      },
      "source": [
        "# 데이터프레임으로 변환하고 컬럼명 변경하기\n",
        "\n"
      ],
      "execution_count": null,
      "outputs": []
    },
    {
      "cell_type": "code",
      "metadata": {
        "id": "A2YqG7yJU0qR",
        "colab_type": "code",
        "colab": {}
      },
      "source": [
        "# 해외유입확진수 구하기\n",
        "\n"
      ],
      "execution_count": null,
      "outputs": []
    },
    {
      "cell_type": "markdown",
      "metadata": {
        "id": "OjXt4JcHU0qT",
        "colab_type": "text"
      },
      "source": [
        "### merge 를 통해 전체 확진수와 해외유입확진수 비교하기\n",
        "* 이미지 출처 및 Pandas 공식문서 보기 : [How to combine data from multiple tables? — pandas documentation](https://pandas.pydata.org/pandas-docs/stable/getting_started/intro_tutorials/08_combine_dataframes.html#join-tables-using-a-common-identifier)\n",
        "\n",
        "<img src=\"https://pandas.pydata.org/pandas-docs/stable/_images/08_merge_left.svg\">"
      ]
    },
    {
      "cell_type": "code",
      "metadata": {
        "id": "DkGbi6HhU0qT",
        "colab_type": "code",
        "colab": {}
      },
      "source": [
        "# merge 로 합쳐서 전체확진수와 해외유입확진수 비교해 보기\n",
        "\n"
      ],
      "execution_count": null,
      "outputs": []
    },
    {
      "cell_type": "code",
      "metadata": {
        "id": "KNsb0BCfU0qU",
        "colab_type": "code",
        "colab": {}
      },
      "source": [
        "# 시각화 하기\n",
        "\n"
      ],
      "execution_count": null,
      "outputs": []
    },
    {
      "cell_type": "code",
      "metadata": {
        "id": "Mq2sCH-tU0qW",
        "colab_type": "code",
        "colab": {}
      },
      "source": [
        "# df_all_oversea_case[\"해외유입비율\"] 구하기\n",
        "\n"
      ],
      "execution_count": null,
      "outputs": []
    },
    {
      "cell_type": "markdown",
      "metadata": {
        "id": "LV3uA-bNU0qY",
        "colab_type": "text"
      },
      "source": [
        "### 해외유입 확진자 중 퇴원 여부"
      ]
    },
    {
      "cell_type": "code",
      "metadata": {
        "id": "zGn3aR-vU0qY",
        "colab_type": "code",
        "colab": {}
      },
      "source": [
        "# oversea_finish_count 해외유입 확진자 중 퇴원 여부 구하기\n",
        "\n"
      ],
      "execution_count": null,
      "outputs": []
    },
    {
      "cell_type": "markdown",
      "metadata": {
        "id": "5udfTNYSU0qa",
        "colab_type": "text"
      },
      "source": [
        "### 월별 해외 확진자 수"
      ]
    },
    {
      "cell_type": "code",
      "metadata": {
        "id": "Vu26BJsiU0qa",
        "colab_type": "code",
        "colab": {}
      },
      "source": [
        ""
      ],
      "execution_count": null,
      "outputs": []
    },
    {
      "cell_type": "markdown",
      "metadata": {
        "id": "PCBn2ptcU0qe",
        "colab_type": "text"
      },
      "source": [
        "### 구와 월별 해외 확진자 수\n",
        "* groupby, crosstab, pivot_table 로 같은 결과의 테이블이 나오도록 구합니다.\n",
        "#### groupby 로 빈도수 구하기"
      ]
    },
    {
      "cell_type": "code",
      "metadata": {
        "id": "74We3Ye0U0qe",
        "colab_type": "code",
        "colab": {}
      },
      "source": [
        "\n",
        "\n"
      ],
      "execution_count": null,
      "outputs": []
    },
    {
      "cell_type": "markdown",
      "metadata": {
        "id": "m59dNez_U0qg",
        "colab_type": "text"
      },
      "source": [
        "#### crosstab 으로 빈도수 구하기"
      ]
    },
    {
      "cell_type": "code",
      "metadata": {
        "id": "7DW1HRezU0qg",
        "colab_type": "code",
        "colab": {}
      },
      "source": [
        ""
      ],
      "execution_count": null,
      "outputs": []
    },
    {
      "cell_type": "markdown",
      "metadata": {
        "id": "CPKmQU3MU0qi",
        "colab_type": "text"
      },
      "source": [
        "#### pivot_table 로 빈도수 구하기"
      ]
    },
    {
      "cell_type": "code",
      "metadata": {
        "id": "2Qnwxk4fU0qj",
        "colab_type": "code",
        "colab": {}
      },
      "source": [
        ""
      ],
      "execution_count": null,
      "outputs": []
    },
    {
      "cell_type": "markdown",
      "metadata": {
        "id": "jj2HqwIYU0qk",
        "colab_type": "text"
      },
      "source": [
        "### 해외유입이 많은 지역"
      ]
    },
    {
      "cell_type": "code",
      "metadata": {
        "scrolled": false,
        "id": "c86oY4MbU0ql",
        "colab_type": "code",
        "colab": {}
      },
      "source": [
        "# 해외유입이 많은 상위 10개 지역을 구합니다.\n",
        "# top_oversea_gu\n"
      ],
      "execution_count": null,
      "outputs": []
    },
    {
      "cell_type": "code",
      "metadata": {
        "id": "LILzkTYiU0qo",
        "colab_type": "code",
        "colab": {}
      },
      "source": [
        "# 시각화 하기\n",
        "\n"
      ],
      "execution_count": null,
      "outputs": []
    },
    {
      "cell_type": "markdown",
      "metadata": {
        "id": "6xvQhDjlU0qr",
        "colab_type": "text"
      },
      "source": [
        "### 구별 해외유입 국가 분석하기\n",
        "#### groupby 로 구하기"
      ]
    },
    {
      "cell_type": "code",
      "metadata": {
        "id": "pfNUL5XyU0qr",
        "colab_type": "code",
        "colab": {}
      },
      "source": [
        ""
      ],
      "execution_count": null,
      "outputs": []
    },
    {
      "cell_type": "markdown",
      "metadata": {
        "id": "cgMsbc5hU0qs",
        "colab_type": "text"
      },
      "source": [
        "#### pivot table 로 구하기\n",
        "* groupby 로 구한 결과와 같은 결과가 나오게 구합니다."
      ]
    },
    {
      "cell_type": "code",
      "metadata": {
        "id": "-s19Y8EbU0qt",
        "colab_type": "code",
        "colab": {}
      },
      "source": [
        ""
      ],
      "execution_count": null,
      "outputs": []
    },
    {
      "cell_type": "markdown",
      "metadata": {
        "id": "XzDaE_prU0qu",
        "colab_type": "text"
      },
      "source": [
        "#### 일부 구만 따로 보기\n",
        "* 전체는 너무 많기 때문에 특정 구만 따로 봅니다."
      ]
    },
    {
      "cell_type": "code",
      "metadata": {
        "id": "S8VG7e8TU0qv",
        "colab_type": "code",
        "colab": {}
      },
      "source": [
        "# 강남 3구의 입국자는 해외 어느 지역에서 입국했나?\n",
        "\n"
      ],
      "execution_count": null,
      "outputs": []
    },
    {
      "cell_type": "code",
      "metadata": {
        "id": "-0Be9iifU0qw",
        "colab_type": "code",
        "colab": {}
      },
      "source": [
        "# top_oversea_gu 에 따른 확진수 보기\n"
      ],
      "execution_count": null,
      "outputs": []
    },
    {
      "cell_type": "markdown",
      "metadata": {
        "id": "W8BW8OoIU0qy",
        "colab_type": "text"
      },
      "source": [
        "### 최근 데이터를 불러와 실습해 보기\n",
        "* 이 실습을 진행하고 계신 여러분들은 이 시점보다 미래에 있겠죠?\n",
        "* 같은 내용의 실습을 최근 데이터로 해보세요!"
      ]
    },
    {
      "cell_type": "code",
      "metadata": {
        "id": "GD5npssgU0qy",
        "colab_type": "code",
        "colab": {}
      },
      "source": [
        ""
      ],
      "execution_count": null,
      "outputs": []
    }
  ]
}